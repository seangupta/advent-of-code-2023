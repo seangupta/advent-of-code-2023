{
 "cells": [
  {
   "cell_type": "code",
   "execution_count": null,
   "metadata": {},
   "outputs": [],
   "source": [
    "from pathlib import Path\n",
    "import os\n",
    "from collections import Counter"
   ]
  },
  {
   "cell_type": "code",
   "execution_count": null,
   "metadata": {},
   "outputs": [],
   "source": [
    "fp = os.path.join(Path().absolute(), \"inputs\", \"input7.txt\")\n",
    "\n",
    "with open(fp, \"r\") as f:\n",
    "    data = f.readlines()"
   ]
  },
  {
   "cell_type": "markdown",
   "metadata": {},
   "source": [
    "# Part 1"
   ]
  },
  {
   "cell_type": "code",
   "execution_count": null,
   "metadata": {},
   "outputs": [],
   "source": [
    "hands = []\n",
    "bids = []\n",
    "\n",
    "for line in data:\n",
    "    line_stripped = line.strip()\n",
    "    print(line_stripped)\n",
    "    hand, bid = line_stripped.split()\n",
    "    bid = int(bid)\n",
    "    hands.append(hand)\n",
    "    bids.append(bid)"
   ]
  },
  {
   "cell_type": "code",
   "execution_count": null,
   "metadata": {},
   "outputs": [],
   "source": [
    "hand"
   ]
  },
  {
   "cell_type": "code",
   "execution_count": null,
   "metadata": {},
   "outputs": [],
   "source": [
    "c = dict(Counter(hand))\n",
    "c"
   ]
  },
  {
   "cell_type": "code",
   "execution_count": null,
   "metadata": {},
   "outputs": [],
   "source": [
    "def get_main_score(hand):\n",
    "\n",
    "    c = dict(Counter(hand))\n",
    "    max_freq = max(c.values())\n",
    "    \n",
    "    if max_freq == 5:\n",
    "        score = 7\n",
    "    elif max_freq == 4:\n",
    "        score = 6\n",
    "    elif max_freq == 3:\n",
    "        most_frequent_card = [card for card in c if c[card] == 3][0]\n",
    "        other_cards = {card: count for card, count in c.items() if card != most_frequent_card}\n",
    "        if max(other_cards.values()) == 2:\n",
    "            score = 5\n",
    "        else:\n",
    "            score = 4\n",
    "    elif max_freq == 2:\n",
    "        most_frequent_cards = [card for card in c if c[card] == 2]\n",
    "        if len(most_frequent_cards) == 2:\n",
    "            score = 3\n",
    "        else:\n",
    "            score = 2\n",
    "    else:\n",
    "        score = 1\n",
    "\n",
    "    return score\n",
    "\n",
    "def get_subscore(hand):\n",
    "\n",
    "    d = {\"2\": 0, \"3\": 1, \"4\": 2, \"5\": 3, \"6\": 4, \"7\": 5, \"8\": 6, \"9\": 7, \"T\": 8, \"J\": 9, \"Q\": 10, \"K\": 11, \"A\": 12}\n",
    "\n",
    "    subscore = sum([d[h] * 13 ** (-(i+1)) for i, h in enumerate(hand)])\n",
    "    return subscore\n",
    "\n",
    "\n",
    "def hand_to_score(hand):\n",
    "\n",
    "    score = get_main_score(hand)\n",
    "    subscore = get_subscore(hand)\n",
    "    \n",
    "    return score + subscore"
   ]
  },
  {
   "cell_type": "code",
   "execution_count": null,
   "metadata": {},
   "outputs": [],
   "source": [
    "hand_to_score(hand)"
   ]
  },
  {
   "cell_type": "code",
   "execution_count": null,
   "metadata": {},
   "outputs": [],
   "source": [
    "hands_sorted = sorted(hands, key=hand_to_score)\n",
    "hands_sorted"
   ]
  },
  {
   "cell_type": "code",
   "execution_count": null,
   "metadata": {},
   "outputs": [],
   "source": [
    "hand_to_score(\"KTTTT\")"
   ]
  },
  {
   "cell_type": "code",
   "execution_count": null,
   "metadata": {},
   "outputs": [],
   "source": [
    "hand_to_score(\"AA888\")"
   ]
  },
  {
   "cell_type": "code",
   "execution_count": null,
   "metadata": {},
   "outputs": [],
   "source": []
  },
  {
   "cell_type": "code",
   "execution_count": null,
   "metadata": {},
   "outputs": [],
   "source": [
    "sorted_hands = sorted(zip(hands, bids), key=lambda x: hand_to_score(x[0]))\n",
    "sorted_hands"
   ]
  },
  {
   "cell_type": "code",
   "execution_count": null,
   "metadata": {},
   "outputs": [],
   "source": [
    "sum([rk * bid for rk, (hand, bid) in zip(range(1, len(sorted_hands) + 1), sorted_hands)])"
   ]
  },
  {
   "cell_type": "code",
   "execution_count": null,
   "metadata": {},
   "outputs": [],
   "source": []
  },
  {
   "cell_type": "markdown",
   "metadata": {},
   "source": [
    "# Part 2"
   ]
  },
  {
   "cell_type": "code",
   "execution_count": null,
   "metadata": {},
   "outputs": [],
   "source": [
    "def get_subscore_jokers(hand):\n",
    "\n",
    "    d = {\"J\": 0, \"2\": 1, \"3\": 2, \"4\": 3, \"5\": 4, \"6\": 5, \"7\": 6, \"8\": 7, \"9\": 8, \"T\": 9, \"Q\": 10, \"K\": 11, \"A\": 12}\n",
    "\n",
    "    subscore = sum([d[h] * 13 ** (-(i+1)) for i, h in enumerate(hand)])\n",
    "    return subscore\n",
    "\n",
    "def hand_to_score_jokers(hand):\n",
    "\n",
    "    default_score = get_main_score(hand)\n",
    "    scores = [default_score]\n",
    "\n",
    "    if \"J\" in hand:\n",
    "        hand_excl_jokers = hand.replace(\"J\", \"\")\n",
    "        if len(hand_excl_jokers) > 0:\n",
    "            c = dict(Counter(hand_excl_jokers))\n",
    "            max_freq = max(c.values())\n",
    "            most_frequent_card = [card for card in c if c[card] == max_freq][0]\n",
    "            hand_modified = hand.replace(\"J\", most_frequent_card)\n",
    "            alt_score = get_main_score(hand_modified)\n",
    "            scores.append(alt_score)\n",
    "\n",
    "    score = max(scores)\n",
    "    subscore = get_subscore_jokers(hand)\n",
    "    \n",
    "    return score + subscore"
   ]
  },
  {
   "cell_type": "code",
   "execution_count": null,
   "metadata": {},
   "outputs": [],
   "source": [
    "sorted_hands = sorted(zip(hands, bids), key=lambda x: hand_to_score_jokers(x[0]))\n",
    "sorted_hands"
   ]
  },
  {
   "cell_type": "code",
   "execution_count": null,
   "metadata": {},
   "outputs": [],
   "source": [
    "sum([rk * bid for rk, (hand, bid) in zip(range(1, len(sorted_hands) + 1), sorted_hands)])"
   ]
  },
  {
   "cell_type": "code",
   "execution_count": null,
   "metadata": {},
   "outputs": [],
   "source": []
  }
 ],
 "metadata": {
  "kernelspec": {
   "display_name": "analytico",
   "language": "python",
   "name": "python3"
  },
  "language_info": {
   "codemirror_mode": {
    "name": "ipython",
    "version": 3
   },
   "file_extension": ".py",
   "mimetype": "text/x-python",
   "name": "python",
   "nbconvert_exporter": "python",
   "pygments_lexer": "ipython3",
   "version": "3.8.2"
  }
 },
 "nbformat": 4,
 "nbformat_minor": 2
}
