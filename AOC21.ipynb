{
 "cells": [
  {
   "cell_type": "code",
   "execution_count": null,
   "metadata": {},
   "outputs": [],
   "source": [
    "from pathlib import Path\n",
    "import os"
   ]
  },
  {
   "cell_type": "code",
   "execution_count": null,
   "metadata": {},
   "outputs": [],
   "source": [
    "fp = os.path.join(Path().absolute(), \"inputs\", \"input21.txt\")\n",
    "# fp = os.path.join(Path().absolute(), \"inputs\", \"input21_test.txt\")\n",
    "\n",
    "with open(fp, \"r\") as f:\n",
    "    data = f.read().split(\"\\n\")[:-1]"
   ]
  },
  {
   "cell_type": "code",
   "execution_count": null,
   "metadata": {},
   "outputs": [],
   "source": [
    "data"
   ]
  },
  {
   "cell_type": "markdown",
   "metadata": {},
   "source": [
    "# Part 1"
   ]
  },
  {
   "cell_type": "code",
   "execution_count": null,
   "metadata": {},
   "outputs": [],
   "source": [
    "# Find distance from S to all garden plots\n",
    "# Can reach exactly those plots which are at most 64 steps away and at an even distance (all paths to a given destination are odd or all paths are even distance)"
   ]
  },
  {
   "cell_type": "code",
   "execution_count": null,
   "metadata": {},
   "outputs": [],
   "source": [
    "num_rows = len(data)\n",
    "num_cols = len(data[0])\n",
    "print(num_rows, num_cols)"
   ]
  },
  {
   "cell_type": "code",
   "execution_count": null,
   "metadata": {},
   "outputs": [],
   "source": [
    "start_found = False\n",
    "for i, row in enumerate(data):\n",
    "    if start_found:\n",
    "        break\n",
    "    for j, cell in enumerate(row):\n",
    "        if cell == \"S\":\n",
    "            start_found = True\n",
    "            start_x = i\n",
    "            start_y = j\n",
    "            break\n",
    "\n",
    "start = (start_x, start_y)\n",
    "print(start_x, start_y)"
   ]
  },
  {
   "cell_type": "code",
   "execution_count": null,
   "metadata": {},
   "outputs": [],
   "source": [
    "all_plots = []\n",
    "for i, row in enumerate(data):\n",
    "    for j, cell in enumerate(row):\n",
    "        if cell in [\".\", \"S\"]:\n",
    "            all_plots.append((i, j))"
   ]
  },
  {
   "cell_type": "code",
   "execution_count": null,
   "metadata": {},
   "outputs": [],
   "source": [
    "def get_neighbours(point, data):\n",
    "\n",
    "    num_rows = len(data)\n",
    "    num_cols = len(data[0])\n",
    "\n",
    "    x, y = point\n",
    "\n",
    "    neighbours = []\n",
    "    if x > 0:\n",
    "        cand = (x - 1, y)\n",
    "        if data[cand[0]][cand[1]] in [\".\", \"S\"]:\n",
    "            neighbours.append(cand)\n",
    "    if x < num_rows - 1:\n",
    "        cand = (x + 1, y)\n",
    "        if data[cand[0]][cand[1]] in [\".\", \"S\"]:\n",
    "            neighbours.append(cand)\n",
    "    if y > 0:\n",
    "        cand = (x, y - 1)\n",
    "        if data[cand[0]][cand[1]] in [\".\", \"S\"]:\n",
    "            neighbours.append(cand)\n",
    "    if y < num_cols - 1:\n",
    "        cand = (x, y + 1)\n",
    "        if data[cand[0]][cand[1]] in [\".\", \"S\"]:\n",
    "            neighbours.append(cand)\n",
    "\n",
    "    return neighbours"
   ]
  },
  {
   "cell_type": "code",
   "execution_count": null,
   "metadata": {},
   "outputs": [],
   "source": [
    "neighbours_dict = {}\n",
    "for x in range(num_rows):\n",
    "    for y in range(num_cols):\n",
    "        point = (x, y)\n",
    "        neighbours = get_neighbours(point, data)\n",
    "        neighbours_dict[point] = neighbours"
   ]
  },
  {
   "cell_type": "code",
   "execution_count": null,
   "metadata": {},
   "outputs": [],
   "source": [
    "def dijkstra(start, all_plots, neighbours_dict, verbose=False):\n",
    "    \"\"\"Returns distances from start to any node\"\"\"\n",
    "\n",
    "    shortest_path_distance_all_plots = {plot: float(\"inf\") for plot in all_plots}\n",
    "    shortest_path_distance_all_plots[start] = 0\n",
    "\n",
    "    current = start\n",
    "    to_expand = [start]\n",
    "\n",
    "    max_num_iter = 1_000_0000\n",
    "    num_iter = 0\n",
    "    while num_iter < max_num_iter and len(to_expand) > 0:\n",
    "        if verbose:\n",
    "            print(f\"{num_iter = }, {len(to_expand) = }\")\n",
    "\n",
    "        to_expand = sorted(to_expand, key=shortest_path_distance_all_plots.get, reverse=True)\n",
    "        current = to_expand.pop()\n",
    "\n",
    "        current_cost = shortest_path_distance_all_plots[current]\n",
    "\n",
    "        neighbours = neighbours_dict[current]\n",
    "        for neighbour in neighbours:\n",
    "            if current_cost + 1 < shortest_path_distance_all_plots[neighbour]:\n",
    "                shortest_path_distance_all_plots[neighbour] = current_cost + 1\n",
    "                to_expand.append(neighbour)\n",
    "\n",
    "        num_iter += 1\n",
    "\n",
    "    return shortest_path_distance_all_plots"
   ]
  },
  {
   "cell_type": "code",
   "execution_count": null,
   "metadata": {},
   "outputs": [],
   "source": [
    "shortest_path_distance_all_plots = dijkstra(start, all_plots, neighbours_dict, verbose=True)"
   ]
  },
  {
   "cell_type": "code",
   "execution_count": null,
   "metadata": {},
   "outputs": [],
   "source": [
    "num_steps_exactly = 64\n",
    "poss = {plot: dist for plot, dist in shortest_path_distance_all_plots.items() if dist <= num_steps_exactly and dist % 2 == 0}\n",
    "num_poss = len(poss)\n",
    "num_poss"
   ]
  },
  {
   "cell_type": "markdown",
   "metadata": {},
   "source": [
    "# Part 2"
   ]
  },
  {
   "cell_type": "markdown",
   "metadata": {},
   "source": [
    "Following the solution here, however there is a bug somewhere.\n",
    "https://www.reddit.com/r/adventofcode/comments/18o4y0m/2023_day_21_part_2_algebraic_solution_using_only/\n",
    "\n",
    "It is also possible to solve this using quadratic interpolation: On infinite grid, how many plots can be reached in 65, 65 + 131, and 65 + 2 * 131 steps? General solution in M (see below) is of quadratic form."
   ]
  },
  {
   "cell_type": "code",
   "execution_count": null,
   "metadata": {},
   "outputs": [],
   "source": [
    "for y in range(num_cols):\n",
    "    assert data[0][y] == \".\"\n",
    "\n",
    "for y in range(num_cols):\n",
    "    assert data[num_rows - 1][y] == \".\"\n",
    "\n",
    "for x in range(num_rows):\n",
    "    assert data[x][0] == \".\"\n",
    "\n",
    "for x in range(num_rows):\n",
    "    assert data[x][num_cols - 1] == \".\""
   ]
  },
  {
   "cell_type": "code",
   "execution_count": null,
   "metadata": {},
   "outputs": [],
   "source": []
  },
  {
   "cell_type": "code",
   "execution_count": null,
   "metadata": {},
   "outputs": [],
   "source": [
    "# Build 3x3 tiling of original map\n",
    "num_rows_tiling = 3 * num_rows\n",
    "num_cols_tiling = 3 * num_cols\n",
    "\n",
    "tiling = [[None for _ in range(num_rows_tiling)] for __ in range(num_cols_tiling)]\n",
    "\n",
    "for i in range(num_rows_tiling):\n",
    "    for j in range(num_cols_tiling):\n",
    "        symbol = data[i % num_rows][j % num_cols]\n",
    "        if symbol == \"S\":\n",
    "            symbol = \".\"\n",
    "        tiling[i][j] = symbol\n",
    "\n",
    "tiling = [\"\".join(row) for row in tiling]\n",
    "tiling"
   ]
  },
  {
   "cell_type": "code",
   "execution_count": null,
   "metadata": {},
   "outputs": [],
   "source": [
    "start_tiling_x = num_rows + start_x\n",
    "start_tiling_y = num_cols + start_y\n",
    "start_tiling = (start_tiling_x, start_tiling_y)\n",
    "print(start_tiling)"
   ]
  },
  {
   "cell_type": "code",
   "execution_count": null,
   "metadata": {},
   "outputs": [],
   "source": [
    "all_plots_tiling = []\n",
    "for i, row in enumerate(tiling):\n",
    "    for j, cell in enumerate(row):\n",
    "        if cell in [\".\", \"S\"]:\n",
    "            all_plots_tiling.append((i, j))"
   ]
  },
  {
   "cell_type": "code",
   "execution_count": null,
   "metadata": {},
   "outputs": [],
   "source": [
    "neighbours_dict_tiling = {}\n",
    "for x in range(num_rows_tiling):\n",
    "    for y in range(num_cols_tiling):\n",
    "        point = (x, y)\n",
    "        neighbours = get_neighbours(point, tiling)\n",
    "        neighbours_dict_tiling[point] = neighbours"
   ]
  },
  {
   "cell_type": "code",
   "execution_count": null,
   "metadata": {},
   "outputs": [],
   "source": [
    "# Note there are some inaccessible plots\n",
    "{k: v for k, v in neighbours_dict_tiling.items() if len(v) == 0}"
   ]
  },
  {
   "cell_type": "code",
   "execution_count": null,
   "metadata": {},
   "outputs": [],
   "source": []
  },
  {
   "cell_type": "code",
   "execution_count": null,
   "metadata": {},
   "outputs": [],
   "source": [
    "shortest_path_distance_all_plots_tiling = dijkstra(start_tiling, all_plots_tiling, neighbours_dict_tiling, verbose=True)"
   ]
  },
  {
   "cell_type": "code",
   "execution_count": null,
   "metadata": {},
   "outputs": [],
   "source": [
    "len({k: v for k, v in shortest_path_distance_all_plots_tiling.items() if v > 1000})"
   ]
  },
  {
   "cell_type": "code",
   "execution_count": null,
   "metadata": {},
   "outputs": [],
   "source": [
    "len({k: v for k, v in shortest_path_distance_all_plots.items() if v > 1000})"
   ]
  },
  {
   "cell_type": "code",
   "execution_count": null,
   "metadata": {},
   "outputs": [],
   "source": []
  },
  {
   "cell_type": "code",
   "execution_count": null,
   "metadata": {},
   "outputs": [],
   "source": [
    "N = 26501365\n",
    "# N = 5000 # EXAMPLE MAP"
   ]
  },
  {
   "cell_type": "code",
   "execution_count": null,
   "metadata": {},
   "outputs": [],
   "source": []
  },
  {
   "cell_type": "code",
   "execution_count": null,
   "metadata": {},
   "outputs": [],
   "source": [
    "h = (num_rows - 1) / 2\n",
    "h"
   ]
  },
  {
   "cell_type": "code",
   "execution_count": null,
   "metadata": {},
   "outputs": [],
   "source": [
    "M = (N - h) / num_rows\n",
    "M"
   ]
  },
  {
   "cell_type": "code",
   "execution_count": null,
   "metadata": {},
   "outputs": [],
   "source": [
    "def is_offset(i):\n",
    "    \"\"\"Checks whether location i lies in the middle of the 3x3 tiling (horizontally or vertically)\"\"\"\n",
    "    \n",
    "    return i < num_rows or i > 2 * num_rows - 1"
   ]
  },
  {
   "cell_type": "code",
   "execution_count": null,
   "metadata": {},
   "outputs": [],
   "source": [
    "T = 0\n",
    "A = 0\n",
    "B = 0\n",
    "E = 0\n",
    "O = 0\n",
    "\n",
    "for i in range(num_rows_tiling):\n",
    "    for j in range(num_cols_tiling):\n",
    "        point = (i, j)\n",
    "        if tiling[i][j] not in [\"S\", \".\"]:\n",
    "            continue\n",
    "\n",
    "        dist = shortest_path_distance_all_plots_tiling[point]\n",
    "        if dist == float(\"inf\"):\n",
    "            continue\n",
    "\n",
    "        i_offset = is_offset(i)\n",
    "        j_offset = is_offset(j)\n",
    "\n",
    "        if (i_offset and not j_offset) or (not i_offset and j_offset):\n",
    "            if dist <= h + num_rows and dist % 2 == 1:\n",
    "                T += 1\n",
    "\n",
    "            if dist <= h + 2 * num_rows and dist % 2 == 0:\n",
    "                E += 1\n",
    "\n",
    "        if i_offset and j_offset:\n",
    "            if dist <= h + 2 * num_rows and dist % 2 == 0:\n",
    "                A += 1\n",
    "\n",
    "            if dist <= h + num_rows and dist % 2 == 1:\n",
    "                B += 1\n",
    "\n",
    "        if not i_offset and not j_offset:\n",
    "            if dist <= h + 2 * num_rows and dist % 2 == 0:\n",
    "                O += 1\n",
    "\n",
    "E = E / 4\n",
    "\n",
    "print(f\"{T = }\")\n",
    "print(f\"{A = }\")\n",
    "print(f\"{B = }\")\n",
    "print(f\"{E = }\")\n",
    "print(f\"{O = }\")"
   ]
  },
  {
   "cell_type": "code",
   "execution_count": null,
   "metadata": {},
   "outputs": [],
   "source": []
  },
  {
   "cell_type": "code",
   "execution_count": null,
   "metadata": {},
   "outputs": [],
   "source": [
    "total_alt = (M - 1) ** 2 * O + M ** 2 * E + (M - 1) * A + M * B + T\n",
    "total_alt"
   ]
  },
  {
   "cell_type": "markdown",
   "metadata": {},
   "source": [
    "The true value should be 600090522932119 (by running one of the published solutions)."
   ]
  },
  {
   "cell_type": "code",
   "execution_count": null,
   "metadata": {},
   "outputs": [],
   "source": []
  },
  {
   "cell_type": "code",
   "execution_count": null,
   "metadata": {},
   "outputs": [],
   "source": []
  },
  {
   "cell_type": "markdown",
   "metadata": {},
   "source": [
    "Alternative calculation using 5x5 tiling, however same buggy result"
   ]
  },
  {
   "cell_type": "code",
   "execution_count": null,
   "metadata": {},
   "outputs": [],
   "source": [
    "num_rows_tiling_large = 5 * num_rows\n",
    "num_cols_tiling_large = 5 * num_cols\n",
    "\n",
    "tiling_large = [[None for _ in range(num_rows_tiling_large)] for __ in range(num_cols_tiling_large)]\n",
    "\n",
    "for i in range(num_rows_tiling_large):\n",
    "    for j in range(num_cols_tiling_large):\n",
    "        symbol = data[i % num_rows][j % num_cols]\n",
    "        if symbol == \"S\":\n",
    "            symbol = \".\"\n",
    "        tiling_large[i][j] = symbol\n",
    "\n",
    "tiling_large = [\"\".join(row) for row in tiling_large]"
   ]
  },
  {
   "cell_type": "code",
   "execution_count": null,
   "metadata": {},
   "outputs": [],
   "source": [
    "start_tiling_large_x = 2 * num_rows + start_x\n",
    "start_tiling_large_y = 2 * num_cols + start_y\n",
    "start_tiling_large = (start_tiling_large_x, start_tiling_large_y)\n",
    "print(start_tiling_large)"
   ]
  },
  {
   "cell_type": "code",
   "execution_count": null,
   "metadata": {},
   "outputs": [],
   "source": [
    "all_plots_tiling_large = []\n",
    "for i, row in enumerate(tiling_large):\n",
    "    for j, cell in enumerate(row):\n",
    "        if cell in [\".\", \"S\"]:\n",
    "            all_plots_tiling_large.append((i, j))"
   ]
  },
  {
   "cell_type": "code",
   "execution_count": null,
   "metadata": {},
   "outputs": [],
   "source": [
    "neighbours_dict_tiling_large = {}\n",
    "for x in range(num_rows_tiling_large):\n",
    "    for y in range(num_cols_tiling_large):\n",
    "        point = (x, y)\n",
    "        neighbours = get_neighbours(point, tiling_large)\n",
    "        neighbours_dict_tiling_large[point] = neighbours"
   ]
  },
  {
   "cell_type": "code",
   "execution_count": null,
   "metadata": {},
   "outputs": [],
   "source": [
    "shortest_path_distance_all_plots_tiling_large = dijkstra(start_tiling_large, all_plots_tiling_large, neighbours_dict_tiling_large, verbose=True)"
   ]
  },
  {
   "cell_type": "code",
   "execution_count": null,
   "metadata": {},
   "outputs": [],
   "source": [
    "T = 0\n",
    "A = 0\n",
    "B = 0\n",
    "E = 0\n",
    "O = 0\n",
    "\n",
    "for i in range(num_rows_tiling_large):\n",
    "    for j in range(num_cols_tiling_large):\n",
    "        point = (i, j)\n",
    "        if tiling_large[i][j] not in [\"S\", \".\"]:\n",
    "            continue\n",
    "\n",
    "        dist = shortest_path_distance_all_plots_tiling_large[point]\n",
    "        if dist == float(\"inf\"):\n",
    "            continue\n",
    "\n",
    "        assert isinstance(dist, int)\n",
    "\n",
    "        if dist % 2 != 0 or dist > h + 2 * num_rows:\n",
    "            continue\n",
    "\n",
    "        i_idx = i // num_rows\n",
    "        j_idx = j // num_cols\n",
    "\n",
    "        if i_idx == 2 and j_idx == 2:\n",
    "            O += 1\n",
    "        elif (i_idx in [1, 3] and j_idx == 2) or (j_idx in [1, 3] and i_idx == 2):\n",
    "            E += 1\n",
    "        elif i_idx in [1, 3] and j_idx in [1, 3]:\n",
    "            A += 1\n",
    "        elif (i_idx in [0, 4] and j_idx == 2) or (j_idx in [0, 4] and i_idx == 2):\n",
    "            T += 1\n",
    "        elif i_idx not in [0, 4] or j_idx not in [0, 4]:\n",
    "            B += 1\n",
    "\n",
    "B = B / 2\n",
    "E = E / 4\n",
    "\n",
    "print(f\"{T = }\")\n",
    "print(f\"{A = }\")\n",
    "print(f\"{B = }\")\n",
    "print(f\"{E = }\")\n",
    "print(f\"{O = }\")"
   ]
  },
  {
   "cell_type": "code",
   "execution_count": null,
   "metadata": {},
   "outputs": [],
   "source": [
    "total_alt = (M - 1) ** 2 * O + M ** 2 * E + (M - 1) * A + M * B + T\n",
    "total_alt"
   ]
  },
  {
   "cell_type": "code",
   "execution_count": null,
   "metadata": {},
   "outputs": [],
   "source": []
  },
  {
   "cell_type": "code",
   "execution_count": null,
   "metadata": {},
   "outputs": [],
   "source": []
  }
 ],
 "metadata": {
  "kernelspec": {
   "display_name": "analytico",
   "language": "python",
   "name": "python3"
  },
  "language_info": {
   "codemirror_mode": {
    "name": "ipython",
    "version": 3
   },
   "file_extension": ".py",
   "mimetype": "text/x-python",
   "name": "python",
   "nbconvert_exporter": "python",
   "pygments_lexer": "ipython3",
   "version": "3.8.2"
  }
 },
 "nbformat": 4,
 "nbformat_minor": 2
}
