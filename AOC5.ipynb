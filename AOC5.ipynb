{
 "cells": [
  {
   "cell_type": "code",
   "execution_count": null,
   "metadata": {},
   "outputs": [],
   "source": [
    "from pathlib import Path\n",
    "import os"
   ]
  },
  {
   "cell_type": "code",
   "execution_count": null,
   "metadata": {},
   "outputs": [],
   "source": [
    "fp = os.path.join(Path().absolute(), \"inputs\", \"input5.txt\")\n",
    "\n",
    "with open(fp, \"r\") as f:\n",
    "    data = f.readlines()"
   ]
  },
  {
   "cell_type": "code",
   "execution_count": null,
   "metadata": {},
   "outputs": [],
   "source": [
    "data"
   ]
  },
  {
   "cell_type": "markdown",
   "metadata": {},
   "source": [
    "# Part 1"
   ]
  },
  {
   "cell_type": "code",
   "execution_count": null,
   "metadata": {},
   "outputs": [],
   "source": [
    "seeds = data[0].strip().split(\"seeds: \")[1].split()\n",
    "seeds = [int(x) for x in seeds]\n",
    "\n",
    "start_indices = {}\n",
    "end_indices = {}\n",
    "\n",
    "current = None\n",
    "\n",
    "maps = [\"seed-to-soil\", \"soil-to-fertilizer\", \"fertilizer-to-water\", \"water-to-light\", \"light-to-temperature\", \"temperature-to-humidity\", \"humidity-to-location\"]\n",
    "\n",
    "for i, line in enumerate(data):\n",
    "\n",
    "    for map in maps:\n",
    "\n",
    "        if map in line:\n",
    "            start_indices[map] = i + 1\n",
    "            current = map\n",
    "        elif line == \"\\n\":\n",
    "            end_indices[current] = i - 1\n",
    "\n",
    "end_indices[\"humidity-to-location\"] = len(data) - 1"
   ]
  },
  {
   "cell_type": "code",
   "execution_count": null,
   "metadata": {},
   "outputs": [],
   "source": [
    "start_indices"
   ]
  },
  {
   "cell_type": "code",
   "execution_count": null,
   "metadata": {},
   "outputs": [],
   "source": [
    "end_indices"
   ]
  },
  {
   "cell_type": "code",
   "execution_count": null,
   "metadata": {},
   "outputs": [],
   "source": [
    "translations = {}\n",
    "for map in maps:\n",
    "\n",
    "    translations[map] = []\n",
    "    for line in data[start_indices[map]:end_indices[map]]:\n",
    "        dest_range_start, src_range_start, range_len = line.strip().split()\n",
    "        dest_range_start = int(dest_range_start)\n",
    "        src_range_start = int(src_range_start)\n",
    "        range_len = int(range_len)\n",
    "        src_range_end = src_range_start + range_len - 1\n",
    "        offset = dest_range_start - src_range_start\n",
    "        translations[map].append((src_range_start, src_range_end, offset))"
   ]
  },
  {
   "cell_type": "code",
   "execution_count": null,
   "metadata": {},
   "outputs": [],
   "source": [
    "translations"
   ]
  },
  {
   "cell_type": "code",
   "execution_count": null,
   "metadata": {},
   "outputs": [],
   "source": [
    "seeds"
   ]
  },
  {
   "cell_type": "code",
   "execution_count": null,
   "metadata": {},
   "outputs": [],
   "source": [
    "def translate(src_list, map):\n",
    "\n",
    "    dest_list = [None] * len(src_list)\n",
    "\n",
    "    for i, src in enumerate(src_list):\n",
    "        dest = None\n",
    "        for src_range_start, src_range_end, offset in translations[map]:\n",
    "            if src_range_start <= src <= src_range_end:\n",
    "                dest = src + offset\n",
    "                break\n",
    "\n",
    "        if dest is None:\n",
    "            dest = src\n",
    "\n",
    "        dest_list[i] = dest\n",
    "\n",
    "    return dest_list"
   ]
  },
  {
   "cell_type": "code",
   "execution_count": null,
   "metadata": {},
   "outputs": [],
   "source": [
    "current_list = seeds\n",
    "for map in maps:\n",
    "    print(map)\n",
    "    current_list = translate(current_list, map)"
   ]
  },
  {
   "cell_type": "code",
   "execution_count": null,
   "metadata": {},
   "outputs": [],
   "source": [
    "current_list"
   ]
  },
  {
   "cell_type": "code",
   "execution_count": null,
   "metadata": {},
   "outputs": [],
   "source": [
    "min(current_list)"
   ]
  },
  {
   "cell_type": "code",
   "execution_count": null,
   "metadata": {},
   "outputs": [],
   "source": []
  },
  {
   "cell_type": "markdown",
   "metadata": {},
   "source": [
    "# Part 2"
   ]
  },
  {
   "cell_type": "code",
   "execution_count": null,
   "metadata": {},
   "outputs": [],
   "source": [
    "for i in range(int(len(seeds) / 2)):\n",
    "    start_seed, range_len = seeds[(2 * i) : (2 * i + 2)]\n",
    "    print(i, range_len / 1e6)\n",
    "\n",
    "    current_list = range(start_seed, start_seed + 10)\n",
    "    for map in maps:\n",
    "        print(map)\n",
    "        current_list = translate(current_list, map)\n",
    "        "
   ]
  },
  {
   "cell_type": "code",
   "execution_count": null,
   "metadata": {},
   "outputs": [],
   "source": [
    "sorted_maps = {}\n",
    "for map in maps:\n",
    "    print(map)\n",
    "\n",
    "    sorted_map = sorted(translations[map], key=lambda x: x[0])\n",
    "    added_brackets = [(-float(\"inf\"), sorted_map[0][0] - 1, 0), (sorted_map[-1][1] + 1, float(\"inf\"), 0)]\n",
    "\n",
    "    for i in range(len(sorted_map) - 1):\n",
    "        if sorted_map[i][1] >= sorted_map[i + 1][0]:\n",
    "            raise ValueError\n",
    "        elif sorted_map[i + 1][0] - sorted_map[i][1] > 1:\n",
    "            added_brackets.append((sorted_map[i][1] + 1, sorted_map[i + 1][0] - 1, 0))\n",
    "    \n",
    "    sorted_map += added_brackets\n",
    "    sorted_map = sorted(sorted_map, key=lambda x: x[0])\n",
    "\n",
    "    sorted_maps[map] = sorted_map"
   ]
  },
  {
   "cell_type": "code",
   "execution_count": null,
   "metadata": {},
   "outputs": [],
   "source": [
    "sorted_maps[\"seed-to-soil\"]"
   ]
  },
  {
   "cell_type": "code",
   "execution_count": null,
   "metadata": {},
   "outputs": [],
   "source": [
    "sorted_maps[\"soil-to-fertilizer\"]"
   ]
  },
  {
   "cell_type": "code",
   "execution_count": null,
   "metadata": {},
   "outputs": [],
   "source": [
    "def combine_maps(sorted_map1, sorted_map2):\n",
    "\n",
    "    combined_map = []\n",
    "    for start, end, offset in sorted_map1:\n",
    "        start_dest = start + offset\n",
    "        end_dest = end + offset\n",
    "\n",
    "        # Find which bracket start_dest falls into\n",
    "        mapped_idx_start = None\n",
    "        for i, (s, e, o) in enumerate(sorted_map2):\n",
    "            if s <= start_dest <= e:\n",
    "                mapped_idx_start = i\n",
    "                break\n",
    "        \n",
    "        # Find which bracket end_dest falls into\n",
    "        mapped_idx_end = None\n",
    "        for i, (s, e, o) in enumerate(sorted_map2):\n",
    "            if s <= end_dest <= e:\n",
    "                mapped_idx_end = i\n",
    "                break\n",
    "\n",
    "        if mapped_idx_start == mapped_idx_end:\n",
    "            o2 = sorted_map2[mapped_idx_start][2]\n",
    "            combined_map.append((start, end, offset + o2))\n",
    "        else:\n",
    "            for idx in range(mapped_idx_start, mapped_idx_end + 1):\n",
    "                s2, e2, o2 = sorted_map2[idx]\n",
    "                if idx == mapped_idx_start:\n",
    "                    combined_map.append((start, e2 - offset, offset + o2))\n",
    "                elif idx == mapped_idx_end:\n",
    "                    combined_map.append((s2 - offset, end, offset + o2))\n",
    "                else:\n",
    "                    combined_map.append((s2 - offset, e2 - offset, offset + o2))\n",
    "\n",
    "    return combined_map"
   ]
  },
  {
   "cell_type": "code",
   "execution_count": null,
   "metadata": {},
   "outputs": [],
   "source": [
    "map1 = sorted_maps[\"seed-to-soil\"]\n",
    "map2 = sorted_maps[\"soil-to-fertilizer\"]\n",
    "combined_map = combine_maps(map1, map2)\n",
    "combined_map"
   ]
  },
  {
   "cell_type": "code",
   "execution_count": null,
   "metadata": {},
   "outputs": [],
   "source": [
    "combined_map = sorted_maps[maps[0]]\n",
    "for i in range(1, len(maps)):\n",
    "    map2 = maps[i]\n",
    "    print(map2)\n",
    "    sorted_map2 = sorted_maps[map2]\n",
    "    combined_map = combine_maps(combined_map, sorted_map2)\n",
    "    print(len(combined_map))"
   ]
  },
  {
   "cell_type": "code",
   "execution_count": null,
   "metadata": {},
   "outputs": [],
   "source": [
    "combined_map"
   ]
  },
  {
   "cell_type": "code",
   "execution_count": null,
   "metadata": {},
   "outputs": [],
   "source": [
    "for i in range(int(len(seeds) / 2)):\n",
    "    start_seed, range_len = seeds[(2 * i) : (2 * i + 2)]\n",
    "    print(i, range_len / 1e6)\n",
    "\n",
    "    current_list = range(start_seed, start_seed + 10)\n",
    "    for map in maps:\n",
    "        print(map)\n",
    "        current_list = translate(current_list, map)\n",
    "        "
   ]
  },
  {
   "cell_type": "code",
   "execution_count": null,
   "metadata": {},
   "outputs": [],
   "source": [
    "# Build map with zero offset from seeds ranges\n",
    "seeds_dummy_map = []\n",
    "for i in range(int(len(seeds) / 2)):\n",
    "    start_seed, range_len = seeds[(2 * i) : (2 * i + 2)]\n",
    "    print(i, range_len / 1e6)\n",
    "\n",
    "    seeds_dummy_map.append((start_seed, start_seed + range_len - 1, 0))"
   ]
  },
  {
   "cell_type": "code",
   "execution_count": null,
   "metadata": {},
   "outputs": [],
   "source": [
    "seeds_dummy_map"
   ]
  },
  {
   "cell_type": "code",
   "execution_count": null,
   "metadata": {},
   "outputs": [],
   "source": [
    "# sorted_map = sorted(seeds_dummy_map, key=lambda x: x[0])\n",
    "# added_brackets = [(-float(\"inf\"), sorted_map[0][0] - 1, 0), (sorted_map[-1][1] + 1, float(\"inf\"), 0)]\n",
    "\n",
    "# for i in range(len(sorted_map) - 1):\n",
    "#     if sorted_map[i][1] >= sorted_map[i + 1][0]:\n",
    "#         raise ValueError\n",
    "#     elif sorted_map[i + 1][0] - sorted_map[i][1] > 1:\n",
    "#         added_brackets.append((sorted_map[i][1] + 1, sorted_map[i + 1][0] - 1, 0))\n",
    "\n",
    "# sorted_map += added_brackets\n",
    "# sorted_map = sorted(sorted_map, key=lambda x: x[0])\n",
    "# seeds_dummy_map = sorted_map\n",
    "# seeds_dummy_map"
   ]
  },
  {
   "cell_type": "code",
   "execution_count": null,
   "metadata": {},
   "outputs": [],
   "source": [
    "# Then combine w combined map\n",
    "final_map = combine_maps(seeds_dummy_map, combined_map)\n",
    "final_map"
   ]
  },
  {
   "cell_type": "code",
   "execution_count": null,
   "metadata": {},
   "outputs": [],
   "source": [
    "# Then compute start + offset of each range\n",
    "candidates = [s + o for s, e, o in final_map]\n",
    "\n",
    "# pick start giving min"
   ]
  },
  {
   "cell_type": "code",
   "execution_count": null,
   "metadata": {},
   "outputs": [],
   "source": [
    "min_elt = min(final_map, key=lambda x: x[0] + x[2])\n",
    "min_elt"
   ]
  },
  {
   "cell_type": "code",
   "execution_count": null,
   "metadata": {},
   "outputs": [],
   "source": [
    "min_elt[0] + min_elt[2]"
   ]
  },
  {
   "cell_type": "code",
   "execution_count": null,
   "metadata": {},
   "outputs": [],
   "source": []
  }
 ],
 "metadata": {
  "kernelspec": {
   "display_name": "analytico",
   "language": "python",
   "name": "python3"
  },
  "language_info": {
   "codemirror_mode": {
    "name": "ipython",
    "version": 3
   },
   "file_extension": ".py",
   "mimetype": "text/x-python",
   "name": "python",
   "nbconvert_exporter": "python",
   "pygments_lexer": "ipython3",
   "version": "3.8.2"
  }
 },
 "nbformat": 4,
 "nbformat_minor": 2
}
