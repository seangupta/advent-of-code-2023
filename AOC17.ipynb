{
 "cells": [
  {
   "cell_type": "code",
   "execution_count": null,
   "metadata": {},
   "outputs": [],
   "source": [
    "from pathlib import Path\n",
    "import os\n",
    "import heapq"
   ]
  },
  {
   "cell_type": "code",
   "execution_count": null,
   "metadata": {},
   "outputs": [],
   "source": [
    "fp = os.path.join(Path().absolute(), \"inputs\", \"input17.txt\")\n",
    "# fp = os.path.join(Path().absolute(), \"inputs\", \"input17_test.txt\")\n",
    "# fp = os.path.join(Path().absolute(), \"inputs\", \"input17_test2.txt\")\n",
    "\n",
    "with open(fp, \"r\") as f:\n",
    "    data = f.read().split(\"\\n\")[:-1]"
   ]
  },
  {
   "cell_type": "code",
   "execution_count": null,
   "metadata": {},
   "outputs": [],
   "source": [
    "data "
   ]
  },
  {
   "cell_type": "markdown",
   "metadata": {},
   "source": [
    "# Part 1"
   ]
  },
  {
   "cell_type": "code",
   "execution_count": null,
   "metadata": {},
   "outputs": [],
   "source": [
    "data = [[int(char) for char in row] for row in data]\n",
    "num_rows = len(data)\n",
    "num_cols = len(data[0])\n",
    "print(num_rows, num_cols)"
   ]
  },
  {
   "cell_type": "code",
   "execution_count": null,
   "metadata": {},
   "outputs": [],
   "source": [
    "# last_dirs is of the form e.g. (2, \"N\") -> last two steps were N but not the one before\n",
    "# this reduces the size of the state space compared to using last_dirs of the form \"SSE\" (last three dirs)\n",
    "\n",
    "def generate_next_dirs(last_dirs, next_dir):\n",
    "    count, last_dir = last_dirs\n",
    "    if last_dir != next_dir:\n",
    "        next_dirs = (1, next_dir)\n",
    "    else:\n",
    "        next_dirs = (count + 1, next_dir)\n",
    "    return next_dirs\n",
    "\n",
    "def generate_moves(x, y, last_dirs):\n",
    "    count, last_dir = last_dirs\n",
    "\n",
    "    moves = []\n",
    "    if x > 0 and last_dir != \"S\" and last_dirs != (3, \"N\"):\n",
    "        next_dirs = generate_next_dirs(last_dirs, \"N\")\n",
    "        moves.append((x - 1, y, next_dirs))\n",
    "    if x < num_rows - 1 and last_dir != \"N\" and last_dirs != (3, \"S\"):\n",
    "        next_dirs = generate_next_dirs(last_dirs, \"S\")\n",
    "        moves.append((x + 1, y, next_dirs))\n",
    "    if y > 0 and last_dir != \"E\" and last_dirs != (3, \"W\"):\n",
    "        next_dirs = generate_next_dirs(last_dirs, \"W\")\n",
    "        moves.append((x, y - 1, next_dirs))\n",
    "    if y < num_cols - 1 and last_dir != \"W\" and last_dirs != (3, \"E\"):\n",
    "        next_dirs = generate_next_dirs(last_dirs, \"E\")\n",
    "        moves.append((x, y + 1, next_dirs))\n",
    "\n",
    "    return moves"
   ]
  },
  {
   "cell_type": "code",
   "execution_count": 13,
   "metadata": {},
   "outputs": [],
   "source": [
    "# Generating the adjacency dict is slow so instead we will call the move generator function within the Dijkstra algo\n",
    "# adj_dict = {}\n",
    "# for x in range(num_rows):\n",
    "#     for y in range(num_cols):\n",
    "#         for count in [1, 2, 3]:\n",
    "#             for last_dir in [\"N\", \"S\", \"E\", \"W\"]:\n",
    "#                 last_dirs = (count, last_dir)\n",
    "#                 moves = generate_moves(x, y, last_dirs)\n",
    "#                 adj_dict[(x, y, last_dirs)] = moves"
   ]
  },
  {
   "cell_type": "code",
   "execution_count": null,
   "metadata": {},
   "outputs": [],
   "source": []
  },
  {
   "cell_type": "code",
   "execution_count": null,
   "metadata": {},
   "outputs": [],
   "source": [
    "def dijkstra(start, end_loc, move_generator, part1=True, max_num_iter=1e9):\n",
    "\n",
    "    # Maintain a priority queue of states to expand (represented as (cost, state) because heapq will pop based on first elements)\n",
    "    to_expand = []\n",
    "    heapq.heappush(to_expand, (0, start))\n",
    "\n",
    "    state_to_cost_dict = {start: 0}\n",
    "    state_to_best_path_dict = {start: []}\n",
    "    min_end_state_cost = float(\"inf\")\n",
    "    best_path = None\n",
    "\n",
    "    num_iter = 0\n",
    "    while num_iter < max_num_iter and len(to_expand) > 0:\n",
    "        \n",
    "        if num_iter % 10000 == 0:\n",
    "            print(num_iter)\n",
    "            \n",
    "        cost_so_far, current_state = heapq.heappop(to_expand)\n",
    "        \n",
    "        moves = move_generator(*current_state)\n",
    "        for move in moves:\n",
    "            x, y, (count, last_dir) = move\n",
    "\n",
    "            move_cost = data[x][y]\n",
    "            total_cost = cost_so_far + move_cost\n",
    "\n",
    "            if (move not in state_to_cost_dict or total_cost < state_to_cost_dict[move]):\n",
    "                \n",
    "                # exclude inadmissible moves: no point going to e.g. 3E at x,y if its cost is at least as high as for 2E at x,y\n",
    "                if part1 and any(state_to_cost_dict.get((x, y, (c, last_dir)), float(\"inf\")) <= total_cost for c in range(1, count)):\n",
    "                    continue\n",
    "                \n",
    "                # exclude inadmissible moves: no point going to e.g. 8E at x,y if its cost is at least as high as for 6E at x,y (if count > 4)\n",
    "                if not part1 and not (count <= 4 or not any(state_to_cost_dict.get((x, y, (c, last_dir)), float(\"inf\")) <= total_cost for c in range(4, count))):\n",
    "                    continue\n",
    "\n",
    "                state_to_cost_dict[move] = total_cost\n",
    "                new_path = state_to_best_path_dict[current_state] + [move]\n",
    "                state_to_best_path_dict[move] = new_path\n",
    "\n",
    "                heapq.heappush(to_expand, (total_cost, move))\n",
    "                \n",
    "                if move[:2] == end_loc and total_cost < min_end_state_cost:\n",
    "                    min_end_state_cost = total_cost\n",
    "                    best_path = new_path\n",
    "                    print(f\"New best path, {min_end_state_cost = }, {best_path = }\")\n",
    "\n",
    "        num_iter += 1\n",
    "\n",
    "    return min_end_state_cost"
   ]
  },
  {
   "cell_type": "code",
   "execution_count": null,
   "metadata": {},
   "outputs": [],
   "source": [
    "start = (0, 0, (1, \"X\"))\n",
    "end_loc = (num_rows - 1, num_cols - 1)\n",
    "\n",
    "min_end_state_cost = dijkstra(start, end_loc, generate_moves, part1=True)"
   ]
  },
  {
   "cell_type": "code",
   "execution_count": null,
   "metadata": {},
   "outputs": [],
   "source": [
    "min_end_state_cost"
   ]
  },
  {
   "cell_type": "markdown",
   "metadata": {},
   "source": [
    "# Part 2"
   ]
  },
  {
   "cell_type": "code",
   "execution_count": null,
   "metadata": {},
   "outputs": [],
   "source": [
    "def generate_moves_new(x, y, last_dirs):\n",
    "    count, last_dir = last_dirs\n",
    "\n",
    "    moves = []\n",
    "\n",
    "    # Need to keep moving in same direction if count less than 4\n",
    "    # If new direction chosen it needs to be possible to move at least four times in the same direction\n",
    "\n",
    "    if x > 0 and last_dir != \"S\" and last_dirs != (10, \"N\") and ((count >= 4 and x > 3) or last_dir == \"N\"):\n",
    "        next_dirs = generate_next_dirs(last_dirs, \"N\")\n",
    "        moves.append((x - 1, y, next_dirs))\n",
    "    if x < num_rows - 1 and last_dir != \"N\" and last_dirs != (10, \"S\")  and ((count >= 4 and x < num_rows - 4) or last_dir == \"S\"):\n",
    "        next_dirs = generate_next_dirs(last_dirs, \"S\")\n",
    "        moves.append((x + 1, y, next_dirs))\n",
    "    if y > 0 and last_dir != \"E\" and last_dirs != (10, \"W\")  and ((count >= 4 and y > 3) or last_dir == \"W\"):\n",
    "        next_dirs = generate_next_dirs(last_dirs, \"W\")\n",
    "        moves.append((x, y - 1, next_dirs))\n",
    "    if y < num_cols - 1 and last_dir != \"W\" and last_dirs != (10, \"E\")  and ((count >= 4 and y < num_cols - 4) or last_dir == \"E\"):\n",
    "        next_dirs = generate_next_dirs(last_dirs, \"E\")\n",
    "        moves.append((x, y + 1, next_dirs))\n",
    "\n",
    "    return moves"
   ]
  },
  {
   "cell_type": "code",
   "execution_count": null,
   "metadata": {},
   "outputs": [],
   "source": [
    "start = (0, 0, (100, \"X\")) # count = 100 to allow initial moves to be found\n",
    "end_loc = (num_rows - 1, num_cols - 1)\n",
    "\n",
    "min_end_state_cost = dijkstra(start, end_loc, generate_moves_new, part1=False)"
   ]
  },
  {
   "cell_type": "code",
   "execution_count": null,
   "metadata": {},
   "outputs": [],
   "source": [
    "min_end_state_cost"
   ]
  },
  {
   "cell_type": "code",
   "execution_count": null,
   "metadata": {},
   "outputs": [],
   "source": []
  }
 ],
 "metadata": {
  "kernelspec": {
   "display_name": "analytico",
   "language": "python",
   "name": "python3"
  },
  "language_info": {
   "codemirror_mode": {
    "name": "ipython",
    "version": 3
   },
   "file_extension": ".py",
   "mimetype": "text/x-python",
   "name": "python",
   "nbconvert_exporter": "python",
   "pygments_lexer": "ipython3",
   "version": "3.8.2"
  }
 },
 "nbformat": 4,
 "nbformat_minor": 2
}
