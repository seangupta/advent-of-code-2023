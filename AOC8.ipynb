{
 "cells": [
  {
   "cell_type": "code",
   "execution_count": null,
   "metadata": {},
   "outputs": [],
   "source": [
    "from pathlib import Path\n",
    "import os\n",
    "from collections import Counter\n",
    "import math"
   ]
  },
  {
   "cell_type": "code",
   "execution_count": null,
   "metadata": {},
   "outputs": [],
   "source": [
    "fp = os.path.join(Path().absolute(), \"inputs\", \"input8.txt\")\n",
    "\n",
    "with open(fp, \"r\") as f:\n",
    "    data = f.readlines()"
   ]
  },
  {
   "cell_type": "markdown",
   "metadata": {},
   "source": [
    "# Part 1"
   ]
  },
  {
   "cell_type": "code",
   "execution_count": null,
   "metadata": {},
   "outputs": [],
   "source": [
    "dirs = data[0].strip()\n",
    "dirs"
   ]
  },
  {
   "cell_type": "code",
   "execution_count": null,
   "metadata": {},
   "outputs": [],
   "source": [
    "map = {}\n",
    "\n",
    "for line in data[2:]:\n",
    "    line_stripped = line.strip()\n",
    "    start = line_stripped.split(\" = \")[0]\n",
    "    left, right = line_stripped.split(\" = \")[1][1:-1].split(\", \")\n",
    "    map[start] = {\"L\": left, \"R\": right}\n"
   ]
  },
  {
   "cell_type": "code",
   "execution_count": null,
   "metadata": {},
   "outputs": [],
   "source": [
    "N = len(dirs)\n",
    "num_steps = 0\n",
    "current = \"AAA\"\n",
    "\n",
    "while current != \"ZZZ\":\n",
    "    d = dirs[num_steps % N]\n",
    "    current = map[current][d]\n",
    "    num_steps += 1"
   ]
  },
  {
   "cell_type": "code",
   "execution_count": null,
   "metadata": {},
   "outputs": [],
   "source": [
    "num_steps"
   ]
  },
  {
   "cell_type": "code",
   "execution_count": null,
   "metadata": {},
   "outputs": [],
   "source": []
  },
  {
   "cell_type": "markdown",
   "metadata": {},
   "source": [
    "# Part 2"
   ]
  },
  {
   "cell_type": "code",
   "execution_count": null,
   "metadata": {},
   "outputs": [],
   "source": [
    "# # TOO SLOW\n",
    "\n",
    "# N = len(dirs)\n",
    "# num_steps = 0\n",
    "# max_num_steps = 1e8\n",
    "# current_list = [s for s in map if s[-1] == \"A\"]\n",
    "# print(current_list)\n",
    "\n",
    "# while not all(c[-1] == \"Z\" for c in current_list) and num_steps < max_num_steps:\n",
    "#     d = dirs[num_steps % N]\n",
    "#     current_list = [map[c][d] for c in current_list]\n",
    "#     num_steps += 1\n",
    "#     # print(current_list)\n",
    "\n",
    "#     if num_steps % 1e6 == 0:\n",
    "#         print(num_steps)\n",
    "    \n",
    "#     num_correct = sum(c[-1] == \"Z\" for c in current_list)\n",
    "#     if num_correct > 2:\n",
    "#         print(num_correct, current_list)"
   ]
  },
  {
   "cell_type": "code",
   "execution_count": null,
   "metadata": {},
   "outputs": [],
   "source": [
    "max_num_steps = 1e5\n",
    "periods = []\n",
    "\n",
    "N = len(dirs)\n",
    "\n",
    "current_list = [s for s in map if s[-1] == \"A\"]\n",
    "\n",
    "for idx in range(len(current_list)):\n",
    "    print(idx)\n",
    "    current = current_list[idx]\n",
    "    print(current)\n",
    "\n",
    "    num_steps = 0\n",
    "    while num_steps < max_num_steps:\n",
    "        d = dirs[num_steps % N]\n",
    "        current = map[current][d]\n",
    "        num_steps += 1\n",
    "\n",
    "        if current[-1] == \"Z\":\n",
    "            print(num_steps, current)\n",
    "            periods.append(num_steps)\n",
    "            break"
   ]
  },
  {
   "cell_type": "code",
   "execution_count": null,
   "metadata": {},
   "outputs": [],
   "source": [
    "periods"
   ]
  },
  {
   "cell_type": "code",
   "execution_count": null,
   "metadata": {},
   "outputs": [],
   "source": [
    "def lcm(a, b):\n",
    "    return abs(a*b) // math.gcd(a, b)"
   ]
  },
  {
   "cell_type": "code",
   "execution_count": null,
   "metadata": {},
   "outputs": [],
   "source": [
    "lcm_val = 1\n",
    "\n",
    "for i in range(len(periods)):\n",
    "    lcm_val = lcm(lcm_val, periods[i])\n",
    "\n",
    "lcm_val"
   ]
  },
  {
   "cell_type": "code",
   "execution_count": null,
   "metadata": {},
   "outputs": [],
   "source": []
  }
 ],
 "metadata": {
  "kernelspec": {
   "display_name": "analytico",
   "language": "python",
   "name": "python3"
  },
  "language_info": {
   "codemirror_mode": {
    "name": "ipython",
    "version": 3
   },
   "file_extension": ".py",
   "mimetype": "text/x-python",
   "name": "python",
   "nbconvert_exporter": "python",
   "pygments_lexer": "ipython3",
   "version": "3.8.2"
  }
 },
 "nbformat": 4,
 "nbformat_minor": 2
}
