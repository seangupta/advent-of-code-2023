{
 "cells": [
  {
   "cell_type": "code",
   "execution_count": null,
   "metadata": {},
   "outputs": [],
   "source": [
    "from pathlib import Path\n",
    "import os"
   ]
  },
  {
   "cell_type": "code",
   "execution_count": null,
   "metadata": {},
   "outputs": [],
   "source": [
    "fp = os.path.join(Path().absolute(), \"inputs\", \"input9.txt\")\n",
    "\n",
    "with open(fp, \"r\") as f:\n",
    "    data = f.read().split(\"\\n\")[:-1]"
   ]
  },
  {
   "cell_type": "markdown",
   "metadata": {},
   "source": [
    "# Part 1"
   ]
  },
  {
   "cell_type": "code",
   "execution_count": null,
   "metadata": {},
   "outputs": [],
   "source": [
    "next_list = []\n",
    "\n",
    "for seq in data:\n",
    "    nums = [int(num) for num in seq.split()]\n",
    "    nums_last = [nums[-1]]\n",
    "    nums_diff_last = list(nums)\n",
    "    while len(nums_diff_last) >= 2 and not all(num == 0 for num in nums_diff_last):\n",
    "        nums_diff_last = [nums_diff_last[i + 1] - nums_diff_last[i] for i in range(len(nums_diff_last) - 1)]\n",
    "        nums_last.append(nums_diff_last[-1])\n",
    "    \n",
    "    if len(nums_diff_last) < 2:\n",
    "        print(\"error\")\n",
    "    else:\n",
    "        next = sum(nums_last)\n",
    "        next_list.append(next)\n",
    "\n",
    "    "
   ]
  },
  {
   "cell_type": "code",
   "execution_count": null,
   "metadata": {},
   "outputs": [],
   "source": [
    "sum(next_list)"
   ]
  },
  {
   "cell_type": "code",
   "execution_count": null,
   "metadata": {},
   "outputs": [],
   "source": []
  },
  {
   "cell_type": "markdown",
   "metadata": {},
   "source": [
    "# Part 2"
   ]
  },
  {
   "cell_type": "code",
   "execution_count": null,
   "metadata": {},
   "outputs": [],
   "source": [
    "prev_list = []\n",
    "\n",
    "for seq in data:\n",
    "    nums = [int(num) for num in seq.split()]\n",
    "    nums_first = [nums[0]]\n",
    "    nums_diff_last = list(nums)\n",
    "    while len(nums_diff_last) >= 2 and not all(num == 0 for num in nums_diff_last):\n",
    "        nums_diff_last = [nums_diff_last[i + 1] - nums_diff_last[i] for i in range(len(nums_diff_last) - 1)]\n",
    "        nums_first.append(nums_diff_last[0])\n",
    "    \n",
    "    if len(nums_diff_last) < 2:\n",
    "        raise ValueError\n",
    "    else:\n",
    "        res = 0\n",
    "        for i in list(range(len(nums_first) - 2, -1, -1)):\n",
    "            res = nums_first[i] - res\n",
    "            # print(res)\n",
    "\n",
    "        prev_list.append(res)\n",
    "\n",
    "    "
   ]
  },
  {
   "cell_type": "code",
   "execution_count": null,
   "metadata": {},
   "outputs": [],
   "source": [
    "sum(prev_list)"
   ]
  },
  {
   "cell_type": "code",
   "execution_count": null,
   "metadata": {},
   "outputs": [],
   "source": []
  }
 ],
 "metadata": {
  "kernelspec": {
   "display_name": "analytico",
   "language": "python",
   "name": "python3"
  },
  "language_info": {
   "codemirror_mode": {
    "name": "ipython",
    "version": 3
   },
   "file_extension": ".py",
   "mimetype": "text/x-python",
   "name": "python",
   "nbconvert_exporter": "python",
   "pygments_lexer": "ipython3",
   "version": "3.8.2"
  }
 },
 "nbformat": 4,
 "nbformat_minor": 2
}
