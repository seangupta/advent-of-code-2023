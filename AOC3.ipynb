{
 "cells": [
  {
   "cell_type": "code",
   "execution_count": null,
   "metadata": {},
   "outputs": [],
   "source": [
    "from pathlib import Path\n",
    "import os"
   ]
  },
  {
   "cell_type": "code",
   "execution_count": null,
   "metadata": {},
   "outputs": [],
   "source": [
    "fp = os.path.join(Path().absolute(), \"inputs\", \"input3.txt\")\n",
    "\n",
    "with open(fp, \"r\") as f:\n",
    "    data = f.readlines()"
   ]
  },
  {
   "cell_type": "markdown",
   "metadata": {},
   "source": [
    "# Part 1"
   ]
  },
  {
   "cell_type": "code",
   "execution_count": null,
   "metadata": {},
   "outputs": [],
   "source": [
    "adjacent_nums = []\n",
    "adj_num_id = 0\n",
    "loc_num_dict = {} # keys are location as (row, col), values are adjacent (part) numebrs\n",
    "\n",
    "for line_num, line in enumerate(data):\n",
    "    line_stripped = line.strip()\n",
    "    start_idx = None\n",
    "    end_idx = None\n",
    "    for i, char in enumerate(line_stripped):\n",
    "        if char.isdigit():\n",
    "            if start_idx is None:\n",
    "                start_idx = i\n",
    "        else:\n",
    "            if start_idx is not None:\n",
    "                end_idx = i - 1\n",
    "        \n",
    "        if start_idx is not None and i == len(line_stripped) - 1:\n",
    "            if char.isdigit():\n",
    "                end_idx = i\n",
    "            else:\n",
    "                end_idx = i - 1\n",
    "                \n",
    "        if end_idx is not None:\n",
    "\n",
    "            # end\n",
    "            # check if adjacent to symbol\n",
    "            adjacent = False\n",
    "            \n",
    "            left_boundary = max(0, start_idx - 1)\n",
    "            right_boundary = min(len(line_stripped) - 1, end_idx + 1)\n",
    "            \n",
    "            # left\n",
    "            if start_idx > 0 and line_stripped[start_idx - 1] != \".\":\n",
    "                adjacent = True\n",
    "            # right\n",
    "            elif end_idx < len(line_stripped) - 1 and line_stripped[end_idx + 1] != \".\":\n",
    "                adjacent = True \n",
    "\n",
    "            # line above\n",
    "            elif line_num > 0 and any(c != \".\" for c in data[line_num - 1][left_boundary:(right_boundary + 1)]):\n",
    "                adjacent = True\n",
    "\n",
    "            # line below\n",
    "            elif line_num < len(data) - 1 and any(c != \".\" for c in data[line_num + 1][left_boundary:(right_boundary + 1)]):\n",
    "                adjacent = True\n",
    "\n",
    "            if adjacent:\n",
    "                adj_num = int(line_stripped[start_idx:(end_idx + 1)])\n",
    "                adjacent_nums.append(adj_num)\n",
    "\n",
    "                for idx in range(start_idx, end_idx + 1):\n",
    "                    loc_num_dict[(line_num, idx)] = (adj_num, adj_num_id)\n",
    "\n",
    "                adj_num_id += 1\n",
    "\n",
    "            start_idx = None\n",
    "            end_idx = None\n",
    "            \n",
    "        i += 1"
   ]
  },
  {
   "cell_type": "code",
   "execution_count": null,
   "metadata": {},
   "outputs": [],
   "source": [
    "sum(adjacent_nums)"
   ]
  },
  {
   "cell_type": "code",
   "execution_count": null,
   "metadata": {},
   "outputs": [],
   "source": []
  },
  {
   "cell_type": "markdown",
   "metadata": {},
   "source": [
    "# Part 2"
   ]
  },
  {
   "cell_type": "code",
   "execution_count": null,
   "metadata": {},
   "outputs": [],
   "source": [
    "num_rows = len(data)\n",
    "num_cols = len(data[0].strip())\n",
    "\n",
    "gear_ratio_sum = 0\n",
    "\n",
    "for line_num, line in enumerate(data):\n",
    "    line_stripped = line.strip()\n",
    "    for i, char in enumerate(line_stripped):\n",
    "        if char == \"*\":\n",
    "            part_numbers = []\n",
    "            part_number_ids = []\n",
    "\n",
    "            # check surrounding spots if in loc_num_dict\n",
    "\n",
    "            candidate_locs = [\n",
    "                (line_num - 1, i - 1), (line_num - 1, i), (line_num - 1, i + 1),\n",
    "                (line_num, i - 1), (line_num, i), (line_num, i + 1),\n",
    "                (line_num + 1, i - 1), (line_num + 1, i), (line_num + 1, i + 1)\n",
    "            ]\n",
    "\n",
    "            for x, y in candidate_locs:\n",
    "                if 0 <= x < num_rows and 0 <= y < num_cols:\n",
    "                    if (x, y) in loc_num_dict:\n",
    "                        adj_num, adj_num_id = loc_num_dict[(x, y)]\n",
    "                        if adj_num_id not in part_number_ids:\n",
    "                            part_numbers.append(adj_num)\n",
    "                            part_number_ids.append(adj_num_id)\n",
    "\n",
    "            if len(part_numbers) == 2:\n",
    "                # is gear\n",
    "                gear_ratio = part_numbers[0] * part_numbers[1]\n",
    "                gear_ratio_sum += gear_ratio"
   ]
  },
  {
   "cell_type": "code",
   "execution_count": null,
   "metadata": {},
   "outputs": [],
   "source": [
    "gear_ratio_sum"
   ]
  },
  {
   "cell_type": "code",
   "execution_count": null,
   "metadata": {},
   "outputs": [],
   "source": []
  }
 ],
 "metadata": {
  "kernelspec": {
   "display_name": "analytico",
   "language": "python",
   "name": "python3"
  },
  "language_info": {
   "codemirror_mode": {
    "name": "ipython",
    "version": 3
   },
   "file_extension": ".py",
   "mimetype": "text/x-python",
   "name": "python",
   "nbconvert_exporter": "python",
   "pygments_lexer": "ipython3",
   "version": "3.8.2"
  }
 },
 "nbformat": 4,
 "nbformat_minor": 2
}
