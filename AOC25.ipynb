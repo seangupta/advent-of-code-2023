{
 "cells": [
  {
   "cell_type": "code",
   "execution_count": null,
   "metadata": {},
   "outputs": [],
   "source": [
    "from pathlib import Path\n",
    "import os\n",
    "from collections import deque"
   ]
  },
  {
   "cell_type": "code",
   "execution_count": null,
   "metadata": {},
   "outputs": [],
   "source": [
    "fp = os.path.join(Path().absolute(), \"inputs\", \"input25.txt\")\n",
    "# fp = os.path.join(Path().absolute(), \"inputs\", \"input25_test.txt\")\n",
    "\n",
    "with open(fp, \"r\") as f:\n",
    "    data = f.read().split(\"\\n\")[:-1]"
   ]
  },
  {
   "cell_type": "code",
   "execution_count": null,
   "metadata": {},
   "outputs": [],
   "source": [
    "data"
   ]
  },
  {
   "cell_type": "code",
   "execution_count": null,
   "metadata": {},
   "outputs": [],
   "source": [
    "all_nodes = []\n",
    "\n",
    "for line in data:\n",
    "    from_node, to_nodes = line.split(\": \")\n",
    "    to_nodes = to_nodes.split()\n",
    "    all_nodes.append(from_node)\n",
    "    all_nodes += to_nodes\n",
    "\n",
    "all_nodes = list(set(all_nodes))"
   ]
  },
  {
   "cell_type": "code",
   "execution_count": null,
   "metadata": {},
   "outputs": [],
   "source": [
    "all_nodes"
   ]
  },
  {
   "cell_type": "code",
   "execution_count": null,
   "metadata": {},
   "outputs": [],
   "source": [
    "num_nodes = len(all_nodes)\n",
    "num_nodes"
   ]
  },
  {
   "cell_type": "code",
   "execution_count": null,
   "metadata": {},
   "outputs": [],
   "source": [
    "adj_matrix = [[0 for _ in range(num_nodes)] for _ in range(num_nodes)]\n",
    "\n",
    "for line in data:\n",
    "    from_node, to_nodes = line.split(\": \")\n",
    "    to_nodes = to_nodes.split()\n",
    "    \n",
    "    from_node_index = all_nodes.index(from_node)\n",
    "\n",
    "    for to_node in to_nodes:\n",
    "        to_node_index = all_nodes.index(to_node)\n",
    "        adj_matrix[from_node_index][to_node_index] = 1\n",
    "        adj_matrix[to_node_index][from_node_index] = 1"
   ]
  },
  {
   "cell_type": "code",
   "execution_count": null,
   "metadata": {},
   "outputs": [],
   "source": [
    "sum(sum(row) for row in adj_matrix)"
   ]
  },
  {
   "cell_type": "code",
   "execution_count": null,
   "metadata": {},
   "outputs": [],
   "source": [
    "[sum(row) for row in adj_matrix]"
   ]
  },
  {
   "cell_type": "code",
   "execution_count": null,
   "metadata": {},
   "outputs": [],
   "source": [
    "adj_matrix_sparse = []\n",
    "for i in range(num_nodes):\n",
    "    adj_matrix_sparse.append([j for j, val in enumerate(adj_matrix[i]) if val == 1])"
   ]
  },
  {
   "cell_type": "code",
   "execution_count": null,
   "metadata": {},
   "outputs": [],
   "source": [
    "adj_matrix_sparse"
   ]
  },
  {
   "cell_type": "code",
   "execution_count": null,
   "metadata": {},
   "outputs": [],
   "source": [
    "def bfs(adj_matrix_sparse, start_idx, residual_capacity):\n",
    "\n",
    "    # Stores path\n",
    "    parents = [None] * num_nodes\n",
    "\n",
    "    visited = [False] * num_nodes\n",
    "    queue = deque()\n",
    "\n",
    "    queue.append(start_idx)\n",
    "    visited[start_idx] = True\n",
    "\n",
    "    while queue:\n",
    "        u = queue.popleft()\n",
    "        for v in adj_matrix_sparse[u]:\n",
    "            if not visited[v] and residual_capacity[u][v] > 0:\n",
    "                queue.append(v)\n",
    "                visited[v] = True\n",
    "                parents[v] = u\n",
    "\n",
    "    return visited, parents"
   ]
  },
  {
   "cell_type": "code",
   "execution_count": null,
   "metadata": {},
   "outputs": [],
   "source": [
    "source_idx = 0\n",
    "\n",
    "for sink_idx in range(num_nodes):\n",
    "    if sink_idx == source_idx:\n",
    "        continue\n",
    "\n",
    "    print(f\"{sink_idx = }\")\n",
    "\n",
    "    # Run Ford-Fulkerson\n",
    "    capacity_matrix = adj_matrix\n",
    "\n",
    "    # Initialise flows as zero\n",
    "    flow_matrix = [[0 for _ in range(num_nodes)] for _ in range(num_nodes)]\n",
    "\n",
    "    while True:\n",
    "        # Find residual network\n",
    "        residual_capacity = [[None for _ in range(num_nodes)] for _ in range(num_nodes)]\n",
    "        for i in range(num_nodes):\n",
    "            for j in range(num_nodes):\n",
    "                residual_capacity[i][j] = capacity_matrix[i][j] - flow_matrix[i][j]\n",
    "\n",
    "        # Find augmenting path\n",
    "        # print(\"Finding augmenting path\")\n",
    "        visited, parents = bfs(adj_matrix_sparse, source_idx, residual_capacity)\n",
    "\n",
    "        if not visited[sink_idx]:\n",
    "            # print(\"No more augmenting paths\")\n",
    "            # No more augmenting paths - done\n",
    "            max_flow = sum(flow_matrix[source_idx])\n",
    "            print(f\"{max_flow = }\")\n",
    "\n",
    "            S = [i for i, val in enumerate(visited) if val == True]\n",
    "            edges = []\n",
    "            for i in S:\n",
    "                for j in adj_matrix_sparse[i]:\n",
    "                    if j not in S:\n",
    "                        edges.append((i, j))\n",
    "\n",
    "            min_cut_weight = len(edges)\n",
    "            print(f\"{min_cut_weight = }\")\n",
    "            assert max_flow == min_cut_weight\n",
    "            \n",
    "            if min_cut_weight == 3:\n",
    "                group_one_size = len(S)\n",
    "                group_two_size = num_nodes - len(S)\n",
    "                result = group_one_size * group_two_size\n",
    "                print(\"Finished, result = \", result)\n",
    "            elif min_cut_weight < 2:\n",
    "                raise ValueError\n",
    "\n",
    "            break\n",
    "\n",
    "        else:\n",
    "            # iterate through edges in augmenting path\n",
    "            current = sink_idx\n",
    "            while True:\n",
    "                parent = parents[current]\n",
    "                res_cap = residual_capacity[parent][current]\n",
    "\n",
    "                flow_matrix[parent][current] += res_cap\n",
    "                flow_matrix[current][parent] -= res_cap\n",
    "\n",
    "                current = parent\n",
    "                if current == source_idx:\n",
    "                    break"
   ]
  },
  {
   "cell_type": "code",
   "execution_count": null,
   "metadata": {},
   "outputs": [],
   "source": []
  }
 ],
 "metadata": {
  "kernelspec": {
   "display_name": "analytico",
   "language": "python",
   "name": "python3"
  },
  "language_info": {
   "codemirror_mode": {
    "name": "ipython",
    "version": 3
   },
   "file_extension": ".py",
   "mimetype": "text/x-python",
   "name": "python",
   "nbconvert_exporter": "python",
   "pygments_lexer": "ipython3",
   "version": "3.8.2"
  }
 },
 "nbformat": 4,
 "nbformat_minor": 2
}
