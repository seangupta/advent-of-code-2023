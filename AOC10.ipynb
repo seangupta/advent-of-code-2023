{
 "cells": [
  {
   "cell_type": "code",
   "execution_count": null,
   "metadata": {},
   "outputs": [],
   "source": [
    "from pathlib import Path\n",
    "import os"
   ]
  },
  {
   "cell_type": "code",
   "execution_count": null,
   "metadata": {},
   "outputs": [],
   "source": [
    "fp = os.path.join(Path().absolute(), \"inputs\", \"input10.txt\")\n",
    "# fp = os.path.join(Path().absolute(), \"inputs\", \"input10_test.txt\")\n",
    "# fp = os.path.join(Path().absolute(), \"inputs\", \"input10_test2.txt\")\n",
    "# fp = os.path.join(Path().absolute(), \"inputs\", \"input10_test3.txt\")\n",
    "# fp = os.path.join(Path().absolute(), \"inputs\", \"input10_test4.txt\")\n",
    "\n",
    "with open(fp, \"r\") as f:\n",
    "    data = f.read().split(\"\\n\")[:-1]"
   ]
  },
  {
   "cell_type": "code",
   "execution_count": null,
   "metadata": {},
   "outputs": [],
   "source": [
    "data"
   ]
  },
  {
   "cell_type": "markdown",
   "metadata": {},
   "source": [
    "# Part 1"
   ]
  },
  {
   "cell_type": "code",
   "execution_count": null,
   "metadata": {},
   "outputs": [],
   "source": [
    "symbol_to_dirs = {\n",
    "    \"|\": [\"n\", \"s\"],\n",
    "    \"-\": [\"w\", \"e\"],\n",
    "    \"L\": [\"n\", \"e\"],\n",
    "    \"J\": [\"n\", \"w\"],\n",
    "    \"7\": [\"s\", \"w\"],\n",
    "    \"F\": [\"s\", \"e\"],\n",
    "    \".\": [],\n",
    "    \"S\": [\"s\", \"w\"] # 7 (actual problem, test 4)\n",
    "    # \"S\": [\"s\", \"e\"] # test 1, 2\n",
    "    # \"S\": [\"s\", \"e\"] # test 3\n",
    "}"
   ]
  },
  {
   "cell_type": "code",
   "execution_count": null,
   "metadata": {},
   "outputs": [],
   "source": [
    "num_rows = len(data)\n",
    "num_cols = len(data[0])\n",
    "print(num_rows, num_cols)"
   ]
  },
  {
   "cell_type": "code",
   "execution_count": null,
   "metadata": {},
   "outputs": [],
   "source": [
    "for i, row in enumerate(data):\n",
    "    if \"S\" in row:\n",
    "        j = row.index(\"S\")\n",
    "        break\n",
    "\n",
    "pipe = [(i, j)]\n",
    "start_i = i\n",
    "start_j = j\n",
    "\n",
    "if i > 0 and \"s\" in symbol_to_dirs[data[i - 1][j]]:\n",
    "    next = (i - 1, j)\n",
    "    pipe.append(next)\n",
    "    last_dir = \"s\"\n",
    "elif i < num_rows - 1 and \"n\" in symbol_to_dirs[data[i + 1][j]]:\n",
    "    next = (i + 1, j)\n",
    "    pipe.append(next)\n",
    "    last_dir = \"n\"\n",
    "elif j > 0 and \"e\" in symbol_to_dirs[data[i][j - 1]]:\n",
    "    next = (i, j - 1)\n",
    "    pipe.append(next)\n",
    "    last_dir = \"e\"\n",
    "elif j < num_cols - 1 and \"w\" in symbol_to_dirs[data[i][j + 1]]:\n",
    "    next = (i, j + 1)\n",
    "    pipe.append(next)\n",
    "    last_dir = \"w\"\n",
    "else:\n",
    "    print(\"no next found\")\n",
    "\n",
    "print(pipe, last_dir)\n",
    "\n",
    "i, j = next\n",
    "\n",
    "max_num = 20000\n",
    "num = 0\n",
    "\n",
    "while (i != start_i or j != start_j) and num < max_num:\n",
    "    symbol = data[i][j]\n",
    "\n",
    "    other_dir = [d for d in symbol_to_dirs[symbol] if d != last_dir][0]\n",
    "    # print(symbol, other_dir)\n",
    "    if other_dir == \"s\":\n",
    "        i += 1\n",
    "        last_dir = \"n\"\n",
    "    elif other_dir == \"n\":\n",
    "        i -= 1\n",
    "        last_dir = \"s\"\n",
    "    elif other_dir == \"w\":\n",
    "        j -= 1\n",
    "        last_dir = \"e\"\n",
    "    elif other_dir == \"e\":\n",
    "        j += 1\n",
    "        last_dir = \"w\"\n",
    "    else:\n",
    "        print(\"unknown other dir\")\n",
    "\n",
    "    # i, j = next\n",
    "    pipe.append((i, j))\n",
    "    num += 1\n",
    "    # print(num, pipe[-1])\n",
    "\n",
    "    if len(set(pipe)) != len(pipe):\n",
    "        print(\"end\")\n",
    "        break"
   ]
  },
  {
   "cell_type": "code",
   "execution_count": null,
   "metadata": {},
   "outputs": [],
   "source": [
    "len(pipe)"
   ]
  },
  {
   "cell_type": "code",
   "execution_count": null,
   "metadata": {},
   "outputs": [],
   "source": [
    "(len(pipe) - 1) / 2"
   ]
  },
  {
   "cell_type": "code",
   "execution_count": null,
   "metadata": {},
   "outputs": [],
   "source": []
  },
  {
   "cell_type": "markdown",
   "metadata": {},
   "source": [
    "# Part 2"
   ]
  },
  {
   "cell_type": "code",
   "execution_count": null,
   "metadata": {},
   "outputs": [],
   "source": [
    "# number of intersections\n",
    "(num_rows + 1) * (num_cols + 1)"
   ]
  },
  {
   "cell_type": "code",
   "execution_count": null,
   "metadata": {},
   "outputs": [],
   "source": [
    "def no_blocker(pos1_x, pos1_y, pos2_x, pos2_y, pos1_dir, pos2_dir):\n",
    "    # check if no valid blocking connection\n",
    "    pos1 = data[pos1_x][pos1_y]\n",
    "    pos2 = data[pos2_x][pos2_y]\n",
    "    return not ((pos1_x, pos1_y) in pipe and (pos2_x, pos2_y) in pipe and pos1_dir in symbol_to_dirs[pos1] and pos2_dir in symbol_to_dirs[pos2])"
   ]
  },
  {
   "cell_type": "code",
   "execution_count": null,
   "metadata": {},
   "outputs": [],
   "source": [
    "outside_intersections_expanded = []\n",
    "outside_to_expand = [(0, 0)]\n",
    "max_num_iter = 20_000\n",
    "num_iter = 0\n",
    "\n",
    "while len(outside_to_expand) > 0 and num_iter < max_num_iter:\n",
    "    # print(f\"Expanded: {outside_intersections_expanded}, to expand: {outside_to_expand}\")\n",
    "    print(f\"Expanded: {len(outside_intersections_expanded)}, to expand: {len(outside_to_expand)}\")\n",
    "\n",
    "    intersection_to_expand = outside_to_expand.pop()\n",
    "    x, y = intersection_to_expand\n",
    "\n",
    "    # up\n",
    "    if x > 0:\n",
    "        new = (x - 1, y)\n",
    "        if new not in outside_to_expand and new not in outside_intersections_expanded:\n",
    "            if y == 0 or y == num_cols:\n",
    "                # border\n",
    "                outside_to_expand.append(new)\n",
    "            else:\n",
    "                pos1_x, pos1_y = x - 1, y - 1\n",
    "                pos2_x, pos2_y = x - 1, y\n",
    "                pos1_dir = \"e\"\n",
    "                pos2_dir = \"w\"\n",
    "                if no_blocker(pos1_x, pos1_y, pos2_x, pos2_y, pos1_dir, pos2_dir):\n",
    "                    outside_to_expand.append(new)\n",
    "    \n",
    "    # down\n",
    "    if x < num_rows:\n",
    "        new = (x + 1, y)\n",
    "        if new not in outside_to_expand and new not in outside_intersections_expanded:\n",
    "            if y == 0 or y == num_cols:\n",
    "                outside_to_expand.append(new)\n",
    "            else:\n",
    "                pos1_x, pos1_y = x, y - 1\n",
    "                pos2_x, pos2_y = x, y\n",
    "                pos1_dir = \"e\"\n",
    "                pos2_dir = \"w\"\n",
    "\n",
    "                if no_blocker(pos1_x, pos1_y, pos2_x, pos2_y, pos1_dir, pos2_dir):\n",
    "                    outside_to_expand.append(new)\n",
    "\n",
    "    # left\n",
    "    if y > 0:\n",
    "        new = (x, y - 1)\n",
    "        if new not in outside_to_expand and new not in outside_intersections_expanded:\n",
    "            if x == 0 or x == num_rows:\n",
    "                outside_to_expand.append(new)\n",
    "            else:\n",
    "                pos1_x, pos1_y = x - 1, y - 1\n",
    "                pos2_x, pos2_y = x, y - 1\n",
    "                pos1_dir = \"s\"\n",
    "                pos2_dir = \"n\"\n",
    "\n",
    "                if no_blocker(pos1_x, pos1_y, pos2_x, pos2_y, pos1_dir, pos2_dir):\n",
    "                    outside_to_expand.append(new)\n",
    "\n",
    "    # right\n",
    "    if y < num_cols:\n",
    "        new = (x, y + 1)\n",
    "        if new not in outside_to_expand and new not in outside_intersections_expanded:\n",
    "            if x == 0 or x == num_rows:\n",
    "                outside_to_expand.append(new)\n",
    "            else:\n",
    "                pos1_x, pos1_y = x - 1, y\n",
    "                pos2_x, pos2_y = x, y\n",
    "                pos1_dir = \"s\"\n",
    "                pos2_dir = \"n\"\n",
    "\n",
    "                if no_blocker(pos1_x, pos1_y, pos2_x, pos2_y, pos1_dir, pos2_dir):\n",
    "                    outside_to_expand.append(new)\n",
    "\n",
    "    outside_intersections_expanded.append(intersection_to_expand)\n",
    "    num_iter += 1\n",
    "\n",
    "print(\"done\", num_iter)"
   ]
  },
  {
   "cell_type": "code",
   "execution_count": null,
   "metadata": {},
   "outputs": [],
   "source": []
  },
  {
   "cell_type": "code",
   "execution_count": null,
   "metadata": {},
   "outputs": [],
   "source": [
    "num_cells_outside = 0\n",
    "num_cells_inside = 0\n",
    "for i, row in enumerate(data):\n",
    "    for j, cell in enumerate(row):\n",
    "        if (i, j) not in pipe:\n",
    "            if any(x in outside_intersections_expanded for x in [(i, j), (i + 1, j), (i, j + 1), (i + 1, j + 1)]):\n",
    "                # cell is outside\n",
    "                num_cells_outside += 1\n",
    "            else:\n",
    "                num_cells_inside += 1\n",
    "\n",
    "# print(num_cells_outside)\n",
    "print(num_cells_inside)"
   ]
  },
  {
   "cell_type": "code",
   "execution_count": null,
   "metadata": {},
   "outputs": [],
   "source": []
  },
  {
   "cell_type": "code",
   "execution_count": null,
   "metadata": {},
   "outputs": [],
   "source": []
  },
  {
   "cell_type": "code",
   "execution_count": null,
   "metadata": {},
   "outputs": [],
   "source": []
  },
  {
   "cell_type": "code",
   "execution_count": null,
   "metadata": {},
   "outputs": [],
   "source": []
  }
 ],
 "metadata": {
  "kernelspec": {
   "display_name": "analytico",
   "language": "python",
   "name": "python3"
  },
  "language_info": {
   "codemirror_mode": {
    "name": "ipython",
    "version": 3
   },
   "file_extension": ".py",
   "mimetype": "text/x-python",
   "name": "python",
   "nbconvert_exporter": "python",
   "pygments_lexer": "ipython3",
   "version": "3.8.2"
  }
 },
 "nbformat": 4,
 "nbformat_minor": 2
}
