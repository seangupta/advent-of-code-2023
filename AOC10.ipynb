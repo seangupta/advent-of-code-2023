{
 "cells": [
  {
   "cell_type": "code",
   "execution_count": null,
   "metadata": {},
   "outputs": [],
   "source": [
    "from pathlib import Path\n",
    "import os\n",
    "from collections import deque"
   ]
  },
  {
   "cell_type": "code",
   "execution_count": null,
   "metadata": {},
   "outputs": [],
   "source": [
    "fp = os.path.join(Path().absolute(), \"inputs\", \"input10.txt\")\n",
    "# fp = os.path.join(Path().absolute(), \"inputs\", \"input10_test.txt\")\n",
    "# fp = os.path.join(Path().absolute(), \"inputs\", \"input10_test2.txt\")\n",
    "# fp = os.path.join(Path().absolute(), \"inputs\", \"input10_test3.txt\")\n",
    "# fp = os.path.join(Path().absolute(), \"inputs\", \"input10_test4.txt\")\n",
    "\n",
    "with open(fp, \"r\") as f:\n",
    "    data = f.read().split(\"\\n\")[:-1]"
   ]
  },
  {
   "cell_type": "code",
   "execution_count": null,
   "metadata": {},
   "outputs": [],
   "source": [
    "data"
   ]
  },
  {
   "cell_type": "markdown",
   "metadata": {},
   "source": [
    "# Part 1"
   ]
  },
  {
   "cell_type": "code",
   "execution_count": null,
   "metadata": {},
   "outputs": [],
   "source": [
    "symbol_to_dirs = {\n",
    "    \"|\": [\"n\", \"s\"],\n",
    "    \"-\": [\"w\", \"e\"],\n",
    "    \"L\": [\"n\", \"e\"],\n",
    "    \"J\": [\"n\", \"w\"],\n",
    "    \"7\": [\"s\", \"w\"],\n",
    "    \"F\": [\"s\", \"e\"],\n",
    "    \".\": [],\n",
    "    \"S\": [\"s\", \"w\"] # 7 (actual problem, test 4)\n",
    "    # \"S\": [\"s\", \"e\"] # test 1, 2\n",
    "    # \"S\": [\"s\", \"e\"] # test 3\n",
    "}"
   ]
  },
  {
   "cell_type": "code",
   "execution_count": null,
   "metadata": {},
   "outputs": [],
   "source": [
    "num_rows = len(data)\n",
    "num_cols = len(data[0])\n",
    "print(num_rows, num_cols)"
   ]
  },
  {
   "cell_type": "code",
   "execution_count": null,
   "metadata": {},
   "outputs": [],
   "source": [
    "# Find start\n",
    "for i, row in enumerate(data):\n",
    "    if \"S\" in row:\n",
    "        j = row.index(\"S\")\n",
    "        break\n",
    "\n",
    "pipe = [(i, j)]\n",
    "start_i = i\n",
    "start_j = j"
   ]
  },
  {
   "cell_type": "code",
   "execution_count": null,
   "metadata": {},
   "outputs": [],
   "source": [
    "# Find next element\n",
    "if i > 0 and \"s\" in symbol_to_dirs[data[i - 1][j]]:\n",
    "    next = (i - 1, j)\n",
    "    pipe.append(next)\n",
    "    last_dir = \"s\"\n",
    "elif i < num_rows - 1 and \"n\" in symbol_to_dirs[data[i + 1][j]]:\n",
    "    next = (i + 1, j)\n",
    "    pipe.append(next)\n",
    "    last_dir = \"n\"\n",
    "elif j > 0 and \"e\" in symbol_to_dirs[data[i][j - 1]]:\n",
    "    next = (i, j - 1)\n",
    "    pipe.append(next)\n",
    "    last_dir = \"e\"\n",
    "elif j < num_cols - 1 and \"w\" in symbol_to_dirs[data[i][j + 1]]:\n",
    "    next = (i, j + 1)\n",
    "    pipe.append(next)\n",
    "    last_dir = \"w\"\n",
    "else:\n",
    "    print(\"no next found\")\n",
    "\n",
    "# print(pipe, last_dir)"
   ]
  },
  {
   "cell_type": "code",
   "execution_count": null,
   "metadata": {},
   "outputs": [],
   "source": [
    "# Find all other elements\n",
    "i, j = next\n",
    "max_num = 20000\n",
    "num = 0\n",
    "while (i != start_i or j != start_j) and num < max_num:\n",
    "    symbol = data[i][j]\n",
    "\n",
    "    other_dir = [d for d in symbol_to_dirs[symbol] if d != last_dir][0]\n",
    "    # print(symbol, other_dir)\n",
    "    if other_dir == \"s\":\n",
    "        i += 1\n",
    "        last_dir = \"n\"\n",
    "    elif other_dir == \"n\":\n",
    "        i -= 1\n",
    "        last_dir = \"s\"\n",
    "    elif other_dir == \"w\":\n",
    "        j -= 1\n",
    "        last_dir = \"e\"\n",
    "    elif other_dir == \"e\":\n",
    "        j += 1\n",
    "        last_dir = \"w\"\n",
    "    else:\n",
    "        print(\"unknown other dir\")\n",
    "\n",
    "    # i, j = next\n",
    "    pipe.append((i, j))\n",
    "    num += 1\n",
    "    # print(num, pipe[-1])\n",
    "\n",
    "    # if len(set(pipe)) != len(pipe):\n",
    "    #     print(\"end\")\n",
    "    #     break"
   ]
  },
  {
   "cell_type": "code",
   "execution_count": null,
   "metadata": {},
   "outputs": [],
   "source": [
    "len(pipe)"
   ]
  },
  {
   "cell_type": "code",
   "execution_count": null,
   "metadata": {},
   "outputs": [],
   "source": [
    "(len(pipe) - 1) / 2"
   ]
  },
  {
   "cell_type": "code",
   "execution_count": null,
   "metadata": {},
   "outputs": [],
   "source": []
  },
  {
   "cell_type": "markdown",
   "metadata": {},
   "source": [
    "# Part 2"
   ]
  },
  {
   "cell_type": "markdown",
   "metadata": {},
   "source": [
    "I originally implemented this by checking whether grid line intersections were inside or outside the pipe. This was very slow though."
   ]
  },
  {
   "cell_type": "code",
   "execution_count": null,
   "metadata": {},
   "outputs": [],
   "source": [
    "# # number of intersections\n",
    "# (num_rows + 1) * (num_cols + 1)"
   ]
  },
  {
   "cell_type": "code",
   "execution_count": null,
   "metadata": {},
   "outputs": [],
   "source": [
    "# def no_blocker(pos1_x, pos1_y, pos2_x, pos2_y, pos1_dir, pos2_dir):\n",
    "#     # check if no valid blocking connection\n",
    "#     pos1 = data[pos1_x][pos1_y]\n",
    "#     pos2 = data[pos2_x][pos2_y]\n",
    "#     return not ((pos1_x, pos1_y) in pipe and (pos2_x, pos2_y) in pipe and pos1_dir in symbol_to_dirs[pos1] and pos2_dir in symbol_to_dirs[pos2])"
   ]
  },
  {
   "cell_type": "code",
   "execution_count": null,
   "metadata": {},
   "outputs": [],
   "source": [
    "# outside_intersections_expanded = []\n",
    "# cells_to_expand = [(0, 0)]\n",
    "# max_num_iter = 20_000\n",
    "# num_iter = 0\n",
    "\n",
    "# while len(cells_to_expand) > 0 and num_iter < max_num_iter:\n",
    "#     # print(f\"Expanded: {outside_intersections_expanded}, to expand: {outside_to_expand}\")\n",
    "#     print(f\"Expanded: {len(outside_intersections_expanded)}, to expand: {len(cells_to_expand)}\")\n",
    "\n",
    "#     intersection_to_expand = cells_to_expand.pop()\n",
    "#     x, y = intersection_to_expand\n",
    "\n",
    "#     # up\n",
    "#     if x > 0:\n",
    "#         new = (x - 1, y)\n",
    "#         if new not in cells_to_expand and new not in outside_intersections_expanded:\n",
    "#             if y == 0 or y == num_cols:\n",
    "#                 # border\n",
    "#                 cells_to_expand.append(new)\n",
    "#             else:\n",
    "#                 pos1_x, pos1_y = x - 1, y - 1\n",
    "#                 pos2_x, pos2_y = x - 1, y\n",
    "#                 pos1_dir = \"e\"\n",
    "#                 pos2_dir = \"w\"\n",
    "#                 if no_blocker(pos1_x, pos1_y, pos2_x, pos2_y, pos1_dir, pos2_dir):\n",
    "#                     cells_to_expand.append(new)\n",
    "    \n",
    "#     # down\n",
    "#     if x < num_rows:\n",
    "#         new = (x + 1, y)\n",
    "#         if new not in cells_to_expand and new not in outside_intersections_expanded:\n",
    "#             if y == 0 or y == num_cols:\n",
    "#                 cells_to_expand.append(new)\n",
    "#             else:\n",
    "#                 pos1_x, pos1_y = x, y - 1\n",
    "#                 pos2_x, pos2_y = x, y\n",
    "#                 pos1_dir = \"e\"\n",
    "#                 pos2_dir = \"w\"\n",
    "\n",
    "#                 if no_blocker(pos1_x, pos1_y, pos2_x, pos2_y, pos1_dir, pos2_dir):\n",
    "#                     cells_to_expand.append(new)\n",
    "\n",
    "#     # left\n",
    "#     if y > 0:\n",
    "#         new = (x, y - 1)\n",
    "#         if new not in cells_to_expand and new not in outside_intersections_expanded:\n",
    "#             if x == 0 or x == num_rows:\n",
    "#                 cells_to_expand.append(new)\n",
    "#             else:\n",
    "#                 pos1_x, pos1_y = x - 1, y - 1\n",
    "#                 pos2_x, pos2_y = x, y - 1\n",
    "#                 pos1_dir = \"s\"\n",
    "#                 pos2_dir = \"n\"\n",
    "\n",
    "#                 if no_blocker(pos1_x, pos1_y, pos2_x, pos2_y, pos1_dir, pos2_dir):\n",
    "#                     cells_to_expand.append(new)\n",
    "\n",
    "#     # right\n",
    "#     if y < num_cols:\n",
    "#         new = (x, y + 1)\n",
    "#         if new not in cells_to_expand and new not in outside_intersections_expanded:\n",
    "#             if x == 0 or x == num_rows:\n",
    "#                 cells_to_expand.append(new)\n",
    "#             else:\n",
    "#                 pos1_x, pos1_y = x - 1, y\n",
    "#                 pos2_x, pos2_y = x, y\n",
    "#                 pos1_dir = \"s\"\n",
    "#                 pos2_dir = \"n\"\n",
    "\n",
    "#                 if no_blocker(pos1_x, pos1_y, pos2_x, pos2_y, pos1_dir, pos2_dir):\n",
    "#                     cells_to_expand.append(new)\n",
    "\n",
    "#     outside_intersections_expanded.append(intersection_to_expand)\n",
    "#     num_iter += 1\n",
    "\n",
    "# print(\"done\", num_iter)"
   ]
  },
  {
   "cell_type": "code",
   "execution_count": null,
   "metadata": {},
   "outputs": [],
   "source": [
    "# num_cells_outside = 0\n",
    "# num_cells_inside = 0\n",
    "# for i, row in enumerate(data):\n",
    "#     for j, cell in enumerate(row):\n",
    "#         if (i, j) not in pipe:\n",
    "#             if any(x in outside_intersections_expanded for x in [(i, j), (i + 1, j), (i, j + 1), (i + 1, j + 1)]):\n",
    "#                 # cell is outside\n",
    "#                 num_cells_outside += 1\n",
    "#             else:\n",
    "#                 num_cells_inside += 1\n",
    "\n",
    "# print(num_cells_outside)\n",
    "# print(num_cells_inside)"
   ]
  },
  {
   "cell_type": "code",
   "execution_count": null,
   "metadata": {},
   "outputs": [],
   "source": []
  },
  {
   "cell_type": "markdown",
   "metadata": {},
   "source": [
    "Instead we scale up the grid by replacing a single square by a 3x3 subgrid"
   ]
  },
  {
   "cell_type": "code",
   "execution_count": null,
   "metadata": {},
   "outputs": [],
   "source": [
    "num_rows_zoom = 3 * num_rows\n",
    "num_cols_zoom = 3 * num_cols\n",
    "\n",
    "data_zoom = [[\".\" for _ in range(num_cols_zoom)] for __ in range(num_rows_zoom)]\n",
    "\n",
    "pipe_cells_zoom = []\n",
    "\n",
    "for i, j in pipe[:-1]:\n",
    "    symbol = data[i][j]\n",
    "    offset_i = 3 * i\n",
    "    offset_j = 3 * j\n",
    "\n",
    "    if symbol == \"|\":\n",
    "        fill = [(offset_i, offset_j + 1), (offset_i + 1, offset_j + 1), (offset_i + 2, offset_j + 1)]\n",
    "    elif symbol == \"-\":\n",
    "        fill = [(offset_i + 1, offset_j), (offset_i + 1, offset_j + 1), (offset_i + 1, offset_j + 2)]\n",
    "    elif symbol == \"L\":\n",
    "        fill = [(offset_i, offset_j + 1), (offset_i + 1, offset_j + 1), (offset_i + 1, offset_j + 2)]\n",
    "    elif symbol == \"J\":\n",
    "        fill = [(offset_i, offset_j + 1), (offset_i + 1, offset_j + 1), (offset_i + 1, offset_j)]\n",
    "    elif symbol in [\"7\", \"S\"]:\n",
    "        fill = [(offset_i + 1, offset_j), (offset_i + 1, offset_j + 1), (offset_i + 2, offset_j + 1)]\n",
    "    elif symbol == \"F\":\n",
    "        fill = [(offset_i + 1, offset_j + 2), (offset_i + 1, offset_j + 1), (offset_i + 2, offset_j + 1)]\n",
    "    else:\n",
    "        raise ValueError\n",
    "\n",
    "    for x, y in fill:\n",
    "        data_zoom[x][y] = \"#\"\n",
    "    \n",
    "    pipe_cells_zoom += fill\n",
    "\n",
    "assert len(pipe_cells_zoom) == len(set(pipe_cells_zoom))\n",
    "pipe_cells_zoom = set(pipe_cells_zoom)"
   ]
  },
  {
   "cell_type": "code",
   "execution_count": null,
   "metadata": {},
   "outputs": [],
   "source": [
    "[\"\".join(row) for row in data_zoom]"
   ]
  },
  {
   "cell_type": "code",
   "execution_count": null,
   "metadata": {},
   "outputs": [],
   "source": [
    "def get_neighbours(x, y, num_rows, num_cols):\n",
    "    \n",
    "    neighbours = []\n",
    "    # up\n",
    "    if x > 0:\n",
    "        new = (x - 1, y)\n",
    "        neighbours.append(new)\n",
    "    \n",
    "    # down\n",
    "    if x < num_rows - 1:\n",
    "        new = (x + 1, y)\n",
    "        neighbours.append(new)\n",
    "\n",
    "    # left\n",
    "    if y > 0:\n",
    "        new = (x, y - 1)\n",
    "        neighbours.append(new)\n",
    "\n",
    "    # right\n",
    "    if y < num_cols - 1:\n",
    "        new = (x, y + 1)\n",
    "        neighbours.append(new)\n",
    "\n",
    "    return neighbours"
   ]
  },
  {
   "cell_type": "code",
   "execution_count": null,
   "metadata": {},
   "outputs": [],
   "source": []
  },
  {
   "cell_type": "markdown",
   "metadata": {},
   "source": [
    "Now we flood-fill the zoomed-in grid from the outside."
   ]
  },
  {
   "cell_type": "code",
   "execution_count": null,
   "metadata": {},
   "outputs": [],
   "source": [
    "start = (0, 0)\n",
    "outside_cells_found_zoom = set()\n",
    "cells_to_expand = deque([start]) # Using a deque is much faster than using a list (although we're only appending / popping on the right)\n",
    "\n",
    "max_num_iter = 1_000_000\n",
    "num_iter = 0\n",
    "\n",
    "while cells_to_expand and num_iter < max_num_iter:\n",
    "\n",
    "    if num_iter % 1000 == 0:\n",
    "        print(f\"Cells found: {len(outside_cells_found_zoom)}, to expand: {len(cells_to_expand)}\")\n",
    "\n",
    "    cell_to_expand = cells_to_expand.popleft()\n",
    "\n",
    "    outside_cells_found_zoom.add(cell_to_expand)\n",
    "\n",
    "    neighbours = get_neighbours(*cell_to_expand, num_rows_zoom, num_cols_zoom)\n",
    "    for neighbour in neighbours:\n",
    "        if neighbour not in cells_to_expand and neighbour not in outside_cells_found_zoom and neighbour not in pipe_cells_zoom:\n",
    "            cells_to_expand.append(neighbour)\n",
    "    \n",
    "    num_iter += 1\n",
    "\n",
    "print(\"done\", num_iter)"
   ]
  },
  {
   "cell_type": "code",
   "execution_count": null,
   "metadata": {},
   "outputs": [],
   "source": [
    "pipe_cells = set(pipe[:-1])\n",
    "\n",
    "# Determine for original grid cells whether they're inside or outside\n",
    "num_cells_inside = 0\n",
    "for i in range(num_rows):\n",
    "    for j in range(num_cols):\n",
    "        if (i, j) in pipe_cells:\n",
    "            continue\n",
    "        # middle cell of expande 3x3 subgrid\n",
    "        middle_cell = (3 * i + 1, 3 * j + 1)\n",
    "        if middle_cell not in outside_cells_found_zoom:\n",
    "            num_cells_inside += 1"
   ]
  },
  {
   "cell_type": "code",
   "execution_count": null,
   "metadata": {},
   "outputs": [],
   "source": [
    "num_cells_inside"
   ]
  },
  {
   "cell_type": "code",
   "execution_count": null,
   "metadata": {},
   "outputs": [],
   "source": []
  },
  {
   "cell_type": "code",
   "execution_count": null,
   "metadata": {},
   "outputs": [],
   "source": []
  }
 ],
 "metadata": {
  "kernelspec": {
   "display_name": "analytico",
   "language": "python",
   "name": "python3"
  },
  "language_info": {
   "codemirror_mode": {
    "name": "ipython",
    "version": 3
   },
   "file_extension": ".py",
   "mimetype": "text/x-python",
   "name": "python",
   "nbconvert_exporter": "python",
   "pygments_lexer": "ipython3",
   "version": "3.8.2"
  }
 },
 "nbformat": 4,
 "nbformat_minor": 2
}
