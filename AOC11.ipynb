{
 "cells": [
  {
   "cell_type": "code",
   "execution_count": null,
   "metadata": {},
   "outputs": [],
   "source": [
    "from pathlib import Path\n",
    "import os"
   ]
  },
  {
   "cell_type": "code",
   "execution_count": null,
   "metadata": {},
   "outputs": [],
   "source": [
    "fp = os.path.join(Path().absolute(), \"inputs\", \"input11.txt\")\n",
    "\n",
    "with open(fp, \"r\") as f:\n",
    "    data = f.read().split(\"\\n\")[:-1]"
   ]
  },
  {
   "cell_type": "markdown",
   "metadata": {},
   "source": [
    "# Part 1"
   ]
  },
  {
   "cell_type": "code",
   "execution_count": null,
   "metadata": {},
   "outputs": [],
   "source": [
    "print(len(data), len(data[0]))"
   ]
  },
  {
   "cell_type": "code",
   "execution_count": null,
   "metadata": {},
   "outputs": [],
   "source": [
    "for i in range(len(data[0])):\n",
    "    col_count = 0\n",
    "    for j in range(len(data)):\n",
    "        col_count += data[j][i] == \"#\"\n",
    "    print(col_count)"
   ]
  },
  {
   "cell_type": "code",
   "execution_count": null,
   "metadata": {},
   "outputs": [],
   "source": []
  },
  {
   "cell_type": "code",
   "execution_count": null,
   "metadata": {},
   "outputs": [],
   "source": [
    "# expand rows\n",
    "\n",
    "def expand_rows(data):\n",
    "    data_expanded = []\n",
    "    for row in data:\n",
    "        data_expanded.append(row)\n",
    "        if \"#\" not in row:\n",
    "            data_expanded.append(row)\n",
    "\n",
    "    return data_expanded\n",
    "\n",
    "data = expand_rows(data)"
   ]
  },
  {
   "cell_type": "code",
   "execution_count": null,
   "metadata": {},
   "outputs": [],
   "source": [
    "print(len(data), len(data[0]))"
   ]
  },
  {
   "cell_type": "code",
   "execution_count": null,
   "metadata": {},
   "outputs": [],
   "source": []
  },
  {
   "cell_type": "code",
   "execution_count": null,
   "metadata": {},
   "outputs": [],
   "source": [
    "def transpose(data):\n",
    "    num_rows = len(data)\n",
    "    num_cols = len(data[0])\n",
    "\n",
    "    data_transposed = []\n",
    "    for i in range(num_cols):\n",
    "        new_row = \"\".join([data[j][i] for j in range(num_rows)])\n",
    "        data_transposed.append(new_row)\n",
    "\n",
    "    return data_transposed"
   ]
  },
  {
   "cell_type": "code",
   "execution_count": null,
   "metadata": {},
   "outputs": [],
   "source": [
    "# expand columns\n",
    "data = transpose(data)\n",
    "data = expand_rows(data)\n",
    "data = transpose(data)"
   ]
  },
  {
   "cell_type": "code",
   "execution_count": null,
   "metadata": {},
   "outputs": [],
   "source": [
    "print(len(data), len(data[0]))"
   ]
  },
  {
   "cell_type": "code",
   "execution_count": null,
   "metadata": {},
   "outputs": [],
   "source": [
    "def shortest_path(a_x, a_y, b_x, b_y):\n",
    "    return abs(b_x - a_x) + abs(b_y - a_y)"
   ]
  },
  {
   "cell_type": "code",
   "execution_count": null,
   "metadata": {},
   "outputs": [],
   "source": [
    "galaxy_locs = []\n",
    "\n",
    "for i, row in enumerate(data):\n",
    "    for j, elt in enumerate(row):\n",
    "        if elt == \"#\":\n",
    "            galaxy_locs.append((i, j))"
   ]
  },
  {
   "cell_type": "code",
   "execution_count": null,
   "metadata": {},
   "outputs": [],
   "source": [
    "N = len(galaxy_locs)\n",
    "N"
   ]
  },
  {
   "cell_type": "code",
   "execution_count": null,
   "metadata": {},
   "outputs": [],
   "source": [
    "path_sum = 0\n",
    "\n",
    "for i in range(N):\n",
    "    for j in range(i + 1, N):\n",
    "        a_x, a_y = galaxy_locs[i]\n",
    "        b_x, b_y = galaxy_locs[j]\n",
    "\n",
    "        path_length = shortest_path(a_x, a_y, b_x, b_y)\n",
    "        path_sum += path_length"
   ]
  },
  {
   "cell_type": "code",
   "execution_count": null,
   "metadata": {},
   "outputs": [],
   "source": [
    "path_sum"
   ]
  },
  {
   "cell_type": "code",
   "execution_count": null,
   "metadata": {},
   "outputs": [],
   "source": []
  },
  {
   "cell_type": "markdown",
   "metadata": {},
   "source": [
    "# Part 2"
   ]
  },
  {
   "cell_type": "code",
   "execution_count": null,
   "metadata": {},
   "outputs": [],
   "source": [
    "with open(fp, \"r\") as f:\n",
    "    data = f.read().split(\"\\n\")[:-1]"
   ]
  },
  {
   "cell_type": "code",
   "execution_count": null,
   "metadata": {},
   "outputs": [],
   "source": [
    "rows_to_expand = []\n",
    "\n",
    "for i, row in enumerate(data):\n",
    "    if \"#\" not in row:\n",
    "        rows_to_expand.append(i)\n",
    "\n",
    "cols_to_expand = []\n",
    "\n",
    "for j in range(len(data[0])):\n",
    "    if not any(\"#\" in data[i][j] for i in range(len(data))):\n",
    "        cols_to_expand.append(j)"
   ]
  },
  {
   "cell_type": "code",
   "execution_count": null,
   "metadata": {},
   "outputs": [],
   "source": [
    "rows_to_expand"
   ]
  },
  {
   "cell_type": "code",
   "execution_count": null,
   "metadata": {},
   "outputs": [],
   "source": [
    "cols_to_expand"
   ]
  },
  {
   "cell_type": "code",
   "execution_count": null,
   "metadata": {},
   "outputs": [],
   "source": [
    "def shortest_path_modified(a_x, a_y, b_x, b_y, rows_to_expand, cols_to_expand, expansion_factor=1_000_000):\n",
    "\n",
    "    num_rows_to_expand_inbetween = len([idx for idx in rows_to_expand if ((a_x < idx < b_x) or (b_x < idx < a_x))])\n",
    "    num_cols_to_expand_inbetween = len([idx for idx in cols_to_expand if ((a_y < idx < b_y) or (b_y < idx < a_y))])\n",
    "\n",
    "    return (expansion_factor - 1) * (num_rows_to_expand_inbetween + num_cols_to_expand_inbetween) + abs(b_x - a_x) + abs(b_y - a_y)"
   ]
  },
  {
   "cell_type": "code",
   "execution_count": null,
   "metadata": {},
   "outputs": [],
   "source": [
    "galaxy_locs = []\n",
    "\n",
    "for i, row in enumerate(data):\n",
    "    for j, elt in enumerate(row):\n",
    "        if elt == \"#\":\n",
    "            galaxy_locs.append((i, j))"
   ]
  },
  {
   "cell_type": "code",
   "execution_count": null,
   "metadata": {},
   "outputs": [],
   "source": [
    "path_sum = 0\n",
    "\n",
    "for i in range(N):\n",
    "    for j in range(i + 1, N):\n",
    "        a_x, a_y = galaxy_locs[i]\n",
    "        b_x, b_y = galaxy_locs[j]\n",
    "\n",
    "        path_length = shortest_path_modified(a_x, a_y, b_x, b_y, rows_to_expand, cols_to_expand, expansion_factor=1_000_000)\n",
    "        path_sum += path_length"
   ]
  },
  {
   "cell_type": "code",
   "execution_count": null,
   "metadata": {},
   "outputs": [],
   "source": [
    "path_sum"
   ]
  },
  {
   "cell_type": "code",
   "execution_count": null,
   "metadata": {},
   "outputs": [],
   "source": []
  }
 ],
 "metadata": {
  "kernelspec": {
   "display_name": "analytico",
   "language": "python",
   "name": "python3"
  },
  "language_info": {
   "codemirror_mode": {
    "name": "ipython",
    "version": 3
   },
   "file_extension": ".py",
   "mimetype": "text/x-python",
   "name": "python",
   "nbconvert_exporter": "python",
   "pygments_lexer": "ipython3",
   "version": "3.8.2"
  }
 },
 "nbformat": 4,
 "nbformat_minor": 2
}
