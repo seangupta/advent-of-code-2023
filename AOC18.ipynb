{
 "cells": [
  {
   "cell_type": "code",
   "execution_count": null,
   "metadata": {},
   "outputs": [],
   "source": [
    "from pathlib import Path\n",
    "import os"
   ]
  },
  {
   "cell_type": "code",
   "execution_count": null,
   "metadata": {},
   "outputs": [],
   "source": [
    "fp = os.path.join(Path().absolute(), \"inputs\", \"input18.txt\")\n",
    "# fp = os.path.join(Path().absolute(), \"inputs\", \"input18_test.txt\")\n",
    "\n",
    "with open(fp, \"r\") as f:\n",
    "    data = f.read().split(\"\\n\")[:-1]"
   ]
  },
  {
   "cell_type": "code",
   "execution_count": null,
   "metadata": {},
   "outputs": [],
   "source": [
    "data"
   ]
  },
  {
   "cell_type": "markdown",
   "metadata": {},
   "source": [
    "# Part 1"
   ]
  },
  {
   "cell_type": "code",
   "execution_count": null,
   "metadata": {},
   "outputs": [],
   "source": [
    "data_processed = []\n",
    "for line in data:\n",
    "    direction, num, colour = line.split()\n",
    "    num = int(num)\n",
    "    colour = colour[1:-1]\n",
    "    data_processed.append((direction, num, colour))"
   ]
  },
  {
   "cell_type": "code",
   "execution_count": null,
   "metadata": {},
   "outputs": [],
   "source": [
    "data_processed"
   ]
  },
  {
   "cell_type": "code",
   "execution_count": null,
   "metadata": {},
   "outputs": [],
   "source": [
    "first_dir = data_processed[0][0]\n",
    "assert first_dir == \"R\"\n",
    "current_x = 0\n",
    "current_y = 0\n",
    "current = (current_x, current_y)\n",
    "\n",
    "boundary = [current]\n",
    "\n",
    "for direction, num, _ in data_processed:\n",
    "\n",
    "    if direction == \"R\":\n",
    "        new = [(current_x, current_y + n) for n in range(1, num + 1)]\n",
    "    if direction == \"L\":\n",
    "        new = [(current_x, current_y - n) for n in range(1, num + 1)]\n",
    "    if direction == \"D\":\n",
    "        new = [(current_x + n, current_y) for n in range(1, num + 1)]\n",
    "    if direction == \"U\":\n",
    "        new = [(current_x - n, current_y) for n in range(1, num + 1)]\n",
    "\n",
    "    boundary += new\n",
    "    current = new[-1]\n",
    "    current_x, current_y = current\n",
    "\n",
    "assert boundary[0] == boundary[-1]\n",
    "boundary = boundary[:-1]"
   ]
  },
  {
   "cell_type": "code",
   "execution_count": null,
   "metadata": {},
   "outputs": [],
   "source": [
    "len(boundary)"
   ]
  },
  {
   "cell_type": "code",
   "execution_count": null,
   "metadata": {},
   "outputs": [],
   "source": [
    "x_max = max(x for x, y in boundary)\n",
    "x_min = min(x for x, y in boundary)\n",
    "\n",
    "y_max = max(y for x, y in boundary)\n",
    "y_min = min(y for x, y in boundary)\n",
    "\n",
    "num_rows = x_max - x_min + 1\n",
    "num_cols = y_max - y_min + 1\n",
    "num_cells = num_rows * num_cols\n",
    "print(num_rows, num_cols, num_cells)\n",
    "\n",
    "grid_corners = [(x_min, y_min), (x_min, y_max), (x_max, y_min), (x_max, y_max)]"
   ]
  },
  {
   "cell_type": "code",
   "execution_count": null,
   "metadata": {},
   "outputs": [],
   "source": [
    "def get_neighbours(point):\n",
    "    \n",
    "    x, y = point\n",
    "    res = []\n",
    "    if x > x_min:\n",
    "        res.append((x - 1, y))\n",
    "    if x < x_max:\n",
    "        res.append((x + 1, y))\n",
    "    if y > y_min:\n",
    "        res.append((x, y - 1))\n",
    "    if y < y_max:\n",
    "        res.append((x, y + 1))\n",
    "\n",
    "    return res"
   ]
  },
  {
   "cell_type": "code",
   "execution_count": null,
   "metadata": {},
   "outputs": [],
   "source": [
    "get_neighbours((1, 3))"
   ]
  },
  {
   "cell_type": "code",
   "execution_count": null,
   "metadata": {},
   "outputs": [],
   "source": [
    "boundary[:10]"
   ]
  },
  {
   "cell_type": "code",
   "execution_count": null,
   "metadata": {},
   "outputs": [],
   "source": []
  },
  {
   "cell_type": "code",
   "execution_count": null,
   "metadata": {},
   "outputs": [],
   "source": [
    "def no_blocker(pos1_x, pos1_y, pos2_x, pos2_y):\n",
    "    # check if no valid blocking connection\n",
    "    return not ((pos1_x, pos1_y) in boundary and (pos2_x, pos2_y) in boundary)"
   ]
  },
  {
   "cell_type": "code",
   "execution_count": null,
   "metadata": {},
   "outputs": [],
   "source": [
    "grid_corners"
   ]
  },
  {
   "cell_type": "code",
   "execution_count": null,
   "metadata": {},
   "outputs": [],
   "source": [
    "top_left_grid_corner = (x_min, y_min)\n",
    "top_right_grid_corner = (x_min, y_max)\n",
    "bottom_left_grid_corner = (x_max, y_min)\n",
    "bottom_right_grid_corner = (x_max, y_max)"
   ]
  },
  {
   "cell_type": "code",
   "execution_count": null,
   "metadata": {},
   "outputs": [],
   "source": [
    "outside_intersections_expanded = []\n",
    "\n",
    "outside_grid_corners = [grid_corner for grid_corner in grid_corners if grid_corner not in boundary]\n",
    "\n",
    "# intersection anchoring relative to cells\n",
    "if len(outside_grid_corners) == 0:\n",
    "    raise ValueError(\"All inside\")\n",
    "else:\n",
    "    outside_grid_corner = outside_grid_corners[0]\n",
    "    if outside_grid_corner == top_left_grid_corner:\n",
    "        start = (outside_grid_corner[0], outside_grid_corner[1])\n",
    "    elif outside_grid_corner == top_right_grid_corner:\n",
    "        start = (outside_grid_corner[0], outside_grid_corner[1] + 1)\n",
    "    elif outside_grid_corner == bottom_left_grid_corner:\n",
    "        start = (outside_grid_corner[0] + 1, outside_grid_corner[1])\n",
    "    elif outside_grid_corner == bottom_right_grid_corner:\n",
    "        start = (outside_grid_corner[0] + 1, outside_grid_corner[1] + 1)\n",
    "    else:\n",
    "        raise ValueError\n",
    "    \n",
    "outside_to_expand = [start]\n",
    "\n",
    "\n",
    "max_num_iter = 200_000\n",
    "num_iter = 0\n",
    "\n",
    "while len(outside_to_expand) > 0 and num_iter < max_num_iter:\n",
    "    # print(f\"Expanded: {outside_intersections_expanded}, to expand: {outside_to_expand}\")\n",
    "    print(f\"Expanded: {len(outside_intersections_expanded)}, to expand: {len(outside_to_expand)}\")\n",
    "\n",
    "    intersection_to_expand = outside_to_expand.pop()\n",
    "    x, y = intersection_to_expand\n",
    "\n",
    "    # up\n",
    "    if x > x_min:\n",
    "        new = (x - 1, y)\n",
    "        if new not in outside_to_expand and new not in outside_intersections_expanded:\n",
    "            if y == y_min or y == y_max + 1:\n",
    "                # border\n",
    "                outside_to_expand.append(new)\n",
    "            else:\n",
    "                pos1_x, pos1_y = x - 1, y - 1\n",
    "                pos2_x, pos2_y = x - 1, y\n",
    "                if no_blocker(pos1_x, pos1_y, pos2_x, pos2_y):\n",
    "                    outside_to_expand.append(new)\n",
    "    \n",
    "    # down\n",
    "    if x <= x_max:\n",
    "        new = (x + 1, y)\n",
    "        if new not in outside_to_expand and new not in outside_intersections_expanded:\n",
    "            if y == y_min or y == y_max + 1:\n",
    "                outside_to_expand.append(new)\n",
    "            else:\n",
    "                pos1_x, pos1_y = x, y - 1\n",
    "                pos2_x, pos2_y = x, y\n",
    "                if no_blocker(pos1_x, pos1_y, pos2_x, pos2_y):\n",
    "                    outside_to_expand.append(new)\n",
    "\n",
    "    # left\n",
    "    if y > y_min:\n",
    "        new = (x, y - 1)\n",
    "        if new not in outside_to_expand and new not in outside_intersections_expanded:\n",
    "            if x == x_min or x == x_max + 1:\n",
    "                outside_to_expand.append(new)\n",
    "            else:\n",
    "                pos1_x, pos1_y = x - 1, y - 1\n",
    "                pos2_x, pos2_y = x, y - 1\n",
    "                if no_blocker(pos1_x, pos1_y, pos2_x, pos2_y):\n",
    "                    outside_to_expand.append(new)\n",
    "\n",
    "    # right\n",
    "    if y <= y_max:\n",
    "        new = (x, y + 1)\n",
    "        if new not in outside_to_expand and new not in outside_intersections_expanded:\n",
    "            if x == x_min or x == x_max + 1:\n",
    "                outside_to_expand.append(new)\n",
    "            else:\n",
    "                pos1_x, pos1_y = x - 1, y\n",
    "                pos2_x, pos2_y = x, y\n",
    "                if no_blocker(pos1_x, pos1_y, pos2_x, pos2_y):\n",
    "                    outside_to_expand.append(new)\n",
    "\n",
    "    outside_intersections_expanded.append(intersection_to_expand)\n",
    "    num_iter += 1\n",
    "\n",
    "print(\"done\", num_iter)"
   ]
  },
  {
   "cell_type": "code",
   "execution_count": null,
   "metadata": {},
   "outputs": [],
   "source": [
    "num_cells_outside = 0\n",
    "num_cells_inside = 0\n",
    "\n",
    "boundary_set = set(boundary)\n",
    "outside_intersections_expanded_set = set(outside_intersections_expanded)\n",
    "\n",
    "for i in range(x_min, x_max):\n",
    "    # print(i)\n",
    "    for j in range(y_min, y_max):\n",
    "        if (i, j) not in boundary_set:\n",
    "            if any(x in outside_intersections_expanded_set for x in [(i, j), (i + 1, j), (i, j + 1), (i + 1, j + 1)]):\n",
    "                # cell is outside\n",
    "                num_cells_outside += 1\n",
    "            else:\n",
    "                num_cells_inside += 1\n",
    "\n",
    "print(num_cells_outside)\n",
    "print(num_cells_inside)"
   ]
  },
  {
   "cell_type": "code",
   "execution_count": null,
   "metadata": {},
   "outputs": [],
   "source": [
    "len(boundary) + num_cells_inside"
   ]
  },
  {
   "cell_type": "markdown",
   "metadata": {},
   "source": [
    "# Part 2"
   ]
  },
  {
   "cell_type": "code",
   "execution_count": null,
   "metadata": {},
   "outputs": [],
   "source": [
    "data_corrected = []\n",
    "\n",
    "for _, _, colour in data_processed:\n",
    "    num_hex = colour[1:-1]\n",
    "    num = int(num_hex, 16) # convert hexadecimal to decimal int\n",
    "\n",
    "    dir = colour[-1]\n",
    "    if dir == \"0\":\n",
    "        dir = \"R\"\n",
    "    if dir == \"1\":\n",
    "        dir = \"D\"\n",
    "    if dir == \"2\":\n",
    "        dir = \"L\"\n",
    "    if dir == \"3\":\n",
    "        dir = \"U\"\n",
    "\n",
    "    data_corrected.append((dir, num, None))"
   ]
  },
  {
   "cell_type": "code",
   "execution_count": null,
   "metadata": {},
   "outputs": [],
   "source": [
    "data_corrected"
   ]
  },
  {
   "cell_type": "code",
   "execution_count": null,
   "metadata": {},
   "outputs": [],
   "source": [
    "clockwise = {\"U\": \"R\", \"R\": \"D\", \"D\": \"L\", \"L\": \"U\", \"U\": \"R\"}"
   ]
  },
  {
   "cell_type": "code",
   "execution_count": null,
   "metadata": {},
   "outputs": [],
   "source": [
    "first_dir = data_corrected[0][0]\n",
    "\n",
    "# vertices are at intersections (not cells)\n",
    "current_x = 0\n",
    "current_y = 0\n",
    "current_vertex = (current_x, current_y)\n",
    "\n",
    "vertices = [current_vertex]\n",
    "\n",
    "num_boundary_cells = 0\n",
    "last_dir = data_processed[-1][0]\n",
    "\n",
    "num_clockwise_turns = 0\n",
    "num_counterclockwise_turns = 0\n",
    "\n",
    "for direction, num, _ in data_corrected:\n",
    "\n",
    "    if direction == \"R\":\n",
    "        new_vertex = (current_x, current_y + num)\n",
    "    elif direction == \"L\":\n",
    "        new_vertex = (current_x, current_y - num)\n",
    "    elif direction == \"D\":\n",
    "        new_vertex = (current_x + num, current_y)\n",
    "    elif direction == \"U\":\n",
    "        new_vertex = (current_x - num, current_y)\n",
    "\n",
    "    vertices.append(new_vertex)\n",
    "    current_vertex = new_vertex\n",
    "    current_x, current_y = current_vertex\n",
    "\n",
    "    num_boundary_cells += num\n",
    "\n",
    "    if clockwise[last_dir] == direction:\n",
    "        num_clockwise_turns += 1\n",
    "    else:\n",
    "        num_counterclockwise_turns += 1\n",
    "\n",
    "    last_dir = direction\n",
    "\n",
    "assert vertices[0] == vertices[-1]\n",
    "vertices = vertices[:-1]\n",
    "num_vertices = len(vertices)"
   ]
  },
  {
   "cell_type": "code",
   "execution_count": null,
   "metadata": {},
   "outputs": [],
   "source": [
    "vertices"
   ]
  },
  {
   "cell_type": "code",
   "execution_count": null,
   "metadata": {},
   "outputs": [],
   "source": [
    "print(num_counterclockwise_turns)\n",
    "print(num_clockwise_turns)\n",
    "print(num_vertices)\n",
    "print(num_boundary_cells)"
   ]
  },
  {
   "cell_type": "code",
   "execution_count": null,
   "metadata": {},
   "outputs": [],
   "source": [
    "vertices = [vertices[-1]] + vertices + [vertices[0]]"
   ]
  },
  {
   "cell_type": "markdown",
   "metadata": {},
   "source": [
    "Use Trapezoid formula here\n",
    "https://en.wikipedia.org/wiki/Shoelace_formula"
   ]
  },
  {
   "cell_type": "code",
   "execution_count": null,
   "metadata": {},
   "outputs": [],
   "source": [
    "area = 0\n",
    "for i in range(1, num_vertices + 1):\n",
    "    area += (vertices[i][1] + vertices[i + 1][1]) * (vertices[i][0] - vertices[i + 1][0])\n",
    "\n",
    "area = area / 2\n",
    "\n",
    "if area < 0:\n",
    "    # clockwise\n",
    "    area = abs(area)\n",
    "    area = area + 3/4 * num_clockwise_turns + 1/4 * num_counterclockwise_turns + (num_boundary_cells - num_vertices) / 2\n",
    "else:\n",
    "    # counterclockwise\n",
    "    area = area + 1/4 * num_clockwise_turns + 3/4 * num_counterclockwise_turns + (num_boundary_cells - num_vertices) / 2\n",
    "\n",
    "print(area)"
   ]
  },
  {
   "cell_type": "code",
   "execution_count": null,
   "metadata": {},
   "outputs": [],
   "source": []
  },
  {
   "cell_type": "code",
   "execution_count": null,
   "metadata": {},
   "outputs": [],
   "source": []
  },
  {
   "cell_type": "code",
   "execution_count": null,
   "metadata": {},
   "outputs": [],
   "source": []
  }
 ],
 "metadata": {
  "kernelspec": {
   "display_name": "analytico",
   "language": "python",
   "name": "python3"
  },
  "language_info": {
   "codemirror_mode": {
    "name": "ipython",
    "version": 3
   },
   "file_extension": ".py",
   "mimetype": "text/x-python",
   "name": "python",
   "nbconvert_exporter": "python",
   "pygments_lexer": "ipython3",
   "version": "3.8.2"
  }
 },
 "nbformat": 4,
 "nbformat_minor": 2
}
