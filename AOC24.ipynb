{
 "cells": [
  {
   "cell_type": "code",
   "execution_count": null,
   "metadata": {},
   "outputs": [],
   "source": [
    "from pathlib import Path\n",
    "import os\n",
    "from itertools import combinations\n",
    "import math\n",
    "\n",
    "import numpy as np"
   ]
  },
  {
   "cell_type": "code",
   "execution_count": null,
   "metadata": {},
   "outputs": [],
   "source": [
    "fp = os.path.join(Path().absolute(), \"inputs\", \"input24.txt\")\n",
    "# fp = os.path.join(Path().absolute(), \"inputs\", \"input24_test.txt\")\n",
    "\n",
    "with open(fp, \"r\") as f:\n",
    "    data = f.read().split(\"\\n\")[:-1]"
   ]
  },
  {
   "cell_type": "code",
   "execution_count": null,
   "metadata": {},
   "outputs": [],
   "source": [
    "data"
   ]
  },
  {
   "cell_type": "markdown",
   "metadata": {},
   "source": [
    "# Part 1"
   ]
  },
  {
   "cell_type": "code",
   "execution_count": null,
   "metadata": {},
   "outputs": [],
   "source": [
    "hailstones = []\n",
    "for line in data:\n",
    "    pos, vel = line.split(\" @ \")\n",
    "    pos = [int(x) for x in pos.split(\", \")]\n",
    "    vel = [int(x) for x in vel.split(\", \")]\n",
    "    hailstone = [pos, vel]\n",
    "    hailstones.append(hailstone)"
   ]
  },
  {
   "cell_type": "code",
   "execution_count": null,
   "metadata": {},
   "outputs": [],
   "source": [
    "hailstones"
   ]
  },
  {
   "cell_type": "code",
   "execution_count": null,
   "metadata": {},
   "outputs": [],
   "source": [
    "lower = 200000000000000\n",
    "upper = 400000000000000\n",
    "\n",
    "num_within_area = 0\n",
    "\n",
    "# assume either x- or y-velocity is nonzero\n",
    "\n",
    "for h1, h2 in combinations(hailstones, 2):\n",
    "    (x1, y1, z1), (u1, v1, w1) = h1\n",
    "    (x2, y2, z2), (u2, v2, w2) = h2\n",
    "\n",
    "    \"\"\"\n",
    "    x_1 * t_1 * u1 = x_2 + t_2 * u_2\n",
    "    y_1 + t_1 * v1 = y_2 + t_2 * v_2\n",
    "\n",
    "    Write this as A * t = b.\n",
    "    Then solve by matrix inversion of A.\n",
    "    \"\"\"\n",
    "\n",
    "    det = -u1 * v2 + u2 * v1\n",
    "    if det != 0:\n",
    "        t1 = 1 / det * (-v2 * (x2 - x1) + u2 * (y2 - y1))\n",
    "        t2 = 1 / det * (-v1 * (x2 - x1) + u1 * (y2 - y1))\n",
    "        if t1 > 0 and t2 > 0:\n",
    "            # in the future for both hailstones\n",
    "            x_intersection = x1 + t1 * u1\n",
    "            y_intersection = y1 + t1 * v1\n",
    "\n",
    "            if lower <= x_intersection <= upper and lower <= y_intersection <= upper:\n",
    "                num_within_area += 1\n",
    "    else:\n",
    "        if u2 != 0:\n",
    "            if -v2 * (x1 - x2) == (y2 - y1) * u2:\n",
    "                # lines are the same, infinitely many intersections (otherwise parallel but distinct lines, no intersections)\n",
    "                num_within_area += 1\n",
    "        else:\n",
    "            if x1 == x2:\n",
    "                # lines are the same, infinitely many intersections (otherwise parallel but distinct lines, no intersections)\n",
    "                num_within_area += 1"
   ]
  },
  {
   "cell_type": "code",
   "execution_count": null,
   "metadata": {},
   "outputs": [],
   "source": [
    "num_within_area"
   ]
  },
  {
   "cell_type": "code",
   "execution_count": null,
   "metadata": {},
   "outputs": [],
   "source": []
  },
  {
   "cell_type": "markdown",
   "metadata": {},
   "source": [
    "# Part 2"
   ]
  },
  {
   "cell_type": "code",
   "execution_count": null,
   "metadata": {},
   "outputs": [],
   "source": [
    "hailstones = sorted(hailstones, key=lambda x: x[0][0])"
   ]
  },
  {
   "cell_type": "code",
   "execution_count": null,
   "metadata": {},
   "outputs": [],
   "source": [
    "# Hailstone i has position (x_i, y_i, z_i) and velocity (u_i, v_i, z_i)\n",
    "# Say hailstone to be thrown has position (a, b, c) and velocity (d, e, f)\n",
    "# Set the first two coordinates equal and eliminate t. Then get an equation in a, b, d, e.\n",
    "# Do the same for hailstone j.\n",
    "# Subtract the resulting two equations and get a linear equation in a, b, d, e.\n",
    "# Do the same for three other pairs of hailstones.\n",
    "# Now solve the system of equations using matrix inversion.\n",
    "\n",
    "total = 0\n",
    "\n",
    "# Take average due to numerical issues\n",
    "# This could be avoided using symbolic computation (Python package sympy)\n",
    "for offset in range(len(hailstones) - 7):\n",
    "\n",
    "    x = [h[0][0] for h in hailstones[offset:]]\n",
    "    y = [h[0][1] for h in hailstones[offset:]]\n",
    "    z = [h[0][2] for h in hailstones[offset:]]\n",
    "\n",
    "    u = [h[1][0] for h in hailstones[offset:]]\n",
    "    v = [h[1][1] for h in hailstones[offset:]]\n",
    "    w = [h[1][2] for h in hailstones[offset:]]\n",
    "\n",
    "    A = np.empty((4, 4))\n",
    "    for i in range(4):\n",
    "        A[i][0] = v[2 * i] - v[2 * i + 1]\n",
    "        A[i][1] = u[2 * i + 1] - u[2 * i]\n",
    "        A[i][2] = y[2 * i + 1] - y[2 * i]\n",
    "        A[i][3] = x[2 * i] - x[2 * i + 1]\n",
    "\n",
    "    b = np.empty((4, 1))\n",
    "    for i in range(4):\n",
    "        b[i] = x[2 * i] * v[2 * i] - y[2 * i] * u[2 * i] - x[2 * i + 1] * v[2 * i + 1] + y[2 * i + 1] * u[2 * i + 1]\n",
    "\n",
    "    res = np.linalg.inv(A) @ b\n",
    "    total += res"
   ]
  },
  {
   "cell_type": "code",
   "execution_count": null,
   "metadata": {},
   "outputs": [],
   "source": [
    "res_avg = total / (len(hailstones) - 7)\n",
    "res_avg"
   ]
  },
  {
   "cell_type": "code",
   "execution_count": null,
   "metadata": {},
   "outputs": [],
   "source": [
    "d = -63\n",
    "e = -301"
   ]
  },
  {
   "cell_type": "code",
   "execution_count": null,
   "metadata": {},
   "outputs": [],
   "source": [
    "# Try out all candidates close to numerical average\n",
    "a_prime = math.floor(res_avg[0, 0])\n",
    "b_prime = math.floor(res_avg[1, 0])\n",
    "\n",
    "corr_offsets = [-3, -2, -1, 0, 1, 2, 3]\n",
    "\n",
    "corr_offset_results = {}\n",
    "\n",
    "for corr_a in corr_offsets:\n",
    "    for corr_b in corr_offsets:\n",
    "\n",
    "        a_corr = a_prime + corr_a\n",
    "        b_corr = b_prime + corr_b\n",
    "\n",
    "\n",
    "        diff_total = 0\n",
    "        for i in range(5):\n",
    "            t = (a_corr - x[i]) / (u[i] - d)\n",
    "            diff = (y[i] + t * v[i]) - (b_corr + t * e)\n",
    "            diff_total += diff\n",
    "\n",
    "        if diff_total == 0:\n",
    "            print(a_corr, b_corr)\n",
    "        corr_offset_results[(a_corr, b_corr)] = abs(diff_total)"
   ]
  },
  {
   "cell_type": "code",
   "execution_count": null,
   "metadata": {},
   "outputs": [],
   "source": [
    "a = 309991770591665\n",
    "b = 460585296453281"
   ]
  },
  {
   "cell_type": "code",
   "execution_count": null,
   "metadata": {},
   "outputs": [],
   "source": [
    "t_0 = (a - x[0]) / (u[0] - d)\n",
    "t_0"
   ]
  },
  {
   "cell_type": "code",
   "execution_count": null,
   "metadata": {},
   "outputs": [],
   "source": [
    "t_1 = (a - x[1]) / (u[1] - d)\n",
    "t_1"
   ]
  },
  {
   "cell_type": "code",
   "execution_count": null,
   "metadata": {},
   "outputs": [],
   "source": [
    "f = (z[0] + t_0 * w[0] - z[1] - t_1 * w[1]) / (t_0 - t_1)\n",
    "f"
   ]
  },
  {
   "cell_type": "code",
   "execution_count": null,
   "metadata": {},
   "outputs": [],
   "source": [
    "c = z[0] + t_0 * w[0] - t_0 * f\n",
    "c"
   ]
  },
  {
   "cell_type": "code",
   "execution_count": null,
   "metadata": {},
   "outputs": [],
   "source": [
    "a + b + c"
   ]
  },
  {
   "cell_type": "code",
   "execution_count": null,
   "metadata": {},
   "outputs": [],
   "source": []
  }
 ],
 "metadata": {
  "kernelspec": {
   "display_name": "analytico",
   "language": "python",
   "name": "python3"
  },
  "language_info": {
   "codemirror_mode": {
    "name": "ipython",
    "version": 3
   },
   "file_extension": ".py",
   "mimetype": "text/x-python",
   "name": "python",
   "nbconvert_exporter": "python",
   "pygments_lexer": "ipython3",
   "version": "3.8.2"
  }
 },
 "nbformat": 4,
 "nbformat_minor": 2
}
