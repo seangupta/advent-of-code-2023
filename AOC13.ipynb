{
 "cells": [
  {
   "cell_type": "code",
   "execution_count": null,
   "metadata": {},
   "outputs": [],
   "source": [
    "from pathlib import Path\n",
    "import os"
   ]
  },
  {
   "cell_type": "code",
   "execution_count": null,
   "metadata": {},
   "outputs": [],
   "source": [
    "fp = os.path.join(Path().absolute(), \"inputs\", \"input13.txt\")\n",
    "\n",
    "with open(fp, \"r\") as f:\n",
    "    data = f.read().split(\"\\n\")"
   ]
  },
  {
   "cell_type": "markdown",
   "metadata": {},
   "source": [
    "# Part 1"
   ]
  },
  {
   "cell_type": "code",
   "execution_count": null,
   "metadata": {},
   "outputs": [],
   "source": [
    "dividers = [-1] + [idx for idx, line in enumerate(data) if line == \"\"]\n",
    "problems = [data[(dividers[i] + 1):dividers[i + 1]] for i in range(len(dividers) - 1)]"
   ]
  },
  {
   "cell_type": "code",
   "execution_count": null,
   "metadata": {},
   "outputs": [],
   "source": [
    "len(problems)"
   ]
  },
  {
   "cell_type": "code",
   "execution_count": null,
   "metadata": {},
   "outputs": [],
   "source": []
  },
  {
   "cell_type": "code",
   "execution_count": null,
   "metadata": {},
   "outputs": [],
   "source": [
    "def is_horizontal_line_of_reflection(problem, num_rows_above):\n",
    "\n",
    "    num_rows_below = len(problem) - num_rows_above\n",
    "    if num_rows_above <= num_rows_below:\n",
    "        i_start = 0\n",
    "        i_end = num_rows_above\n",
    "    else:\n",
    "        i_start = num_rows_above - num_rows_below\n",
    "        i_end = num_rows_above\n",
    "\n",
    "    for i in range(i_start, i_end):\n",
    "        if not problem[i] == problem[2 * num_rows_above - i - 1]:\n",
    "            return False\n",
    "        \n",
    "    return True"
   ]
  },
  {
   "cell_type": "code",
   "execution_count": null,
   "metadata": {},
   "outputs": [],
   "source": [
    "def is_vertical_line_of_reflection(problem, num_columns_left):\n",
    "\n",
    "    num_rows = len(problem)\n",
    "    num_columns_right = len(problem[0]) - num_columns_left\n",
    "\n",
    "    if num_columns_left <= num_columns_right:\n",
    "        i_start = 0\n",
    "        i_end = num_columns_left\n",
    "    else:\n",
    "        i_start = num_columns_left - num_columns_right\n",
    "        i_end = num_columns_left\n",
    "\n",
    "    for i in range(i_start, i_end):\n",
    "        # compare i-th column with (num_columns_left + i)-th column\n",
    "        if not all(problem[j][i] == problem[j][2 * num_columns_left - i - 1] for j in range(num_rows)):\n",
    "            return False\n",
    "        \n",
    "    return True"
   ]
  },
  {
   "cell_type": "code",
   "execution_count": null,
   "metadata": {},
   "outputs": [],
   "source": [
    "problems[0]"
   ]
  },
  {
   "cell_type": "code",
   "execution_count": null,
   "metadata": {},
   "outputs": [],
   "source": [
    "is_horizontal_line_of_reflection(problems[0], 1)"
   ]
  },
  {
   "cell_type": "code",
   "execution_count": null,
   "metadata": {},
   "outputs": [],
   "source": [
    "is_vertical_line_of_reflection(problems[0], 3)"
   ]
  },
  {
   "cell_type": "code",
   "execution_count": null,
   "metadata": {},
   "outputs": [],
   "source": [
    "def get_lines_of_reflection(problem):\n",
    "    \n",
    "    num_rows = len(problem)\n",
    "    num_cols = len(problem[0])\n",
    "\n",
    "    horizontal_lines = []\n",
    "    for num_rows_above in range(1, num_rows):\n",
    "        if is_horizontal_line_of_reflection(problem, num_rows_above):\n",
    "            horizontal_lines.append(num_rows_above)\n",
    "\n",
    "    vertical_lines = []\n",
    "    for num_columns_left in range(1, num_cols):\n",
    "        if is_vertical_line_of_reflection(problem, num_columns_left):\n",
    "            vertical_lines.append(num_columns_left)\n",
    "\n",
    "    return (horizontal_lines, vertical_lines)"
   ]
  },
  {
   "cell_type": "code",
   "execution_count": null,
   "metadata": {},
   "outputs": [],
   "source": [
    "get_lines_of_reflection(problems[0])"
   ]
  },
  {
   "cell_type": "code",
   "execution_count": null,
   "metadata": {},
   "outputs": [],
   "source": [
    "total = 0\n",
    "for problem in problems:\n",
    "    hls, vls = get_lines_of_reflection(problem)\n",
    "    print(hls, vls)\n",
    "\n",
    "    for hl in hls:\n",
    "        total += 100 * hl\n",
    "\n",
    "    for vl in vls:\n",
    "        total += vl"
   ]
  },
  {
   "cell_type": "code",
   "execution_count": null,
   "metadata": {},
   "outputs": [],
   "source": [
    "total"
   ]
  },
  {
   "cell_type": "markdown",
   "metadata": {},
   "source": [
    "# Part 2"
   ]
  },
  {
   "cell_type": "code",
   "execution_count": null,
   "metadata": {},
   "outputs": [],
   "source": [
    "total = 0\n",
    "for problem in problems:\n",
    "\n",
    "    hls, vls = get_lines_of_reflection(problem)\n",
    "    print(\"Original: \", hls, vls)\n",
    "\n",
    "    new_hls = []\n",
    "    new_vls = []\n",
    "\n",
    "    for i in range(len(problem)):\n",
    "        for j in range(len(problem[0])):\n",
    "\n",
    "            # flip symbol\n",
    "            old_symbol = problem[i][j]\n",
    "            flipped_symbol = \"#\" if old_symbol == \".\" else \".\"\n",
    "            new_row = problem[i][:j] + flipped_symbol + problem[i][(j + 1):]\n",
    "            problem_alt = problem[:i] + [new_row] + problem[(i + 1):]\n",
    "\n",
    "            hls_alt, vls_alt = get_lines_of_reflection(problem_alt)\n",
    "\n",
    "            hls_new = [x for x in hls_alt if x not in hls]\n",
    "            vls_new = [x for x in vls_alt if x not in vls]\n",
    "            if len(hls_new) > 0 or len(vls_new) > 0:\n",
    "                print(\"found alt\", hls_alt, vls_alt, i, j)\n",
    "                new_hls += hls_new\n",
    "                new_vls += vls_new\n",
    "                \n",
    "    new_hls = set(new_hls)\n",
    "    new_vls = set(new_vls)\n",
    "                \n",
    "    assert ((len(new_hls) == 1 and len(new_vls) == 0) or (len(new_hls) == 0 and len(new_vls) == 1))\n",
    "\n",
    "    for hl in new_hls:\n",
    "        total += 100 * hl\n",
    "\n",
    "    for vl in new_vls:\n",
    "        total += vl"
   ]
  },
  {
   "cell_type": "code",
   "execution_count": null,
   "metadata": {},
   "outputs": [],
   "source": [
    "total"
   ]
  },
  {
   "cell_type": "code",
   "execution_count": null,
   "metadata": {},
   "outputs": [],
   "source": []
  }
 ],
 "metadata": {
  "kernelspec": {
   "display_name": "analytico",
   "language": "python",
   "name": "python3"
  },
  "language_info": {
   "codemirror_mode": {
    "name": "ipython",
    "version": 3
   },
   "file_extension": ".py",
   "mimetype": "text/x-python",
   "name": "python",
   "nbconvert_exporter": "python",
   "pygments_lexer": "ipython3",
   "version": "3.8.2"
  }
 },
 "nbformat": 4,
 "nbformat_minor": 2
}
