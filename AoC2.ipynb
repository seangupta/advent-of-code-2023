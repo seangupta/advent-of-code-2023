{
 "cells": [
  {
   "cell_type": "code",
   "execution_count": null,
   "metadata": {},
   "outputs": [],
   "source": [
    "from pathlib import Path\n",
    "import os"
   ]
  },
  {
   "cell_type": "code",
   "execution_count": null,
   "metadata": {},
   "outputs": [],
   "source": [
    "fp = os.path.join(Path().absolute(), \"inputs\", \"input2.txt\")\n",
    "\n",
    "with open(fp, \"r\") as f:\n",
    "    data = f.readlines()"
   ]
  },
  {
   "cell_type": "code",
   "execution_count": null,
   "metadata": {},
   "outputs": [],
   "source": [
    "data[:2]"
   ]
  },
  {
   "cell_type": "markdown",
   "metadata": {},
   "source": [
    "# Part 1"
   ]
  },
  {
   "cell_type": "code",
   "execution_count": null,
   "metadata": {},
   "outputs": [],
   "source": [
    "max_colors = {\"red\": 12, \"green\": 13, \"blue\": 14}\n",
    "possible_ids = []\n",
    "\n",
    "for game in data:\n",
    "    part1, part2 = game.strip().split(\": \")\n",
    "    game_id = int(part1.split(\" \")[1])\n",
    "    sets = part2.split(\"; \")\n",
    "    # print(game_id, sets)\n",
    "    possible = True\n",
    "    for set in sets:\n",
    "        num_colors = set.split(\", \")\n",
    "        for num_color in num_colors:\n",
    "            num, color = num_color.split()\n",
    "            num = int(num)\n",
    "\n",
    "            if color not in max_colors:\n",
    "                print(\"Color not found\")\n",
    "            else:\n",
    "                max_allowed = max_colors[color]\n",
    "                if num > max_allowed:\n",
    "                    possible = False\n",
    "                    break\n",
    "        \n",
    "        if not possible:\n",
    "            break\n",
    "    \n",
    "    if possible:\n",
    "        possible_ids.append(game_id)"
   ]
  },
  {
   "cell_type": "code",
   "execution_count": null,
   "metadata": {},
   "outputs": [],
   "source": [
    "sum(possible_ids)"
   ]
  },
  {
   "cell_type": "markdown",
   "metadata": {},
   "source": [
    "# Part 2"
   ]
  },
  {
   "cell_type": "code",
   "execution_count": null,
   "metadata": {},
   "outputs": [],
   "source": [
    "set_powers = []\n",
    "\n",
    "for game in data:\n",
    "    part1, part2 = game.strip().split(\": \")\n",
    "    game_id = int(part1.split(\" \")[1])\n",
    "    sets = part2.split(\"; \")\n",
    "    # print(game_id, sets)\n",
    "\n",
    "    min_colors = {\"blue\": 0, \"green\": 0, \"red\": 0}\n",
    "\n",
    "    for set in sets:\n",
    "        num_colors = set.split(\", \")\n",
    "        for num_color in num_colors:\n",
    "            num, color = num_color.split()\n",
    "            num = int(num)\n",
    "\n",
    "            if color not in min_colors:\n",
    "                print(\"Color not found\")\n",
    "            else:\n",
    "                min_colors[color] = max(min_colors[color], num)\n",
    "    \n",
    "    set_power = min_colors[\"blue\"] * min_colors[\"green\"] * min_colors[\"red\"]\n",
    "    set_powers.append(set_power)"
   ]
  },
  {
   "cell_type": "code",
   "execution_count": null,
   "metadata": {},
   "outputs": [],
   "source": [
    "sum(set_powers)"
   ]
  },
  {
   "cell_type": "code",
   "execution_count": null,
   "metadata": {},
   "outputs": [],
   "source": []
  }
 ],
 "metadata": {
  "kernelspec": {
   "display_name": "analytico",
   "language": "python",
   "name": "python3"
  },
  "language_info": {
   "codemirror_mode": {
    "name": "ipython",
    "version": 3
   },
   "file_extension": ".py",
   "mimetype": "text/x-python",
   "name": "python",
   "nbconvert_exporter": "python",
   "pygments_lexer": "ipython3",
   "version": "3.8.2"
  }
 },
 "nbformat": 4,
 "nbformat_minor": 2
}
