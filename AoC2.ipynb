{
 "cells": [
  {
   "cell_type": "code",
   "execution_count": 1,
   "metadata": {},
   "outputs": [],
   "source": [
    "from pathlib import Path\n",
    "import os"
   ]
  },
  {
   "cell_type": "code",
   "execution_count": 2,
   "metadata": {},
   "outputs": [],
   "source": [
    "fp = os.path.join(Path().absolute(), \"inputs\", \"input2.txt\")\n",
    "\n",
    "with open(fp, \"r\") as f:\n",
    "    data = f.readlines()"
   ]
  },
  {
   "cell_type": "code",
   "execution_count": 3,
   "metadata": {},
   "outputs": [
    {
     "data": {
      "text/plain": [
       "['Game 1: 3 blue, 7 green, 10 red; 4 green, 4 red; 1 green, 7 blue, 5 red; 8 blue, 10 red; 7 blue, 19 red, 1 green\\n',\n",
       " 'Game 2: 6 red, 10 green; 11 green, 4 red; 16 green, 2 blue; 7 green, 5 blue, 4 red; 17 green, 1 red, 1 blue\\n']"
      ]
     },
     "execution_count": 3,
     "metadata": {},
     "output_type": "execute_result"
    }
   ],
   "source": [
    "data[:2]"
   ]
  },
  {
   "cell_type": "markdown",
   "metadata": {},
   "source": [
    "# Part 1"
   ]
  },
  {
   "cell_type": "code",
   "execution_count": 4,
   "metadata": {},
   "outputs": [],
   "source": [
    "max_colors = {\"red\": 12, \"green\": 13, \"blue\": 14}\n",
    "possible_ids = []\n",
    "\n",
    "for game in data:\n",
    "    part1, part2 = game.strip().split(\": \")\n",
    "    game_id = int(part1.split(\" \")[1])\n",
    "    sets = part2.split(\"; \")\n",
    "    # print(game_id, sets)\n",
    "    possible = True\n",
    "    for set in sets:\n",
    "        num_colors = set.split(\", \")\n",
    "        for num_color in num_colors:\n",
    "            num, color = num_color.split()\n",
    "            num = int(num)\n",
    "\n",
    "            if color not in max_colors:\n",
    "                print(\"Color not found\")\n",
    "            else:\n",
    "                max_allowed = max_colors[color]\n",
    "                if num > max_allowed:\n",
    "                    possible = False\n",
    "                    break\n",
    "        \n",
    "        if not possible:\n",
    "            break\n",
    "    \n",
    "    if possible:\n",
    "        possible_ids.append(game_id)"
   ]
  },
  {
   "cell_type": "code",
   "execution_count": 5,
   "metadata": {},
   "outputs": [
    {
     "data": {
      "text/plain": [
       "2162"
      ]
     },
     "execution_count": 5,
     "metadata": {},
     "output_type": "execute_result"
    }
   ],
   "source": [
    "sum(possible_ids)"
   ]
  },
  {
   "cell_type": "markdown",
   "metadata": {},
   "source": [
    "# Part 2"
   ]
  },
  {
   "cell_type": "code",
   "execution_count": 6,
   "metadata": {},
   "outputs": [],
   "source": [
    "set_powers = []\n",
    "\n",
    "for game in data:\n",
    "    part1, part2 = game.strip().split(\": \")\n",
    "    game_id = int(part1.split(\" \")[1])\n",
    "    sets = part2.split(\"; \")\n",
    "    # print(game_id, sets)\n",
    "\n",
    "    min_colors = {\"blue\": 0, \"green\": 0, \"red\": 0}\n",
    "\n",
    "    for set in sets:\n",
    "        num_colors = set.split(\", \")\n",
    "        for num_color in num_colors:\n",
    "            num, color = num_color.split()\n",
    "            num = int(num)\n",
    "\n",
    "            if color not in min_colors:\n",
    "                print(\"Color not found\")\n",
    "            else:\n",
    "                min_colors[color] = max(min_colors[color], num)\n",
    "    \n",
    "    set_power = min_colors[\"blue\"] * min_colors[\"green\"] * min_colors[\"red\"]\n",
    "    set_powers.append(set_power)"
   ]
  },
  {
   "cell_type": "code",
   "execution_count": 7,
   "metadata": {},
   "outputs": [
    {
     "data": {
      "text/plain": [
       "72513"
      ]
     },
     "execution_count": 7,
     "metadata": {},
     "output_type": "execute_result"
    }
   ],
   "source": [
    "sum(set_powers)"
   ]
  },
  {
   "cell_type": "code",
   "execution_count": null,
   "metadata": {},
   "outputs": [],
   "source": []
  }
 ],
 "metadata": {
  "kernelspec": {
   "display_name": "analytico",
   "language": "python",
   "name": "python3"
  },
  "language_info": {
   "codemirror_mode": {
    "name": "ipython",
    "version": 3
   },
   "file_extension": ".py",
   "mimetype": "text/x-python",
   "name": "python",
   "nbconvert_exporter": "python",
   "pygments_lexer": "ipython3",
   "version": "3.8.2"
  }
 },
 "nbformat": 4,
 "nbformat_minor": 2
}
