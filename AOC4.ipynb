{
 "cells": [
  {
   "cell_type": "code",
   "execution_count": null,
   "metadata": {},
   "outputs": [],
   "source": [
    "from pathlib import Path\n",
    "import os"
   ]
  },
  {
   "cell_type": "code",
   "execution_count": null,
   "metadata": {},
   "outputs": [],
   "source": [
    "fp = os.path.join(Path().absolute(), \"inputs\", \"input4.txt\")\n",
    "\n",
    "with open(fp, \"r\") as f:\n",
    "    data = f.readlines()"
   ]
  },
  {
   "cell_type": "code",
   "execution_count": null,
   "metadata": {},
   "outputs": [],
   "source": [
    "data"
   ]
  },
  {
   "cell_type": "markdown",
   "metadata": {},
   "source": [
    "# Part 1"
   ]
  },
  {
   "cell_type": "code",
   "execution_count": null,
   "metadata": {},
   "outputs": [],
   "source": [
    "total = 0\n",
    "for line in data:\n",
    "    line_stripped = line.strip()\n",
    "    line_part = line.split(\": \")[1]\n",
    "    winning_numbers, own_numbers = line_part.split(\" | \")\n",
    "    winning_numbers = winning_numbers.split()\n",
    "    own_numbers = own_numbers.split()\n",
    "\n",
    "    num_matches = len([x for x in own_numbers if x in winning_numbers])\n",
    "    score = 2 ** (num_matches - 1) if num_matches >= 1 else 0\n",
    "    total += score"
   ]
  },
  {
   "cell_type": "code",
   "execution_count": null,
   "metadata": {},
   "outputs": [],
   "source": [
    "total"
   ]
  },
  {
   "cell_type": "code",
   "execution_count": null,
   "metadata": {},
   "outputs": [],
   "source": []
  },
  {
   "cell_type": "markdown",
   "metadata": {},
   "source": [
    "# Part 2"
   ]
  },
  {
   "cell_type": "code",
   "execution_count": null,
   "metadata": {},
   "outputs": [],
   "source": [
    "num_copies = {}\n",
    "\n",
    "for line in data:\n",
    "    line_stripped = line.strip()\n",
    "    prefix, line_part = line.split(\": \")\n",
    "    card_id = int(prefix.split()[1])\n",
    "    winning_numbers, own_numbers = line_part.split(\" | \")\n",
    "    winning_numbers = winning_numbers.split()\n",
    "    own_numbers = own_numbers.split()\n",
    "\n",
    "    num_matches = len([x for x in own_numbers if x in winning_numbers])\n",
    "\n",
    "    # incl original\n",
    "    if card_id not in num_copies:\n",
    "        num_copies[card_id] = 1\n",
    "    else:\n",
    "        num_copies[card_id] += 1\n",
    "\n",
    "    for copy_id in range(card_id + 1, card_id + num_matches + 1):\n",
    "        if copy_id in num_copies:\n",
    "            num_copies[copy_id] += num_copies[card_id]\n",
    "        else:\n",
    "            num_copies[copy_id] = num_copies[card_id]\n",
    "    \n",
    "    "
   ]
  },
  {
   "cell_type": "code",
   "execution_count": null,
   "metadata": {},
   "outputs": [],
   "source": [
    "sum(num_copies.values())"
   ]
  },
  {
   "cell_type": "code",
   "execution_count": null,
   "metadata": {},
   "outputs": [],
   "source": []
  }
 ],
 "metadata": {
  "kernelspec": {
   "display_name": "analytico",
   "language": "python",
   "name": "python3"
  },
  "language_info": {
   "codemirror_mode": {
    "name": "ipython",
    "version": 3
   },
   "file_extension": ".py",
   "mimetype": "text/x-python",
   "name": "python",
   "nbconvert_exporter": "python",
   "pygments_lexer": "ipython3",
   "version": "3.8.2"
  }
 },
 "nbformat": 4,
 "nbformat_minor": 2
}
