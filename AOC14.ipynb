{
 "cells": [
  {
   "cell_type": "code",
   "execution_count": null,
   "metadata": {},
   "outputs": [],
   "source": [
    "from pathlib import Path\n",
    "import os\n",
    "import copy"
   ]
  },
  {
   "cell_type": "code",
   "execution_count": null,
   "metadata": {},
   "outputs": [],
   "source": [
    "fp = os.path.join(Path().absolute(), \"inputs\", \"input14.txt\")\n",
    "# fp = os.path.join(Path().absolute(), \"inputs\", \"input14_test.txt\")\n",
    "\n",
    "with open(fp, \"r\") as f:\n",
    "    data = f.read().split(\"\\n\")[:-1]"
   ]
  },
  {
   "cell_type": "code",
   "execution_count": null,
   "metadata": {},
   "outputs": [],
   "source": [
    "data"
   ]
  },
  {
   "cell_type": "markdown",
   "metadata": {},
   "source": [
    "# Part 1"
   ]
  },
  {
   "cell_type": "code",
   "execution_count": null,
   "metadata": {},
   "outputs": [],
   "source": [
    "num_rows = len(data)\n",
    "num_cols = len(data[0])\n",
    "data = [[data[i][j] for j in range(num_cols)] for i in range(num_rows)]"
   ]
  },
  {
   "cell_type": "code",
   "execution_count": null,
   "metadata": {},
   "outputs": [],
   "source": [
    "def tilt_north(data):\n",
    "\n",
    "    for i in range(num_cols):\n",
    "        for j in range(1, num_rows):\n",
    "            if data[j][i] == \"O\":\n",
    "                rg = range(j)\n",
    "                blockers = [idx for idx, char in zip(rg, [data[k][i] for k in rg]) if char != \".\"]\n",
    "                if len(blockers) == 0:\n",
    "                    first_blocker = -1\n",
    "                else:\n",
    "                    first_blocker = max(blockers)\n",
    "                data[first_blocker + 1][i] = data[j][i]\n",
    "                if first_blocker + 1 != j:\n",
    "                    data[j][i] = \".\"\n",
    "\n",
    "# The other ones are redundant. Could instead rotate grid and then tilt north (and rotate back).\n",
    "                    \n",
    "def tilt_south(data):\n",
    "\n",
    "    for i in range(num_cols):\n",
    "        for j in range(num_rows - 2, -1, -1):\n",
    "            if data[j][i] == \"O\":\n",
    "                rg = range(j + 1, num_rows)\n",
    "                blockers = [idx for idx, char in zip(rg, [data[k][i] for k in rg]) if char != \".\"]\n",
    "                if len(blockers) == 0:\n",
    "                    first_blocker = num_rows\n",
    "                else:\n",
    "                    first_blocker = min(blockers)\n",
    "                data[first_blocker - 1][i] = data[j][i]\n",
    "                if first_blocker - 1 != j:\n",
    "                    data[j][i] = \".\"\n",
    "\n",
    "def tilt_west(data):\n",
    "\n",
    "    for j in range(num_rows):\n",
    "        for i in range(1, num_cols):\n",
    "            if data[j][i] == \"O\":\n",
    "                rg = range(i)\n",
    "                blockers = [idx for idx, char in zip(rg, [data[j][k] for k in rg]) if char != \".\"]\n",
    "                if len(blockers) == 0:\n",
    "                    first_blocker = -1\n",
    "                else:\n",
    "                    first_blocker = max(blockers)\n",
    "                data[j][first_blocker + 1] = data[j][i]\n",
    "                if first_blocker + 1 != i:\n",
    "                    data[j][i] = \".\"\n",
    "\n",
    "\n",
    "def tilt_east(data):\n",
    "\n",
    "    for j in range(num_rows):\n",
    "        for i in range(num_cols - 2, -1, -1):\n",
    "            if data[j][i] == \"O\":\n",
    "                rg = range(i + 1, num_cols)\n",
    "                blockers = [idx for idx, char in zip(rg, [data[j][k] for k in rg]) if char != \".\"]\n",
    "                if len(blockers) == 0:\n",
    "                    first_blocker = num_cols\n",
    "                else:\n",
    "                    first_blocker = min(blockers)\n",
    "                data[j][first_blocker - 1] = data[j][i]\n",
    "                if first_blocker - 1 != i:\n",
    "                    data[j][i] = \".\""
   ]
  },
  {
   "cell_type": "code",
   "execution_count": null,
   "metadata": {},
   "outputs": [],
   "source": [
    "tilted_data = copy.deepcopy(data)\n",
    "tilt_north(tilted_data)"
   ]
  },
  {
   "cell_type": "code",
   "execution_count": null,
   "metadata": {},
   "outputs": [],
   "source": []
  },
  {
   "cell_type": "code",
   "execution_count": null,
   "metadata": {},
   "outputs": [],
   "source": [
    "def compute_load(data):\n",
    "\n",
    "    total_load = 0\n",
    "\n",
    "    for j in range(num_rows):\n",
    "        load = num_rows - j\n",
    "        for i in range(num_cols):\n",
    "            if data[j][i] == \"O\":\n",
    "                total_load += load\n",
    "\n",
    "    return total_load"
   ]
  },
  {
   "cell_type": "code",
   "execution_count": null,
   "metadata": {},
   "outputs": [],
   "source": [
    "compute_load(tilted_data)"
   ]
  },
  {
   "cell_type": "markdown",
   "metadata": {},
   "source": [
    "# Part 2"
   ]
  },
  {
   "cell_type": "code",
   "execution_count": null,
   "metadata": {},
   "outputs": [],
   "source": [
    "# tilted_data = copy.deepcopy(data)\n",
    "# tilt_south(tilted_data)"
   ]
  },
  {
   "cell_type": "code",
   "execution_count": null,
   "metadata": {},
   "outputs": [],
   "source": [
    "# tilted_data = copy.deepcopy(data)\n",
    "# tilt_west(tilted_data)"
   ]
  },
  {
   "cell_type": "code",
   "execution_count": null,
   "metadata": {},
   "outputs": [],
   "source": [
    "# tilted_data = copy.deepcopy(data)\n",
    "# tilt_east(tilted_data)"
   ]
  },
  {
   "cell_type": "code",
   "execution_count": null,
   "metadata": {},
   "outputs": [],
   "source": [
    "tilted_data = copy.deepcopy(data)\n",
    "\n",
    "N = 1000000000\n",
    "max_num = 1000\n",
    "\n",
    "loads = [None] * max_num\n",
    "long_str_hist = [None] * max_num\n",
    "period_found = False\n",
    "\n",
    "for i in range(max_num):\n",
    "    if i % 100 == 0:\n",
    "        print(i)\n",
    "\n",
    "    long_str = \"\".join(tilted_data[i][j] for i in range(num_rows) for j in range(num_cols))\n",
    "    if long_str in long_str_hist:\n",
    "        print(\"end\")\n",
    "        period_start_idx = long_str_hist.index(long_str)\n",
    "        period_found = True\n",
    "        break\n",
    "    long_str_hist[i] = long_str\n",
    "    \n",
    "    load = compute_load(tilted_data)\n",
    "    loads[i] = load\n",
    "\n",
    "    tilt_north(tilted_data)\n",
    "    tilt_west(tilted_data)\n",
    "    tilt_south(tilted_data)\n",
    "    tilt_east(tilted_data)\n",
    "\n",
    "assert period_found\n",
    "\n",
    "period = i - period_start_idx\n",
    "print(period)\n",
    "final_load = loads[period_start_idx + ((N - period_start_idx) % period)]"
   ]
  },
  {
   "cell_type": "code",
   "execution_count": null,
   "metadata": {},
   "outputs": [],
   "source": [
    "final_load"
   ]
  },
  {
   "cell_type": "code",
   "execution_count": null,
   "metadata": {},
   "outputs": [],
   "source": []
  }
 ],
 "metadata": {
  "kernelspec": {
   "display_name": "analytico",
   "language": "python",
   "name": "python3"
  },
  "language_info": {
   "codemirror_mode": {
    "name": "ipython",
    "version": 3
   },
   "file_extension": ".py",
   "mimetype": "text/x-python",
   "name": "python",
   "nbconvert_exporter": "python",
   "pygments_lexer": "ipython3",
   "version": "3.8.2"
  }
 },
 "nbformat": 4,
 "nbformat_minor": 2
}
