{
 "cells": [
  {
   "cell_type": "code",
   "execution_count": null,
   "metadata": {},
   "outputs": [],
   "source": [
    "from pathlib import Path\n",
    "import os\n",
    "import copy"
   ]
  },
  {
   "cell_type": "code",
   "execution_count": null,
   "metadata": {},
   "outputs": [],
   "source": [
    "fp = os.path.join(Path().absolute(), \"inputs\", \"input22.txt\")\n",
    "# fp = os.path.join(Path().absolute(), \"inputs\", \"input22_test.txt\")\n",
    "\n",
    "with open(fp, \"r\") as f:\n",
    "    data = f.read().split(\"\\n\")[:-1]"
   ]
  },
  {
   "cell_type": "code",
   "execution_count": null,
   "metadata": {},
   "outputs": [],
   "source": [
    "data"
   ]
  },
  {
   "cell_type": "markdown",
   "metadata": {},
   "source": [
    "# Part 1"
   ]
  },
  {
   "cell_type": "code",
   "execution_count": null,
   "metadata": {},
   "outputs": [],
   "source": [
    "class Brick:\n",
    "\n",
    "    def __init__(self, start, end):\n",
    "        self.start = start\n",
    "        self.end = end\n",
    "\n",
    "    def __str__(self):\n",
    "        return f\"{self.start}, {self.end}\"\n",
    "\n",
    "    def compute_orientation(self):\n",
    "        if self.start[0] < self.end[0]:\n",
    "            self.orientation = \"x\"\n",
    "        elif self.start[1] < self.end[1]:\n",
    "            self.orientation = \"y\"\n",
    "        elif self.start[2] < self.end[2]:\n",
    "            self.orientation = \"z\"\n",
    "        elif self.start == self.end:\n",
    "            # length-1 brick\n",
    "            self.orientation = \"x\"\n",
    "        else:\n",
    "            raise ValueError\n",
    "\n",
    "    def find_all_cubes(self):\n",
    "        if self.start[0] != self.end[0]:\n",
    "            self.all_cubes = tuple((x, self.start[1], self.start[2]) for x in range(self.start[0], self.end[0] + 1))\n",
    "        elif self.start[1] != self.end[1]:\n",
    "            self.all_cubes = tuple((self.start[0], y, self.start[2]) for y in range(self.start[1], self.end[1] + 1))\n",
    "        elif self.start[2] != self.end[2]:\n",
    "            self.all_cubes = tuple((self.start[0], self.start[1], z) for z in range(self.start[2], self.end[2] + 1))\n",
    "        else:\n",
    "            # length-1 brick\n",
    "            self.all_cubes = (self.start, )"
   ]
  },
  {
   "cell_type": "code",
   "execution_count": null,
   "metadata": {},
   "outputs": [],
   "source": [
    "bricks = []\n",
    "for line in data:\n",
    "    start, end = line.split(\"~\")\n",
    "    start = tuple(int(x) for x in start.split(\",\"))\n",
    "    end = tuple(int(x) for x in end.split(\",\"))\n",
    "    brick = Brick(start, end)\n",
    "    brick.compute_orientation()\n",
    "    brick.find_all_cubes()\n",
    "    bricks.append(brick)"
   ]
  },
  {
   "cell_type": "code",
   "execution_count": null,
   "metadata": {},
   "outputs": [],
   "source": [
    "all_cubes_all_bricks = [cube for brick in bricks for cube in brick.all_cubes]\n",
    "assert len(all_cubes_all_bricks) == len(set(all_cubes_all_bricks))"
   ]
  },
  {
   "cell_type": "code",
   "execution_count": null,
   "metadata": {},
   "outputs": [],
   "source": []
  },
  {
   "cell_type": "code",
   "execution_count": null,
   "metadata": {},
   "outputs": [],
   "source": [
    "def can_drop_one(brick, other_bricks):\n",
    "    \"\"\"Determines whether a brick can fall down one cube vertically\"\"\"\n",
    "\n",
    "    if min(brick.start[2], brick.end[2]) == 0:\n",
    "        # touching the ground already\n",
    "        return False\n",
    "    \n",
    "    if brick.orientation == \"z\":\n",
    "        # cubes_below = [[(brick.start[0], brick.start[1], brick.start[2] - 1)]\n",
    "        cubes_below = [(brick.start[0], brick.start[1], brick.start[2] - 1)] + list(brick.all_cubes[:-1])\n",
    "    else:\n",
    "        cubes_below = [(cube[0], cube[1], cube[2] - 1) for cube in brick.all_cubes]\n",
    "    \n",
    "    for cube_below in cubes_below:\n",
    "        if any(cube_below in brick.all_cubes for brick in other_bricks):\n",
    "            return False\n",
    "\n",
    "    return cubes_below\n",
    "\n",
    "def find_max_drop(brick, other_bricks):\n",
    "    \"\"\"Determines how far a brick can fall vertically if it can.\"\"\"\n",
    "\n",
    "    z_lowest = brick.start[2]\n",
    "    if z_lowest == 0:\n",
    "        # touching the ground already\n",
    "        return False\n",
    "    \n",
    "    if brick.orientation == \"z\":\n",
    "        xy_coords = [(brick.start[0], brick.start[1])]\n",
    "    else:\n",
    "        xy_coords = [(cube[0], cube[1]) for cube in brick.all_cubes]\n",
    "\n",
    "    largest_zs_other_bricks = []\n",
    "    for x, y in xy_coords:\n",
    "        largest_z_other_bricks = 0\n",
    "        for br in other_bricks:\n",
    "            for cube in br.all_cubes:\n",
    "                if cube[0] == x and cube[1] == y and cube[2] < z_lowest:\n",
    "                    if cube[2] > largest_z_other_bricks:\n",
    "                        largest_z_other_bricks = cube[2]\n",
    "                        # if largest_z_other_bricks >= z_lowest:\n",
    "                        #     break\n",
    "        largest_zs_other_bricks.append(largest_z_other_bricks)\n",
    "\n",
    "    largest_z_other_bricks_overall = max(largest_zs_other_bricks)\n",
    "    diff = z_lowest - largest_z_other_bricks_overall\n",
    "    if diff > 1:\n",
    "        new_start = (brick.start[0], brick.start[1], brick.start[2] - diff + 1)\n",
    "        new_end = (brick.end[0], brick.end[1], brick.end[2] - diff + 1)\n",
    "        return (new_start, new_end)\n",
    "    else:\n",
    "        return False\n",
    "\n",
    "def find_supporting_bricks(brick, other_bricks):\n",
    "    \"\"\"Determines number of supporting bricks below\"\"\"\n",
    "\n",
    "    if min(brick.start[2], brick.end[2]) == 0:\n",
    "        # touching the ground already\n",
    "        return []\n",
    "    \n",
    "    if brick.orientation == \"z\":\n",
    "        # cubes_below = [[(brick.start[0], brick.start[1], brick.start[2] - 1)]\n",
    "        cubes_below = [(brick.start[0], brick.start[1], brick.start[2] - 1)] + list(brick.all_cubes[:-1])\n",
    "    else:\n",
    "        cubes_below = [(cube[0], cube[1], cube[2] - 1) for cube in brick.all_cubes]\n",
    "    \n",
    "    supporting_bricks = []\n",
    "    for brick in other_bricks:\n",
    "        if any(cube in brick.all_cubes for cube in cubes_below):\n",
    "            supporting_bricks.append(brick)\n",
    "\n",
    "    return supporting_bricks"
   ]
  },
  {
   "cell_type": "code",
   "execution_count": null,
   "metadata": {},
   "outputs": [],
   "source": [
    "# sort by lowest cube\n",
    "bricks = sorted(bricks, key=lambda brick: min(brick.start[2], brick.end[2]))\n",
    "for brick in bricks:\n",
    "    print(brick)"
   ]
  },
  {
   "cell_type": "code",
   "execution_count": null,
   "metadata": {},
   "outputs": [],
   "source": [
    "# TOO SLOW\n",
    "# def let_bricks_fall(bricks, verbose=True):\n",
    "\n",
    "#     for i, brick in enumerate(bricks):\n",
    "#         if verbose:\n",
    "#             print(i)\n",
    "\n",
    "#         other_bricks = [br for br in bricks if br != brick]\n",
    "#         assert len(other_bricks) == len(bricks) - 1\n",
    "\n",
    "#         brick_current = brick\n",
    "#         while True:\n",
    "#             res = can_drop_one(brick_current, other_bricks)\n",
    "#             if res != False:\n",
    "#                 start = res[0]\n",
    "#                 end = res[-1]\n",
    "#                 all_cubes = res\n",
    "\n",
    "#                 brick_current = Brick(start, end)\n",
    "#                 brick_current.orientation = brick.orientation\n",
    "#                 brick_current.all_cubes = all_cubes\n",
    "#             else:\n",
    "#                 break\n",
    "            \n",
    "#         bricks[i] = brick_current\n",
    "\n",
    "#     return bricks\n",
    "\n",
    "def let_bricks_fall_alt(bricks, verbose=True):\n",
    "\n",
    "    for i, brick in enumerate(bricks):\n",
    "        if verbose:\n",
    "            print(i)\n",
    "\n",
    "        other_bricks = [br for j, br in enumerate(bricks) if j != i]\n",
    "\n",
    "        res = find_max_drop(brick, other_bricks)\n",
    "        if res != False:\n",
    "            start, end = res\n",
    "\n",
    "            brick_new = Brick(start, end)\n",
    "            brick_new.orientation = brick.orientation\n",
    "            brick_new.find_all_cubes()\n",
    "            \n",
    "            bricks[i] = brick_new\n",
    "\n",
    "    return bricks"
   ]
  },
  {
   "cell_type": "code",
   "execution_count": null,
   "metadata": {},
   "outputs": [],
   "source": [
    "bricks = let_bricks_fall_alt(bricks)"
   ]
  },
  {
   "cell_type": "code",
   "execution_count": null,
   "metadata": {},
   "outputs": [],
   "source": [
    "# sort by lowest cube\n",
    "bricks = sorted(bricks, key=lambda brick: min(brick.start[2], brick.end[2]))\n",
    "for brick in bricks:\n",
    "    print(brick)"
   ]
  },
  {
   "cell_type": "code",
   "execution_count": null,
   "metadata": {},
   "outputs": [],
   "source": [
    "bricks_that_cannot_be_disintegrated = []\n",
    "\n",
    "for i, brick in enumerate(bricks):\n",
    "    print(i)\n",
    "    other_bricks = [br for br in bricks if br != brick]\n",
    "    assert len(other_bricks) == len(bricks) - 1\n",
    "\n",
    "    supporting_bricks = find_supporting_bricks(brick, other_bricks)\n",
    "    if len(supporting_bricks) == 1 and supporting_bricks[0] not in bricks_that_cannot_be_disintegrated:\n",
    "        bricks_that_cannot_be_disintegrated.append(supporting_bricks[0])"
   ]
  },
  {
   "cell_type": "code",
   "execution_count": null,
   "metadata": {},
   "outputs": [],
   "source": [
    "len(bricks)"
   ]
  },
  {
   "cell_type": "code",
   "execution_count": null,
   "metadata": {},
   "outputs": [],
   "source": [
    "len(bricks_that_cannot_be_disintegrated)"
   ]
  },
  {
   "cell_type": "code",
   "execution_count": null,
   "metadata": {},
   "outputs": [],
   "source": [
    "len(bricks) - len(bricks_that_cannot_be_disintegrated)"
   ]
  },
  {
   "cell_type": "code",
   "execution_count": null,
   "metadata": {},
   "outputs": [],
   "source": []
  },
  {
   "cell_type": "markdown",
   "metadata": {},
   "source": [
    "# Part 2"
   ]
  },
  {
   "cell_type": "code",
   "execution_count": null,
   "metadata": {},
   "outputs": [],
   "source": [
    "num_dislodged_bricks_total = 0\n",
    "\n",
    "bricks_original = copy.deepcopy(bricks)\n",
    "for i in range(len(bricks)):\n",
    "    print(f\"Excluding brick {i}\")\n",
    "    bricks_excl_one = copy.deepcopy(bricks_original[:i] + bricks_original[(i + 1):])\n",
    "    bricks_excl_one_original = copy.deepcopy(bricks_excl_one)\n",
    "\n",
    "    bricks_result = let_bricks_fall_alt(bricks_excl_one, verbose=False)\n",
    "\n",
    "    num_dislodged_bricks = sum(1 for brick_original, brick_new in zip(bricks_excl_one_original, bricks_result) if brick_original.all_cubes != brick_new.all_cubes)\n",
    "    print(f\"{num_dislodged_bricks = }\")\n",
    "    num_dislodged_bricks_total += num_dislodged_bricks"
   ]
  },
  {
   "cell_type": "code",
   "execution_count": null,
   "metadata": {},
   "outputs": [],
   "source": [
    "print(num_dislodged_bricks_total)"
   ]
  },
  {
   "cell_type": "code",
   "execution_count": null,
   "metadata": {},
   "outputs": [],
   "source": []
  },
  {
   "cell_type": "code",
   "execution_count": null,
   "metadata": {},
   "outputs": [],
   "source": []
  },
  {
   "cell_type": "code",
   "execution_count": null,
   "metadata": {},
   "outputs": [],
   "source": []
  }
 ],
 "metadata": {
  "kernelspec": {
   "display_name": "analytico",
   "language": "python",
   "name": "python3"
  },
  "language_info": {
   "codemirror_mode": {
    "name": "ipython",
    "version": 3
   },
   "file_extension": ".py",
   "mimetype": "text/x-python",
   "name": "python",
   "nbconvert_exporter": "python",
   "pygments_lexer": "ipython3",
   "version": "3.8.2"
  }
 },
 "nbformat": 4,
 "nbformat_minor": 2
}
