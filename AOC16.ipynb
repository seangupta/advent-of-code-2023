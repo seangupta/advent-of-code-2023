{
 "cells": [
  {
   "cell_type": "code",
   "execution_count": null,
   "metadata": {},
   "outputs": [],
   "source": [
    "from pathlib import Path\n",
    "import os"
   ]
  },
  {
   "cell_type": "code",
   "execution_count": null,
   "metadata": {},
   "outputs": [],
   "source": [
    "fp = os.path.join(Path().absolute(), \"inputs\", \"input16.txt\")\n",
    "# fp = os.path.join(Path().absolute(), \"inputs\", \"input16_test.txt\")\n",
    "\n",
    "with open(fp, \"r\") as f:\n",
    "    data = f.read().split(\"\\n\")[:-1]"
   ]
  },
  {
   "cell_type": "code",
   "execution_count": null,
   "metadata": {},
   "outputs": [],
   "source": [
    "data"
   ]
  },
  {
   "cell_type": "markdown",
   "metadata": {},
   "source": [
    "# Part 1"
   ]
  },
  {
   "cell_type": "code",
   "execution_count": null,
   "metadata": {},
   "outputs": [],
   "source": [
    "num_rows = len(data)\n",
    "num_cols = len(data[0])\n",
    "print(num_rows, num_cols)"
   ]
  },
  {
   "cell_type": "code",
   "execution_count": null,
   "metadata": {},
   "outputs": [],
   "source": [
    "def process_dot(loc_x, loc_y, dir):\n",
    "    if dir == \"N\":\n",
    "        next_loc_x = loc_x - 1\n",
    "        next_loc_y = loc_y\n",
    "    elif dir == \"S\":\n",
    "        next_loc_x = loc_x + 1\n",
    "        next_loc_y = loc_y\n",
    "    elif dir == \"W\":\n",
    "        next_loc_x = loc_x\n",
    "        next_loc_y = loc_y - 1\n",
    "    elif dir == \"E\":\n",
    "        next_loc_x = loc_x\n",
    "        next_loc_y = loc_y + 1\n",
    "    \n",
    "    next_dir = dir\n",
    "\n",
    "    return (next_loc_x, next_loc_y, next_dir)\n",
    "\n",
    "\n",
    "def process_forward_slash(loc_x, loc_y, dir):\n",
    "    \n",
    "    if dir == \"N\":\n",
    "        next_loc_x = loc_x\n",
    "        next_loc_y = loc_y + 1\n",
    "        next_dir = \"E\"\n",
    "    elif dir == \"S\":\n",
    "        next_loc_x = loc_x\n",
    "        next_loc_y = loc_y - 1\n",
    "        next_dir = \"W\"\n",
    "    elif dir == \"W\":\n",
    "        next_loc_x = loc_x + 1\n",
    "        next_loc_y = loc_y\n",
    "        next_dir = \"S\"\n",
    "    elif dir == \"E\":\n",
    "        next_loc_x = loc_x - 1\n",
    "        next_loc_y = loc_y\n",
    "        next_dir = \"N\"\n",
    "\n",
    "    return (next_loc_x, next_loc_y, next_dir)\n",
    "\n",
    "\n",
    "\n",
    "def process_back_slash(loc_x, loc_y, dir):\n",
    "\n",
    "    if dir == \"N\":\n",
    "        next_loc_x = loc_x\n",
    "        next_loc_y = loc_y - 1\n",
    "        next_dir = \"W\"\n",
    "    elif dir == \"S\":\n",
    "        next_loc_x = loc_x\n",
    "        next_loc_y = loc_y + 1\n",
    "        next_dir = \"E\"\n",
    "    elif dir == \"W\":\n",
    "        next_loc_x = loc_x - 1\n",
    "        next_loc_y = loc_y\n",
    "        next_dir = \"N\"\n",
    "    elif dir == \"E\":\n",
    "        next_loc_x = loc_x + 1\n",
    "        next_loc_y = loc_y\n",
    "        next_dir = \"S\"\n",
    "\n",
    "    return (next_loc_x, next_loc_y, next_dir)"
   ]
  },
  {
   "cell_type": "code",
   "execution_count": null,
   "metadata": {},
   "outputs": [],
   "source": [
    "def find_followed_states(loc_x_initial, loc_y_initial, dir_initial):\n",
    "\n",
    "    followed = []\n",
    "    to_follow = [(loc_x_initial, loc_y_initial, dir_initial)]\n",
    "    # num_iter = 50\n",
    "\n",
    "    # i = 0\n",
    "    while len(to_follow) > 0:\n",
    "        old_tuple = to_follow.pop()\n",
    "        followed.append(old_tuple)\n",
    "        loc_x, loc_y, dir = old_tuple\n",
    "        follow_candidates = []\n",
    "\n",
    "        if data[loc_x][loc_y] == \".\":\n",
    "            follow_candidate = process_dot(loc_x, loc_y, dir)\n",
    "            follow_candidates.append(follow_candidate)\n",
    "\n",
    "        elif data[loc_x][loc_y] == \"/\":\n",
    "            follow_candidate = process_forward_slash(loc_x, loc_y, dir)\n",
    "            follow_candidates.append(follow_candidate)\n",
    "\n",
    "        elif data[loc_x][loc_y] == \"\\\\\":\n",
    "            follow_candidate = process_back_slash(loc_x, loc_y, dir)\n",
    "            follow_candidates.append(follow_candidate)\n",
    "\n",
    "        elif data[loc_x][loc_y] == \"|\":\n",
    "            if dir == \"N\" or dir == \"S\":\n",
    "                follow_candidate = process_dot(loc_x, loc_y, dir)\n",
    "                follow_candidates.append(follow_candidate)\n",
    "            elif dir == \"W\" or dir == \"E\":\n",
    "                # split into two beams\n",
    "\n",
    "                follow_candidate = process_forward_slash(loc_x, loc_y, dir)\n",
    "                follow_candidates.append(follow_candidate)\n",
    "\n",
    "                follow_candidate = process_back_slash(loc_x, loc_y, dir)\n",
    "                follow_candidates.append(follow_candidate)\n",
    "\n",
    "        elif data[loc_x][loc_y] == \"-\":\n",
    "            if dir == \"W\" or dir == \"E\":\n",
    "                follow_candidate = process_dot(loc_x, loc_y, dir)\n",
    "                follow_candidates.append(follow_candidate)\n",
    "            elif dir == \"N\" or dir == \"S\":\n",
    "                # split into two beams\n",
    "\n",
    "                follow_candidate = process_forward_slash(loc_x, loc_y, dir)\n",
    "                follow_candidates.append(follow_candidate)\n",
    "\n",
    "                follow_candidate = process_back_slash(loc_x, loc_y, dir)\n",
    "                follow_candidates.append(follow_candidate)\n",
    "        else:\n",
    "            raise ValueError\n",
    "        \n",
    "        for follow_candidate in follow_candidates:\n",
    "            next_loc_x, next_loc_y, next_dir = follow_candidate\n",
    "            if 0 <= next_loc_x <= num_rows - 1 and 0 <= next_loc_y <= num_cols - 1:\n",
    "                # valid\n",
    "                if follow_candidate not in followed:\n",
    "                    to_follow.append(follow_candidate)\n",
    "\n",
    "        # if i <= num_iter:\n",
    "        #     print(i, \" Followed: \", followed, \"to_follow: \", to_follow)\n",
    "        \n",
    "        # i += 1\n",
    "                    \n",
    "    return followed"
   ]
  },
  {
   "cell_type": "code",
   "execution_count": null,
   "metadata": {},
   "outputs": [],
   "source": [
    "def find_followed_states_recursive(loc_x, loc_y, dir):\n",
    "    print(loc_x, loc_y, dir)\n",
    "    follow_candidates = []\n",
    "\n",
    "    if data[loc_x][loc_y] == \".\":\n",
    "        follow_candidate = process_dot(loc_x, loc_y, dir)\n",
    "        follow_candidates.append(follow_candidate)\n",
    "\n",
    "    elif data[loc_x][loc_y] == \"/\":\n",
    "        follow_candidate = process_forward_slash(loc_x, loc_y, dir)\n",
    "        follow_candidates.append(follow_candidate)\n",
    "\n",
    "    elif data[loc_x][loc_y] == \"\\\\\":\n",
    "        follow_candidate = process_back_slash(loc_x, loc_y, dir)\n",
    "        follow_candidates.append(follow_candidate)\n",
    "\n",
    "    elif data[loc_x][loc_y] == \"|\":\n",
    "        if dir == \"N\" or dir == \"S\":\n",
    "            follow_candidate = process_dot(loc_x, loc_y, dir)\n",
    "            follow_candidates.append(follow_candidate)\n",
    "        elif dir == \"W\" or dir == \"E\":\n",
    "            # split into two beams\n",
    "\n",
    "            follow_candidate = process_forward_slash(loc_x, loc_y, dir)\n",
    "            follow_candidates.append(follow_candidate)\n",
    "\n",
    "            follow_candidate = process_back_slash(loc_x, loc_y, dir)\n",
    "            follow_candidates.append(follow_candidate)\n",
    "\n",
    "    elif data[loc_x][loc_y] == \"-\":\n",
    "        if dir == \"W\" or dir == \"E\":\n",
    "            follow_candidate = process_dot(loc_x, loc_y, dir)\n",
    "            follow_candidates.append(follow_candidate)\n",
    "        elif dir == \"N\" or dir == \"S\":\n",
    "            # split into two beams\n",
    "\n",
    "            follow_candidate = process_forward_slash(loc_x, loc_y, dir)\n",
    "            follow_candidates.append(follow_candidate)\n",
    "\n",
    "            follow_candidate = process_back_slash(loc_x, loc_y, dir)\n",
    "            follow_candidates.append(follow_candidate)\n",
    "    else:\n",
    "        raise ValueError\n",
    "    \n",
    "    to_follow = []\n",
    "    for follow_candidate in follow_candidates:\n",
    "        next_loc_x, next_loc_y, next_dir = follow_candidate\n",
    "        if 0 <= next_loc_x <= num_rows - 1 and 0 <= next_loc_y <= num_cols - 1:\n",
    "            # valid\n",
    "            if follow_candidate != (loc_x, loc_y, dir):\n",
    "                to_follow.append(follow_candidate)\n",
    "                    \n",
    "    return list(set([(loc_x, loc_y, dir)] + [find_followed_states_recursive(*next_state) for next_state in to_follow]))"
   ]
  },
  {
   "cell_type": "code",
   "execution_count": null,
   "metadata": {},
   "outputs": [],
   "source": [
    "def find_num_energised_states(loc_x_initial, loc_y_initial, dir_initial):\n",
    "\n",
    "    followed = find_followed_states(loc_x_initial, loc_y_initial, dir_initial)\n",
    "    # followed = find_followed_states_recursive(loc_x_initial, loc_y_initial, dir_initial)\n",
    "    energised = set([(loc_x, loc_y) for loc_x, loc_y, dir in followed])\n",
    "    return len(energised)"
   ]
  },
  {
   "cell_type": "code",
   "execution_count": null,
   "metadata": {},
   "outputs": [],
   "source": [
    "find_num_energised_states(0, 0, \"E\")"
   ]
  },
  {
   "cell_type": "markdown",
   "metadata": {},
   "source": [
    "# Part 2"
   ]
  },
  {
   "cell_type": "code",
   "execution_count": null,
   "metadata": {},
   "outputs": [],
   "source": [
    "start_states = [\n",
    "    (loc_x, 0, \"E\") for loc_x in range(num_rows)\n",
    "    ] + [\n",
    "        (loc_x, num_cols - 1, \"W\") for loc_x in range(num_rows)\n",
    "        ] + [\n",
    "            (0, loc_y, \"S\") for loc_y in range(num_cols)\n",
    "            ] + [\n",
    "                (num_rows - 1, loc_y, \"N\") for loc_y in range(num_cols)\n",
    "                ]"
   ]
  },
  {
   "cell_type": "code",
   "execution_count": null,
   "metadata": {},
   "outputs": [],
   "source": [
    "len(start_states)"
   ]
  },
  {
   "cell_type": "code",
   "execution_count": null,
   "metadata": {},
   "outputs": [],
   "source": [
    "max_num_energised_states = -float(\"inf\")\n",
    "for idx, start_state in enumerate(start_states):\n",
    "    print(idx)\n",
    "    num_energised_states = find_num_energised_states(*start_state)\n",
    "    if num_energised_states > max_num_energised_states:\n",
    "        max_num_energised_states = num_energised_states"
   ]
  },
  {
   "cell_type": "code",
   "execution_count": null,
   "metadata": {},
   "outputs": [],
   "source": [
    "print(max_num_energised_states)"
   ]
  },
  {
   "cell_type": "code",
   "execution_count": null,
   "metadata": {},
   "outputs": [],
   "source": []
  }
 ],
 "metadata": {
  "kernelspec": {
   "display_name": "analytico",
   "language": "python",
   "name": "python3"
  },
  "language_info": {
   "codemirror_mode": {
    "name": "ipython",
    "version": 3
   },
   "file_extension": ".py",
   "mimetype": "text/x-python",
   "name": "python",
   "nbconvert_exporter": "python",
   "pygments_lexer": "ipython3",
   "version": "3.8.2"
  }
 },
 "nbformat": 4,
 "nbformat_minor": 2
}
