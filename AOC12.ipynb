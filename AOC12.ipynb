{
 "cells": [
  {
   "cell_type": "code",
   "execution_count": null,
   "metadata": {},
   "outputs": [],
   "source": [
    "from pathlib import Path\n",
    "import os\n",
    "import functools\n",
    "from itertools import chain, combinations"
   ]
  },
  {
   "cell_type": "code",
   "execution_count": null,
   "metadata": {},
   "outputs": [],
   "source": [
    "fp = os.path.join(Path().absolute(), \"inputs\", \"input12.txt\")\n",
    "# fp = os.path.join(Path().absolute(), \"inputs\", \"input12_test.txt\")\n",
    "\n",
    "with open(fp, \"r\") as f:\n",
    "    data = f.read().split(\"\\n\")[:-1]"
   ]
  },
  {
   "cell_type": "code",
   "execution_count": null,
   "metadata": {},
   "outputs": [],
   "source": [
    "data"
   ]
  },
  {
   "cell_type": "markdown",
   "metadata": {},
   "source": [
    "# Part 1"
   ]
  },
  {
   "cell_type": "code",
   "execution_count": null,
   "metadata": {},
   "outputs": [],
   "source": [
    "for line in data:\n",
    "    pattern, groups = line.split()\n",
    "    groups = [int(x) for x in groups.split(\",\")]"
   ]
  },
  {
   "cell_type": "code",
   "execution_count": null,
   "metadata": {},
   "outputs": [],
   "source": [
    "def powerset(s):\n",
    "    \"powerset([1,2,3]) --> () (1,) (2,) (3,) (1,2) (1,3) (2,3) (1,2,3)\"\n",
    "    return list(chain.from_iterable(combinations(s, r) for r in range(len(s)+1)))"
   ]
  },
  {
   "cell_type": "code",
   "execution_count": null,
   "metadata": {},
   "outputs": [],
   "source": [
    "list(powerset([1,2,3]))"
   ]
  },
  {
   "cell_type": "code",
   "execution_count": null,
   "metadata": {},
   "outputs": [],
   "source": [
    "def is_valid(pattern_new, groups):\n",
    "\n",
    "    hash_indices = [idx for idx, char in enumerate(pattern_new) if char == \"#\"]\n",
    "    dividers = [i for i in range(len(hash_indices) - 1) if hash_indices[i + 1] - hash_indices[i] > 1]\n",
    "    dividers = [-1] + dividers + [len(hash_indices) - 1]\n",
    "    groups_found = [dividers[i + 1] - dividers[i] for i in range(len(dividers) - 1)]\n",
    "    return groups == groups_found"
   ]
  },
  {
   "cell_type": "code",
   "execution_count": null,
   "metadata": {},
   "outputs": [],
   "source": [
    "is_valid(\".###.##.#...\", [3, 2, 1])"
   ]
  },
  {
   "cell_type": "code",
   "execution_count": null,
   "metadata": {},
   "outputs": [],
   "source": [
    "def get_num_arrangements(pattern, groups):\n",
    "\n",
    "    fields_to_replace = [idx for idx, char in enumerate(pattern) if char == \"?\"]\n",
    "    # subsets = powerset(fields_to_replace)\n",
    "\n",
    "    num_hashes_already_filled_in = len([char for char in pattern if char == \"#\"])\n",
    "    num_hashes_required = sum(groups)\n",
    "    num_hashes_to_add = num_hashes_required - num_hashes_already_filled_in\n",
    "    subsets = list(combinations(fields_to_replace, num_hashes_to_add))\n",
    "    print(len(subsets))\n",
    "\n",
    "    num_valid_arrangements = 0\n",
    "    for subset in subsets:\n",
    "\n",
    "        pattern_new = [None] * len(pattern)\n",
    "        for idx, char in enumerate(pattern):\n",
    "            if idx in fields_to_replace:\n",
    "                if idx in subset:\n",
    "                    pattern_new[idx] = \"#\"\n",
    "                else:\n",
    "                    pattern_new[idx] = \".\"\n",
    "            else:\n",
    "                pattern_new[idx] = char \n",
    "\n",
    "        pattern_new = \"\".join(pattern_new)\n",
    "\n",
    "        if is_valid(pattern_new, groups):\n",
    "            num_valid_arrangements += 1\n",
    "\n",
    "    return num_valid_arrangements"
   ]
  },
  {
   "cell_type": "code",
   "execution_count": null,
   "metadata": {},
   "outputs": [],
   "source": []
  },
  {
   "cell_type": "code",
   "execution_count": null,
   "metadata": {},
   "outputs": [],
   "source": [
    "total = 0\n",
    "for i, line in enumerate(data):\n",
    "    print(i, line)\n",
    "    pattern, groups = line.split()\n",
    "    groups = [int(x) for x in groups.split(\",\")]\n",
    "    num = get_num_arrangements(pattern, groups)\n",
    "    total += num"
   ]
  },
  {
   "cell_type": "code",
   "execution_count": null,
   "metadata": {},
   "outputs": [],
   "source": [
    "total"
   ]
  },
  {
   "cell_type": "code",
   "execution_count": null,
   "metadata": {},
   "outputs": [],
   "source": []
  },
  {
   "cell_type": "markdown",
   "metadata": {},
   "source": [
    "# Part 2"
   ]
  },
  {
   "cell_type": "code",
   "execution_count": null,
   "metadata": {},
   "outputs": [],
   "source": [
    "@functools.lru_cache(maxsize=None)\n",
    "def get_num_arrangements_recursive(pattern, groups):\n",
    "\n",
    "    if len(groups) == 0:\n",
    "\n",
    "        if \"#\" in pattern:\n",
    "            return 0\n",
    "        else:\n",
    "            return 1\n",
    "        \n",
    "    if len(pattern) == 0:\n",
    "        return 0\n",
    "    \n",
    "    if pattern[0] == \"?\":\n",
    "        return get_num_arrangements_recursive(\"#\" + pattern[1:], groups) + get_num_arrangements_recursive(\".\" + pattern[1:], groups)\n",
    "    \n",
    "    elif pattern[0] == \".\":\n",
    "        return get_num_arrangements_recursive(pattern[1:], groups)\n",
    "    \n",
    "    elif pattern[0] == \"#\":\n",
    "        first_group = groups[0]\n",
    "        if len(pattern) < first_group:\n",
    "            return 0\n",
    "        elif len(pattern) > first_group and pattern[first_group] == \"#\":\n",
    "            # Won't have a separator after filling in #s\n",
    "            return 0\n",
    "        elif \".\" in pattern[:first_group]:\n",
    "            return 0\n",
    "        elif len(pattern) == first_group:\n",
    "            if len(groups) == 1:\n",
    "                return 1\n",
    "            else:\n",
    "                return 0\n",
    "        else:\n",
    "            new_pattern = pattern[(first_group + 1):] # replacing first first_group characters with # and then a .\n",
    "            new_groups = groups[1:]\n",
    "\n",
    "            return get_num_arrangements_recursive(new_pattern, new_groups)\n",
    "\n",
    "    else:\n",
    "        raise ValueError"
   ]
  },
  {
   "cell_type": "markdown",
   "metadata": {},
   "source": [
    "Using recursive approach is MUCH faster. Still get the same result as before on original data."
   ]
  },
  {
   "cell_type": "code",
   "execution_count": null,
   "metadata": {},
   "outputs": [],
   "source": [
    "total = 0\n",
    "for i, line in enumerate(data):\n",
    "    print(i, line)\n",
    "    pattern, groups = line.split()\n",
    "    groups = tuple(int(x) for x in groups.split(\",\"))\n",
    "    num = get_num_arrangements_recursive(pattern, groups)\n",
    "    total += num"
   ]
  },
  {
   "cell_type": "code",
   "execution_count": null,
   "metadata": {},
   "outputs": [],
   "source": [
    "total"
   ]
  },
  {
   "cell_type": "code",
   "execution_count": null,
   "metadata": {},
   "outputs": [],
   "source": []
  },
  {
   "cell_type": "code",
   "execution_count": null,
   "metadata": {},
   "outputs": [],
   "source": [
    "total = 0\n",
    "for i, line in enumerate(data):\n",
    "    print(i, line)\n",
    "    pattern, groups = line.split()\n",
    "    groups = tuple(int(x) for x in groups.split(\",\"))\n",
    "\n",
    "    pattern = \"?\".join([pattern] * 5)\n",
    "    groups = groups * 5\n",
    "\n",
    "    num = get_num_arrangements_recursive(pattern, groups)\n",
    "    total += num"
   ]
  },
  {
   "cell_type": "code",
   "execution_count": null,
   "metadata": {},
   "outputs": [],
   "source": [
    "total"
   ]
  },
  {
   "cell_type": "code",
   "execution_count": null,
   "metadata": {},
   "outputs": [],
   "source": []
  },
  {
   "cell_type": "code",
   "execution_count": null,
   "metadata": {},
   "outputs": [],
   "source": []
  },
  {
   "cell_type": "code",
   "execution_count": null,
   "metadata": {},
   "outputs": [],
   "source": []
  },
  {
   "cell_type": "code",
   "execution_count": null,
   "metadata": {},
   "outputs": [],
   "source": []
  }
 ],
 "metadata": {
  "kernelspec": {
   "display_name": "analytico",
   "language": "python",
   "name": "python3"
  },
  "language_info": {
   "codemirror_mode": {
    "name": "ipython",
    "version": 3
   },
   "file_extension": ".py",
   "mimetype": "text/x-python",
   "name": "python",
   "nbconvert_exporter": "python",
   "pygments_lexer": "ipython3",
   "version": "3.8.2"
  }
 },
 "nbformat": 4,
 "nbformat_minor": 2
}
