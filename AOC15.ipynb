{
 "cells": [
  {
   "cell_type": "code",
   "execution_count": null,
   "metadata": {},
   "outputs": [],
   "source": [
    "from pathlib import Path\n",
    "import os"
   ]
  },
  {
   "cell_type": "code",
   "execution_count": null,
   "metadata": {},
   "outputs": [],
   "source": [
    "fp = os.path.join(Path().absolute(), \"inputs\", \"input15.txt\")\n",
    "\n",
    "with open(fp, \"r\") as f:\n",
    "    data = f.read().split(\"\\n\")[0]"
   ]
  },
  {
   "cell_type": "code",
   "execution_count": null,
   "metadata": {},
   "outputs": [],
   "source": [
    "data"
   ]
  },
  {
   "cell_type": "markdown",
   "metadata": {},
   "source": [
    "# Part 1"
   ]
  },
  {
   "cell_type": "code",
   "execution_count": null,
   "metadata": {},
   "outputs": [],
   "source": [
    "def get_val(seq):\n",
    "    current_value = 0\n",
    "    for char in seq:\n",
    "        ascii_val = ord(char)\n",
    "        current_value += ascii_val\n",
    "        current_value *= 17\n",
    "        current_value %= 256\n",
    "\n",
    "    return current_value"
   ]
  },
  {
   "cell_type": "code",
   "execution_count": null,
   "metadata": {},
   "outputs": [],
   "source": [
    "seqs = data.split(\",\")\n",
    "total = 0\n",
    "for seq in seqs:\n",
    "    val = get_val(seq)\n",
    "    total += val\n",
    "\n",
    "print(total)"
   ]
  },
  {
   "cell_type": "markdown",
   "metadata": {},
   "source": [
    "# Part 2"
   ]
  },
  {
   "cell_type": "code",
   "execution_count": null,
   "metadata": {},
   "outputs": [],
   "source": [
    "boxes = [[] for _ in range(256)]\n",
    "\n",
    "for seq in seqs:\n",
    "\n",
    "    if \"=\" in seq:\n",
    "        label, focal_length = seq.split(\"=\")\n",
    "        focal_length = int(focal_length)\n",
    "        box_num = get_val(label)\n",
    "        existing_labels = [i for i, (l, f) in enumerate(boxes[box_num]) if l == label]\n",
    "        assert len(existing_labels) <= 1\n",
    "        if len(existing_labels) == 1:\n",
    "            idx = existing_labels[0]\n",
    "            boxes[box_num][idx] = (label, focal_length)\n",
    "        else:\n",
    "            boxes[box_num].append((label, focal_length))\n",
    "\n",
    "    elif \"-\" in seq:\n",
    "        label = seq[:-1]\n",
    "        box_num = get_val(label)\n",
    "        boxes[box_num] = [(l, f) for l, f in boxes[box_num] if l != label]\n",
    "\n",
    "    else:\n",
    "        raise ValueError"
   ]
  },
  {
   "cell_type": "code",
   "execution_count": null,
   "metadata": {},
   "outputs": [],
   "source": [
    "boxes"
   ]
  },
  {
   "cell_type": "code",
   "execution_count": null,
   "metadata": {},
   "outputs": [],
   "source": [
    "total = 0\n",
    "for box_num, box in enumerate(boxes):\n",
    "    for i, (l, f) in enumerate(box):\n",
    "        power = (box_num + 1) * (i + 1) * f\n",
    "        total += power\n",
    "\n",
    "print(total)"
   ]
  },
  {
   "cell_type": "code",
   "execution_count": null,
   "metadata": {},
   "outputs": [],
   "source": []
  }
 ],
 "metadata": {
  "kernelspec": {
   "display_name": "analytico",
   "language": "python",
   "name": "python3"
  },
  "language_info": {
   "codemirror_mode": {
    "name": "ipython",
    "version": 3
   },
   "file_extension": ".py",
   "mimetype": "text/x-python",
   "name": "python",
   "nbconvert_exporter": "python",
   "pygments_lexer": "ipython3",
   "version": "3.8.2"
  }
 },
 "nbformat": 4,
 "nbformat_minor": 2
}
